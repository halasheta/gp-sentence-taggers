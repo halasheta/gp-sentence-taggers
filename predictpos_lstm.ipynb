{
 "cells": [
  {
   "cell_type": "code",
   "execution_count": 1,
   "id": "039d58f1",
   "metadata": {},
   "outputs": [
    {
     "name": "stderr",
     "output_type": "stream",
     "text": [
      "2023-03-26 01:05:16.854794: I tensorflow/core/platform/cpu_feature_guard.cc:193] This TensorFlow binary is optimized with oneAPI Deep Neural Network Library (oneDNN) to use the following CPU instructions in performance-critical operations:  AVX2 FMA\n",
      "To enable them in other operations, rebuild TensorFlow with the appropriate compiler flags.\n",
      "2023-03-26 01:05:25.819546: I tensorflow/core/platform/cpu_feature_guard.cc:193] This TensorFlow binary is optimized with oneAPI Deep Neural Network Library (oneDNN) to use the following CPU instructions in performance-critical operations:  AVX2 FMA\n",
      "To enable them in other operations, rebuild TensorFlow with the appropriate compiler flags.\n"
     ]
    }
   ],
   "source": [
    "from tensorflow.keras.models import load_model\n",
    "import tensorflow as tf\n",
    "from tensorflow.keras.preprocessing.text import Tokenizer\n",
    "from tensorflow.keras.preprocessing.sequence import pad_sequences\n",
    "from keras.utils import to_categorical\n",
    "from tensorflow import keras\n",
    "import pandas as pd\n",
    "import numpy as np\n",
    "import matplotlib.pyplot as plt\n",
    "loaded_model = load_model('lstm_model.h5')"
   ]
  },
  {
   "cell_type": "code",
   "execution_count": 2,
   "id": "01784a57",
   "metadata": {},
   "outputs": [
    {
     "name": "stdout",
     "output_type": "stream",
     "text": [
      "Model: \"sequential\"\n",
      "_________________________________________________________________\n",
      " Layer (type)                Output Shape              Param #   \n",
      "=================================================================\n",
      " embedding (Embedding)       (None, 100, 300)          17834700  \n",
      "                                                                 \n",
      " lstm (LSTM)                 (None, 100, 64)           93440     \n",
      "                                                                 \n",
      " time_distributed (TimeDistr  (None, 100, 13)          845       \n",
      " ibuted)                                                         \n",
      "                                                                 \n",
      "=================================================================\n",
      "Total params: 17,928,985\n",
      "Trainable params: 94,285\n",
      "Non-trainable params: 17,834,700\n",
      "_________________________________________________________________\n",
      "None\n"
     ]
    }
   ],
   "source": [
    "print(loaded_model.summary())"
   ]
  },
  {
   "cell_type": "code",
   "execution_count": 6,
   "id": "cefb38e6",
   "metadata": {},
   "outputs": [
    {
     "name": "stdout",
     "output_type": "stream",
     "text": [
      "1/1 [==============================] - 0s 31ms/step\n"
     ]
    }
   ],
   "source": [
    "with open('data/data_normal.txt') as f:\n",
    "    lines = f.readlines()\n",
    "\n",
    "# tokenize the words\n",
    "word = [[sent] for sent in lines]\n",
    "\n",
    "word_tokenizer = Tokenizer()\n",
    "\n",
    "word_tokenizer.fit_on_texts(word) \n",
    "word_seqs = word_tokenizer.texts_to_sequences(word[:100])  \n",
    "\n",
    "max_len = 100 \n",
    "\n",
    "# find the length of the data\n",
    "w_size = len(word_tokenizer.word_index) + 1\n",
    "\n",
    "\n",
    "word_padded = pad_sequences(word_seqs, max_len, padding='post', truncating='post') \n",
    "\n",
    "prediction = loaded_model.predict(word_padded)"
   ]
  },
  {
   "cell_type": "code",
   "execution_count": 7,
   "id": "bf49d1ac",
   "metadata": {},
   "outputs": [
    {
     "name": "stdout",
     "output_type": "stream",
     "text": [
      "[['The old man rode the boat.\\n'], ['The prime number was difficult to derive.\\n'], ['Fat people eat healthy too.\\n'], ['The cotton clothing was better for her skin.\\n'], ['The male ducks are out on weekdays.\\n'], ['I convinced her children to quiet down.\\n'], ['The old train left the station.\\n'], ['The complex houses have an intricate design.\\n'], ['The fruit flies surrounded the mold.\\n'], ['The young dog jumped around.\\n'], ['He hummed while washing the dishes.\\n'], ['Jay always jogs a mile.\\n'], ['The horse raced past the barn.\\n'], ['The government plans to raise taxes.\\n'], ['The ugly face was beautiful.\\n'], ['The sour milk was expired.\\n'], ['The tuna can was easy to open.\\n'], ['The man returned to his house.\\n'], ['The brave guard was valiant.\\n'], ['The man who whistles tunes is very loud.\\n'], ['The night wind was pleasant.\\n'], ['The top vote was undeserving.']]\n"
     ]
    }
   ],
   "source": [
    "print(word)"
   ]
  },
  {
   "cell_type": "code",
   "execution_count": 11,
   "id": "37ef472a",
   "metadata": {},
   "outputs": [],
   "source": [
    "from nltk.corpus import brown, treebank, conll2000\n",
    "\n",
    "brown_sent = brown.tagged_sents(tagset='universal')\n",
    "tree_sent = treebank.tagged_sents(tagset='universal')\n",
    "conll_sent = conll2000.tagged_sents(tagset='universal')\n",
    "all_sent = brown_sent + tree_sent + conll_sent\n",
    "pos = [pos[1].lower() for tup in all_sent for pos in tup] # store the corresponding pos tag\n",
    "pos_tokenizer = Tokenizer()\n",
    "pos_tokenizer.fit_on_texts(pos)\n"
   ]
  },
  {
   "cell_type": "code",
   "execution_count": 42,
   "id": "fd3a707f",
   "metadata": {},
   "outputs": [
    {
     "name": "stdout",
     "output_type": "stream",
     "text": [
      "['ADJ', 'NOUN', 'ADP', 'NOUN', 'ADP']\n",
      "['ADP', 'NOUN', 'ADP']\n",
      "['ADP', 'NOUN', 'ADP']\n",
      "['ADP', 'NOUN', 'ADP']\n",
      "['ADP', 'NOUN', 'ADP']\n",
      "['ADP', 'NOUN', 'ADP']\n",
      "['ADP', 'NOUN', 'ADP']\n",
      "['DET', 'X', 'ADP', 'NOUN', 'ADP', 'NOUN', 'ADP', 'ADP', 'ADP']\n",
      "['ADJ', 'NOUN', 'NOUN', 'ADP']\n",
      "['DET', 'ADJ', 'ADP', 'NOUN', 'ADP', 'ADP']\n",
      "['VERB', 'ADJ', 'ADP', 'NOUN', 'ADP']\n",
      "['ADP', 'NOUN', 'ADP']\n",
      "['VERB', 'ADJ', 'ADP', 'ADP']\n",
      "['ADP', 'NOUN', 'ADP']\n",
      "['CONJ', 'ADP', 'ADP']\n",
      "['CONJ', 'PRT', 'NOUN', 'NOUN']\n",
      "['DET', 'ADJ', 'NOUN', 'NOUN', 'ADP', 'ADP', 'ADP', 'ADP', 'ADP', 'ADP']\n",
      "['DET', 'ADJ', 'NOUN', 'NOUN', 'NOUN', 'ADP', 'ADP', 'ADP', 'ADP', 'ADP', 'ADP']\n",
      "['DET', 'NOUN', 'NOUN', 'ADP', 'ADP', 'ADP', 'ADP']\n",
      "['VERB', 'ADJ', 'ADP', 'ADP']\n",
      "['ADJ', 'NOUN', 'ADP', 'NOUN', 'ADP']\n",
      "['DET', 'NOUN', 'ADP', 'NOUN', 'ADP', 'ADP', 'ADP']\n"
     ]
    }
   ],
   "source": [
    "for p in prediction:\n",
    "    pos_seq = [np.argmax(pred) for pred in p]\n",
    "    pos_tags = [pos_tokenizer.sequences_to_texts([[i]])[0].upper() for i in pos_seq]\n",
    "    pos_tags = list(filter(None, pos_tags))\n",
    "    print(pos_tags)"
   ]
  },
  {
   "cell_type": "code",
   "execution_count": 13,
   "id": "c295f953",
   "metadata": {},
   "outputs": [
    {
     "name": "stdout",
     "output_type": "stream",
     "text": [
      "[[[2.00694856e-07 2.14907482e-06 1.25270816e-07 ... 1.09866937e-06\n",
      "   1.78225889e-06 2.09544714e-06]\n",
      "  [2.25137424e-04 6.34105504e-01 1.03114499e-03 ... 8.75310856e-04\n",
      "   6.97160140e-02 7.08387839e-03]\n",
      "  [1.94867253e-02 1.68763980e-01 3.77106061e-03 ... 9.22449958e-03\n",
      "   1.41710574e-02 6.79366663e-03]\n",
      "  ...\n",
      "  [9.99997735e-01 1.35475523e-06 1.18337604e-10 ... 1.41442209e-08\n",
      "   2.43413439e-07 6.71137035e-10]\n",
      "  [9.99997735e-01 1.35428115e-06 1.17787474e-10 ... 1.41408218e-08\n",
      "   2.43275821e-07 6.69014177e-10]\n",
      "  [9.99997735e-01 1.35388211e-06 1.17260701e-10 ... 1.41375862e-08\n",
      "   2.43155199e-07 6.66980693e-10]]\n",
      "\n",
      " [[6.66212244e-03 2.27575257e-01 8.44322785e-04 ... 3.62926163e-02\n",
      "   1.38313556e-02 1.47177256e-03]\n",
      "  [6.64147809e-02 3.96046758e-01 2.52839294e-03 ... 6.56913146e-02\n",
      "   1.94975436e-02 4.00779024e-03]\n",
      "  [2.55288661e-01 2.45777398e-01 3.26591986e-03 ... 1.98381748e-02\n",
      "   3.28344144e-02 3.76921706e-03]\n",
      "  ...\n",
      "  [9.99995112e-01 2.86283080e-06 2.29881808e-10 ... 2.44210643e-08\n",
      "   5.09162021e-07 1.33817601e-09]\n",
      "  [9.99995232e-01 2.83541021e-06 2.20619426e-10 ... 2.38016789e-08\n",
      "   4.98874158e-07 1.29340794e-09]\n",
      "  [9.99995351e-01 2.80937707e-06 2.12046283e-10 ... 2.32306778e-08\n",
      "   4.89347883e-07 1.25184607e-09]]\n",
      "\n",
      " [[6.66212244e-03 2.27575257e-01 8.44322785e-04 ... 3.62926163e-02\n",
      "   1.38313556e-02 1.47177256e-03]\n",
      "  [6.64147809e-02 3.96046758e-01 2.52839294e-03 ... 6.56913146e-02\n",
      "   1.94975436e-02 4.00779024e-03]\n",
      "  [2.55288661e-01 2.45777398e-01 3.26591986e-03 ... 1.98381748e-02\n",
      "   3.28344144e-02 3.76921706e-03]\n",
      "  ...\n",
      "  [9.99995112e-01 2.86283080e-06 2.29881808e-10 ... 2.44210643e-08\n",
      "   5.09162021e-07 1.33817601e-09]\n",
      "  [9.99995232e-01 2.83541021e-06 2.20619426e-10 ... 2.38016789e-08\n",
      "   4.98874158e-07 1.29340794e-09]\n",
      "  [9.99995351e-01 2.80937707e-06 2.12046283e-10 ... 2.32306778e-08\n",
      "   4.89347883e-07 1.25184607e-09]]\n",
      "\n",
      " ...\n",
      "\n",
      " [[5.08809671e-06 6.59587095e-05 9.98934805e-01 ... 1.69025399e-04\n",
      "   2.45045162e-09 1.99397778e-04]\n",
      "  [9.37245350e-05 8.79383311e-02 5.59148204e-04 ... 8.60611908e-03\n",
      "   3.30407172e-02 3.95427924e-04]\n",
      "  [1.68124400e-02 2.48342827e-01 1.07629318e-03 ... 2.68187057e-02\n",
      "   2.07814761e-02 1.69640186e-03]\n",
      "  ...\n",
      "  [9.99997735e-01 1.32470961e-06 1.19756052e-10 ... 1.41535041e-08\n",
      "   2.36656277e-07 6.77923606e-10]\n",
      "  [9.99997735e-01 1.32438868e-06 1.19222299e-10 ... 1.41498608e-08\n",
      "   2.36570756e-07 6.75860479e-10]\n",
      "  [9.99997735e-01 1.32413231e-06 1.18711069e-10 ... 1.41464334e-08\n",
      "   2.36499474e-07 6.73883338e-10]]\n",
      "\n",
      " [[6.69603253e-07 3.07191704e-06 9.19131935e-08 ... 3.21563766e-06\n",
      "   5.30894511e-08 1.53722249e-06]\n",
      "  [2.37226821e-04 3.40270758e-01 2.59207329e-04 ... 8.68861657e-03\n",
      "   1.29505396e-01 1.31985201e-02]\n",
      "  [2.61022313e-03 3.46778393e-01 9.02545697e-04 ... 8.25916789e-03\n",
      "   9.70532093e-03 1.14701251e-02]\n",
      "  ...\n",
      "  [9.99997497e-01 1.51713198e-06 1.15235051e-10 ... 1.46088821e-08\n",
      "   2.72168421e-07 6.74385936e-10]\n",
      "  [9.99997497e-01 1.51595759e-06 1.14550022e-10 ... 1.46031995e-08\n",
      "   2.71887217e-07 6.71688816e-10]\n",
      "  [9.99997497e-01 1.51489246e-06 1.13896434e-10 ... 1.45979362e-08\n",
      "   2.71630881e-07 6.69116096e-10]]\n",
      "\n",
      " [[7.74217241e-08 9.76806064e-07 9.82455930e-08 ... 6.70824602e-06\n",
      "   2.37096796e-08 1.59863333e-07]\n",
      "  [1.15575649e-05 3.80574018e-01 1.45503334e-04 ... 1.57284469e-03\n",
      "   2.81561822e-01 3.55154218e-04]\n",
      "  [1.01311423e-03 3.76218766e-01 1.29821897e-03 ... 7.42861116e-03\n",
      "   3.08436695e-02 4.00508376e-04]\n",
      "  ...\n",
      "  [9.99995947e-01 2.48695005e-06 1.28764832e-10 ... 1.69775358e-08\n",
      "   4.36420237e-07 8.14903034e-10]\n",
      "  [9.99996185e-01 2.47538196e-06 1.26331667e-10 ... 1.68717555e-08\n",
      "   4.33277307e-07 8.03292100e-10]\n",
      "  [9.99996185e-01 2.46440800e-06 1.24045663e-10 ... 1.67741145e-08\n",
      "   4.30360018e-07 7.92375277e-10]]]\n"
     ]
    }
   ],
   "source": [
    "print(prediction)"
   ]
  },
  {
   "cell_type": "code",
   "execution_count": null,
   "id": "7f199774",
   "metadata": {},
   "outputs": [],
   "source": []
  }
 ],
 "metadata": {
  "kernelspec": {
   "display_name": "Python 3 (ipykernel)",
   "language": "python",
   "name": "python3"
  },
  "language_info": {
   "codemirror_mode": {
    "name": "ipython",
    "version": 3
   },
   "file_extension": ".py",
   "mimetype": "text/x-python",
   "name": "python",
   "nbconvert_exporter": "python",
   "pygments_lexer": "ipython3",
   "version": "3.9.13"
  }
 },
 "nbformat": 4,
 "nbformat_minor": 5
}
