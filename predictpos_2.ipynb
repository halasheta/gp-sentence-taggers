{
 "cells": [
  {
   "cell_type": "code",
   "execution_count": 22,
   "id": "039d58f1",
   "metadata": {},
   "outputs": [
    {
     "name": "stderr",
     "output_type": "stream",
     "text": [
      "2023-03-26 18:53:40.031183: I tensorflow/core/common_runtime/executor.cc:1197] [/device:CPU:0] (DEBUG INFO) Executor start aborting (this does not indicate an error and you can ignore this message): INVALID_ARGUMENT: You must feed a value for placeholder tensor 'gradients/split_2_grad/concat/split_2/split_dim' with dtype int32\n",
      "\t [[{{node gradients/split_2_grad/concat/split_2/split_dim}}]]\n",
      "2023-03-26 18:53:40.033756: I tensorflow/core/common_runtime/executor.cc:1197] [/device:CPU:0] (DEBUG INFO) Executor start aborting (this does not indicate an error and you can ignore this message): INVALID_ARGUMENT: You must feed a value for placeholder tensor 'gradients/split_grad/concat/split/split_dim' with dtype int32\n",
      "\t [[{{node gradients/split_grad/concat/split/split_dim}}]]\n",
      "2023-03-26 18:53:40.035325: I tensorflow/core/common_runtime/executor.cc:1197] [/device:CPU:0] (DEBUG INFO) Executor start aborting (this does not indicate an error and you can ignore this message): INVALID_ARGUMENT: You must feed a value for placeholder tensor 'gradients/split_1_grad/concat/split_1/split_dim' with dtype int32\n",
      "\t [[{{node gradients/split_1_grad/concat/split_1/split_dim}}]]\n"
     ]
    }
   ],
   "source": [
    "from tensorflow.keras.models import load_model\n",
    "import tensorflow as tf\n",
    "from tensorflow.keras.preprocessing.text import Tokenizer\n",
    "from tensorflow.keras.preprocessing.sequence import pad_sequences\n",
    "from keras.utils import to_categorical\n",
    "from tensorflow import keras\n",
    "import pandas as pd\n",
    "import numpy as np\n",
    "import matplotlib.pyplot as plt\n",
    "model = load_model('lstm_lr0.001_bs128_e10.h5')"
   ]
  },
  {
   "cell_type": "code",
   "execution_count": 23,
   "id": "01784a57",
   "metadata": {},
   "outputs": [
    {
     "name": "stdout",
     "output_type": "stream",
     "text": [
      "Model: \"sequential\"\n",
      "_________________________________________________________________\n",
      " Layer (type)                Output Shape              Param #   \n",
      "=================================================================\n",
      " embedding (Embedding)       (None, 100, 300)          17834700  \n",
      "                                                                 \n",
      " lstm (LSTM)                 (None, 100, 64)           93440     \n",
      "                                                                 \n",
      " time_distributed (TimeDistr  (None, 100, 13)          845       \n",
      " ibuted)                                                         \n",
      "                                                                 \n",
      "=================================================================\n",
      "Total params: 17,928,985\n",
      "Trainable params: 94,285\n",
      "Non-trainable params: 17,834,700\n",
      "_________________________________________________________________\n",
      "None\n"
     ]
    }
   ],
   "source": [
    "print(model.summary())"
   ]
  },
  {
   "cell_type": "code",
   "execution_count": 49,
   "id": "9ec2bf3a",
   "metadata": {},
   "outputs": [],
   "source": [
    "f = open('data/data_normal.txt')\n",
    "lines = f.readlines()\n",
    "data = []\n",
    "for line in lines:\n",
    "    tokens = line.split()\n",
    "    tokens =  [t.lower() for t in tokens]\n",
    "    data.append(tokens)\n",
    "    \n",
    "f_out = open('data/labels_normal.txt')\n",
    "lines_out = f_out.readlines()\n",
    "labels = []\n",
    "for line in lines_out:\n",
    "    tokens = line.split()\n",
    "    labels.append(tokens)\n",
    "    \n",
    "f = open('data/data_garden.txt')\n",
    "lines = f.readlines()\n",
    "garden_data = []\n",
    "for line in lines:\n",
    "    tokens = line.split()\n",
    "    tokens =  [t.lower() for t in tokens]\n",
    "    garden_data.append(tokens)\n",
    "    \n",
    "f_out = open('data/labels_garden.txt')\n",
    "lines_out = f_out.readlines()\n",
    "garden_labels = []\n",
    "for line in lines_out:\n",
    "    tokens = line.split()\n",
    "    garden_labels.append(tokens)"
   ]
  },
  {
   "cell_type": "code",
   "execution_count": 50,
   "id": "f27c24fa",
   "metadata": {},
   "outputs": [],
   "source": [
    "word_tokenizer = Tokenizer()\n",
    "pos_tokenizer = Tokenizer()\n",
    "\n",
    "word_tokenizer.fit_on_texts(data)\n",
    "pos_tokenizer.fit_on_texts(labels)\n",
    "word_tokenizer.fit_on_texts(data)\n",
    "pos_tokenizer.fit_on_texts(labels)\n",
    "\n",
    "X = word_tokenizer.texts_to_sequences(data)\n",
    "Y = pos_tokenizer.texts_to_sequences(labels)\n",
    "garden_X = word_tokenizer.texts_to_sequences(garden_data)\n",
    "garden_Y = pos_tokenizer.texts_to_sequences(garden_labels)\n",
    "\n",
    "X_pd = pad_sequences(X, 100, padding='post', truncating='post')\n",
    "Y_pd = pad_sequences(Y, 100, padding='post', truncating='post')\n",
    "garden_X_pd = pad_sequences(garden_X, 100, padding='post', truncating='post')\n",
    "garden_Y_pd = pad_sequences(garden_Y, 100, padding='post', truncating='post')\n",
    "\n",
    "Y_pd = to_categorical(Y_pd, num_classes=13)\n",
    "garden_Y_pd = to_categorical(garden_Y_pd, num_classes=13)"
   ]
  },
  {
   "cell_type": "code",
   "execution_count": 55,
   "id": "11a1db95",
   "metadata": {},
   "outputs": [
    {
     "name": "stdout",
     "output_type": "stream",
     "text": [
      "1/1 [==============================] - 0s 66ms/step - loss: 0.4505 - accuracy: 0.9250\n"
     ]
    },
    {
     "data": {
      "text/plain": [
       "[0.4504774808883667, 0.925000011920929]"
      ]
     },
     "execution_count": 55,
     "metadata": {},
     "output_type": "execute_result"
    }
   ],
   "source": [
    "model.evaluate(X_pd, Y_pd)"
   ]
  },
  {
   "cell_type": "code",
   "execution_count": 52,
   "id": "b6f62014",
   "metadata": {},
   "outputs": [
    {
     "name": "stdout",
     "output_type": "stream",
     "text": [
      "1/1 [==============================] - 0s 39ms/step - loss: 0.4171 - accuracy: 0.9329\n"
     ]
    },
    {
     "data": {
      "text/plain": [
       "[0.4170820713043213, 0.9328571557998657]"
      ]
     },
     "execution_count": 52,
     "metadata": {},
     "output_type": "execute_result"
    }
   ],
   "source": [
    "model.evaluate(garden_X_pd, garden_Y_pd)"
   ]
  }
 ],
 "metadata": {
  "kernelspec": {
   "display_name": "Python 3 (ipykernel)",
   "language": "python",
   "name": "python3"
  },
  "language_info": {
   "codemirror_mode": {
    "name": "ipython",
    "version": 3
   },
   "file_extension": ".py",
   "mimetype": "text/x-python",
   "name": "python",
   "nbconvert_exporter": "python",
   "pygments_lexer": "ipython3",
   "version": "3.10.8"
  }
 },
 "nbformat": 4,
 "nbformat_minor": 5
}
