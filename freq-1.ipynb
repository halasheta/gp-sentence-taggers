{
 "cells": [
  {
   "cell_type": "code",
   "execution_count": 6,
   "id": "dd6a9b6c",
   "metadata": {},
   "outputs": [],
   "source": [
    "import nltk\n",
    "import pandas as pd\n",
    "import numpy as np\n",
    "from collections import Counter\n",
    "import matplotlib.pyplot as plt"
   ]
  },
  {
   "cell_type": "code",
   "execution_count": 7,
   "id": "5bf1e8f4",
   "metadata": {},
   "outputs": [
    {
     "name": "stderr",
     "output_type": "stream",
     "text": [
      "[nltk_data] Downloading package brown to /home/halas/nltk_data...\n",
      "[nltk_data]   Package brown is already up-to-date!\n",
      "[nltk_data] Downloading package treebank to /home/halas/nltk_data...\n",
      "[nltk_data]   Package treebank is already up-to-date!\n",
      "[nltk_data] Downloading package averaged_perceptron_tagger to\n",
      "[nltk_data]     /home/halas/nltk_data...\n",
      "[nltk_data]   Package averaged_perceptron_tagger is already up-to-\n",
      "[nltk_data]       date!\n"
     ]
    }
   ],
   "source": [
    "nltk.download('brown')\n",
    "nltk.download('treebank')\n",
    "nltk.download('averaged_perceptron_tagger')\n",
    "from nltk.corpus import brown, treebank"
   ]
  },
  {
   "cell_type": "code",
   "execution_count": 8,
   "id": "6baf8be8",
   "metadata": {},
   "outputs": [],
   "source": [
    "txt1 = brown.tagged_words(tagset='universal')\n",
    "txt2 = treebank.tagged_words(tagset='universal')"
   ]
  },
  {
   "cell_type": "code",
   "execution_count": 9,
   "id": "61a2047a",
   "metadata": {},
   "outputs": [],
   "source": [
    "tokens = [(tup[0].lower(), tup[1]) for tup in txt1]\n",
    "tokens.extend([(tup[0].lower(), tup[1]) for tup in txt2])\n",
    "\n",
    "# Make a word-frequency dict\n",
    "counter = Counter(tokens)\n",
    "word_freq = {}\n",
    "for (k1, k2), value in counter.items():\n",
    "    if k1 not in word_freq:\n",
    "        word_freq[k1] = {}\n",
    "    word_freq[k1][k2] = value"
   ]
  },
  {
   "cell_type": "code",
   "execution_count": 10,
   "id": "40594576",
   "metadata": {},
   "outputs": [
    {
     "data": {
      "text/html": [
       "<div>\n",
       "<style scoped>\n",
       "    .dataframe tbody tr th:only-of-type {\n",
       "        vertical-align: middle;\n",
       "    }\n",
       "\n",
       "    .dataframe tbody tr th {\n",
       "        vertical-align: top;\n",
       "    }\n",
       "\n",
       "    .dataframe thead th {\n",
       "        text-align: right;\n",
       "    }\n",
       "</style>\n",
       "<table border=\"1\" class=\"dataframe\">\n",
       "  <thead>\n",
       "    <tr style=\"text-align: right;\">\n",
       "      <th></th>\n",
       "      <th>DET</th>\n",
       "      <th>X</th>\n",
       "      <th>NOUN</th>\n",
       "      <th>ADJ</th>\n",
       "      <th>NUM</th>\n",
       "      <th>VERB</th>\n",
       "      <th>CONJ</th>\n",
       "      <th>ADP</th>\n",
       "      <th>.</th>\n",
       "      <th>ADV</th>\n",
       "      <th>PRON</th>\n",
       "      <th>PRT</th>\n",
       "    </tr>\n",
       "  </thead>\n",
       "  <tbody>\n",
       "    <tr>\n",
       "      <th>the</th>\n",
       "      <td>0.999813</td>\n",
       "      <td>0.00004</td>\n",
       "      <td>0.000067</td>\n",
       "      <td>0.000067</td>\n",
       "      <td>0.000013</td>\n",
       "      <td>0.0</td>\n",
       "      <td>0.0</td>\n",
       "      <td>0.0</td>\n",
       "      <td>0.0</td>\n",
       "      <td>0.0</td>\n",
       "      <td>0.0</td>\n",
       "      <td>0.0</td>\n",
       "    </tr>\n",
       "    <tr>\n",
       "      <th>fulton</th>\n",
       "      <td>0.000000</td>\n",
       "      <td>0.00000</td>\n",
       "      <td>1.000000</td>\n",
       "      <td>0.000000</td>\n",
       "      <td>0.000000</td>\n",
       "      <td>0.0</td>\n",
       "      <td>0.0</td>\n",
       "      <td>0.0</td>\n",
       "      <td>0.0</td>\n",
       "      <td>0.0</td>\n",
       "      <td>0.0</td>\n",
       "      <td>0.0</td>\n",
       "    </tr>\n",
       "    <tr>\n",
       "      <th>county</th>\n",
       "      <td>0.000000</td>\n",
       "      <td>0.00000</td>\n",
       "      <td>1.000000</td>\n",
       "      <td>0.000000</td>\n",
       "      <td>0.000000</td>\n",
       "      <td>0.0</td>\n",
       "      <td>0.0</td>\n",
       "      <td>0.0</td>\n",
       "      <td>0.0</td>\n",
       "      <td>0.0</td>\n",
       "      <td>0.0</td>\n",
       "      <td>0.0</td>\n",
       "    </tr>\n",
       "    <tr>\n",
       "      <th>grand</th>\n",
       "      <td>0.000000</td>\n",
       "      <td>0.06000</td>\n",
       "      <td>0.020000</td>\n",
       "      <td>0.920000</td>\n",
       "      <td>0.000000</td>\n",
       "      <td>0.0</td>\n",
       "      <td>0.0</td>\n",
       "      <td>0.0</td>\n",
       "      <td>0.0</td>\n",
       "      <td>0.0</td>\n",
       "      <td>0.0</td>\n",
       "      <td>0.0</td>\n",
       "    </tr>\n",
       "    <tr>\n",
       "      <th>jury</th>\n",
       "      <td>0.000000</td>\n",
       "      <td>0.00000</td>\n",
       "      <td>1.000000</td>\n",
       "      <td>0.000000</td>\n",
       "      <td>0.000000</td>\n",
       "      <td>0.0</td>\n",
       "      <td>0.0</td>\n",
       "      <td>0.0</td>\n",
       "      <td>0.0</td>\n",
       "      <td>0.0</td>\n",
       "      <td>0.0</td>\n",
       "      <td>0.0</td>\n",
       "    </tr>\n",
       "  </tbody>\n",
       "</table>\n",
       "</div>"
      ],
      "text/plain": [
       "             DET        X      NOUN       ADJ       NUM  VERB  CONJ  ADP    .  \\\n",
       "the     0.999813  0.00004  0.000067  0.000067  0.000013   0.0   0.0  0.0  0.0   \n",
       "fulton  0.000000  0.00000  1.000000  0.000000  0.000000   0.0   0.0  0.0  0.0   \n",
       "county  0.000000  0.00000  1.000000  0.000000  0.000000   0.0   0.0  0.0  0.0   \n",
       "grand   0.000000  0.06000  0.020000  0.920000  0.000000   0.0   0.0  0.0  0.0   \n",
       "jury    0.000000  0.00000  1.000000  0.000000  0.000000   0.0   0.0  0.0  0.0   \n",
       "\n",
       "        ADV  PRON  PRT  \n",
       "the     0.0   0.0  0.0  \n",
       "fulton  0.0   0.0  0.0  \n",
       "county  0.0   0.0  0.0  \n",
       "grand   0.0   0.0  0.0  \n",
       "jury    0.0   0.0  0.0  "
      ]
     },
     "execution_count": 10,
     "metadata": {},
     "output_type": "execute_result"
    }
   ],
   "source": [
    "df = pd.DataFrame.from_dict(word_freq).fillna(0).transpose()\n",
    "df = df.div(df.sum(axis=1), axis=0) # Normalize the frequencies\n",
    "df.head()"
   ]
  },
  {
   "cell_type": "code",
   "execution_count": 12,
   "id": "e83e7772",
   "metadata": {},
   "outputs": [
    {
     "data": {
      "text/plain": [
       "(0.9967239967239967, 0.002457002457002457)"
      ]
     },
     "execution_count": 12,
     "metadata": {},
     "output_type": "execute_result"
    }
   ],
   "source": [
    "# Select 'man' from the df\n",
    "man_dist = df.loc['man']\n",
    "man_dist['NOUN'], man_dist['VERB']"
   ]
  },
  {
   "cell_type": "code",
   "execution_count": null,
   "id": "b47ed0ec",
   "metadata": {},
   "outputs": [],
   "source": [
    "### Code to output tags\n",
    "# with open('data/data_normal.txt') as f:\n",
    "#     lines = f.readlines()\n",
    "\n",
    "# out = open('data/labels_normal.txt', \"w\")\n",
    "# for line in lines:\n",
    "#     token = nltk.word_tokenize(line)\n",
    "#     tag = nltk.pos_tag(token, tagset='universal')\n",
    "#     tags = [t[1] for t in tag]\n",
    "#     for t in tags:\n",
    "#         out.write(t + \" \")\n",
    "#     out.write('\\n')"
   ]
  }
 ],
 "metadata": {
  "kernelspec": {
   "display_name": "Python 3 (ipykernel)",
   "language": "python",
   "name": "python3"
  },
  "language_info": {
   "codemirror_mode": {
    "name": "ipython",
    "version": 3
   },
   "file_extension": ".py",
   "mimetype": "text/x-python",
   "name": "python",
   "nbconvert_exporter": "python",
   "pygments_lexer": "ipython3",
   "version": "3.10.8"
  }
 },
 "nbformat": 4,
 "nbformat_minor": 5
}
