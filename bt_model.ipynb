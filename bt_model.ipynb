{
 "cells": [
  {
   "cell_type": "code",
   "execution_count": 34,
   "id": "dd6a9b6c",
   "metadata": {},
   "outputs": [],
   "source": [
    "import nltk\n",
    "from tqdm import tqdm\n",
    "import pandas as pd\n",
    "import numpy as np\n",
    "import matplotlib as mpl\n",
    "import matplotlib.pyplot as plt\n",
    "from collections import Counter\n",
    "from nltk.corpus import brown, treebank, conll2000\n",
    "from nltk.probability import ConditionalFreqDist, ConditionalProbDist, FreqDist"
   ]
  },
  {
   "cell_type": "code",
   "execution_count": 11,
   "id": "5bf1e8f4",
   "metadata": {},
   "outputs": [
    {
     "name": "stderr",
     "output_type": "stream",
     "text": [
      "[nltk_data] Downloading package brown to /home/halas/nltk_data...\n",
      "[nltk_data]   Package brown is already up-to-date!\n",
      "[nltk_data] Downloading package treebank to /home/halas/nltk_data...\n",
      "[nltk_data]   Package treebank is already up-to-date!\n",
      "[nltk_data] Downloading package conll2000 to /home/halas/nltk_data...\n",
      "[nltk_data]   Package conll2000 is already up-to-date!\n",
      "[nltk_data] Downloading package averaged_perceptron_tagger to\n",
      "[nltk_data]     /home/halas/nltk_data...\n",
      "[nltk_data]   Package averaged_perceptron_tagger is already up-to-\n",
      "[nltk_data]       date!\n",
      "[nltk_data] Downloading package universal_tagset to\n",
      "[nltk_data]     /home/halas/nltk_data...\n",
      "[nltk_data]   Package universal_tagset is already up-to-date!\n"
     ]
    },
    {
     "data": {
      "text/plain": [
       "True"
      ]
     },
     "execution_count": 11,
     "metadata": {},
     "output_type": "execute_result"
    }
   ],
   "source": [
    "nltk.download('brown')\n",
    "nltk.download('treebank')\n",
    "nltk.download('conll2000')\n",
    "nltk.download('averaged_perceptron_tagger')\n",
    "nltk.download('universal_tagset')"
   ]
  },
  {
   "cell_type": "code",
   "execution_count": 13,
   "id": "6baf8be8",
   "metadata": {},
   "outputs": [],
   "source": [
    "txt = brown.tagged_words(tagset='universal') + \\\n",
    "    treebank.tagged_words(tagset='universal') + \\\n",
    "    conll2000.tagged_words(tagset='universal')"
   ]
  },
  {
   "cell_type": "code",
   "execution_count": 14,
   "id": "61a2047a",
   "metadata": {},
   "outputs": [],
   "source": [
    "tokens = [(tup[0].lower(), tup[1]) for tup in txt]\n",
    "\n",
    "# Make a word-frequency dict\n",
    "counter = Counter(tokens)\n",
    "word_freq = {}\n",
    "for (k1, k2), value in counter.items():\n",
    "    if k1 not in word_freq:\n",
    "        word_freq[k1] = {}\n",
    "    word_freq[k1][k2] = value"
   ]
  },
  {
   "cell_type": "code",
   "execution_count": 15,
   "id": "b731d7ec",
   "metadata": {},
   "outputs": [],
   "source": [
    "pos_lst = [tup[1] for tup in tokens]"
   ]
  },
  {
   "cell_type": "code",
   "execution_count": 24,
   "id": "931609ab",
   "metadata": {},
   "outputs": [
    {
     "data": {
      "text/plain": [
       "1.43"
      ]
     },
     "execution_count": 24,
     "metadata": {},
     "output_type": "execute_result"
    }
   ],
   "source": [
    "round(1.426, 2)"
   ]
  },
  {
   "cell_type": "code",
   "execution_count": 25,
   "id": "93b7244d",
   "metadata": {},
   "outputs": [],
   "source": [
    "def pos_predict(s, assignment, threshold):\n",
    "    if len(assignment) == len(s):\n",
    "        # Base case: assignment is returned if it is complete\n",
    "        return assignment\n",
    "    \n",
    "    var = s[len(assignment)].lower()\n",
    "    var_fdist = FreqDist(word_freq[var])\n",
    "    var_freq = var_fdist.most_common() # Ordered by descending frequency\n",
    "            \n",
    "    for pos in var_freq:\n",
    "        # for each tag, append it to assignment\n",
    "        assignment.append(pos[0])\n",
    "        \n",
    "        valid = True\n",
    "        if len(assignment) > 1:\n",
    "            # Check if curr sequence of POS predictions match the frequencies from the text\n",
    "            window = len(assignment)\n",
    "            ngrams = list(nltk.ngrams(pos_lst, window))\n",
    "            cfdist = ConditionalFreqDist((tuple(x[-1 * window:-1]), x[-1]) for x in ngrams)\n",
    "            cpdist = ConditionalProbDist(cfdist, nltk.MLEProbDist)\n",
    "\n",
    "            fdist = cpdist[tuple(assignment[-1 * window:-1])].freqdist()\n",
    "            cond_prob = fdist.freq(assignment[-1])\n",
    "            \n",
    "            surpr = (-1 * np.log2(max(0.00001, cond_prob))) / (window - 1)\n",
    "            print(assignment[-1 * window:-1], assignment[-1], surpr)\n",
    "            if round(surpr, 2) >= threshold:\n",
    "                valid = False\n",
    "        \n",
    "        # predict the rest of the sentence based on curr tag\n",
    "        if valid:\n",
    "            res = pos_predict(s, assignment, threshold)\n",
    "            if len(res) > 0:\n",
    "                return res\n",
    "        \n",
    "        # if assignment is fault, pop and try others\n",
    "        assignment.pop()\n",
    "    \n",
    "    return []"
   ]
  },
  {
   "cell_type": "code",
   "execution_count": 17,
   "id": "2e05194b",
   "metadata": {},
   "outputs": [],
   "source": [
    "def backtrack_model(sentences, threshold):\n",
    "    pred = []\n",
    "    for i in tqdm(range(len(sentences))):\n",
    "        p = pos_predict(sentences[i], [], threshold)\n",
    "        print(p)\n",
    "        pred.append(p)\n",
    "    return pred"
   ]
  },
  {
   "cell_type": "code",
   "execution_count": 18,
   "id": "95d9ba96",
   "metadata": {},
   "outputs": [],
   "source": [
    "def accuracy(preds, labels):\n",
    "    accuracies = []\n",
    "    for i in range(len(preds)):\n",
    "        actual = labels[i]\n",
    "        acc = 0\n",
    "        for j in range(len(preds[i])):\n",
    "            if preds[i][j] == actual[j]:\n",
    "                acc += 1\n",
    "        if len(preds[i]) > 0:\n",
    "            acc = acc / len(preds[i])\n",
    "        accuracies.append(acc)\n",
    "    return accuracies"
   ]
  },
  {
   "cell_type": "code",
   "execution_count": 26,
   "id": "809899aa",
   "metadata": {
    "scrolled": true
   },
   "outputs": [
    {
     "name": "stderr",
     "output_type": "stream",
     "text": [
      "  0%|                                                                                            | 0/14 [00:00<?, ?it/s]\n",
      "  0%|                                                                                            | 0/12 [00:00<?, ?it/s]\u001b[A"
     ]
    },
    {
     "name": "stdout",
     "output_type": "stream",
     "text": [
      "['DET'] ADJ 2.105399664405011\n",
      "['DET'] NOUN 0.6707314412944659\n",
      "['DET', 'NOUN'] NOUN 1.35558596810821\n",
      "['DET', 'NOUN'] VERB 1.2823212108167499\n",
      "['DET', 'NOUN', 'VERB'] DET 1.0484590083886116\n",
      "['DET', 'NOUN', 'VERB', 'DET'] NOUN 0.1895980379943832\n"
     ]
    },
    {
     "name": "stderr",
     "output_type": "stream",
     "text": [
      "\n",
      "  8%|███████                                                                             | 1/12 [00:11<02:07, 11.57s/it]\u001b[A"
     ]
    },
    {
     "name": "stdout",
     "output_type": "stream",
     "text": [
      "['DET', 'NOUN', 'VERB', 'DET', 'NOUN'] . 0.49417393894631945\n",
      "['DET', 'NOUN', 'VERB', 'DET', 'NOUN', '.']\n",
      "['DET'] ADJ 2.105399664405011\n",
      "['DET'] NOUN 0.6707314412944659\n",
      "['DET', 'NOUN'] NOUN 1.35558596810821\n",
      "['DET', 'NOUN'] VERB 1.2823212108167499\n",
      "['DET', 'NOUN', 'VERB'] ADJ 1.2763297650595449\n"
     ]
    },
    {
     "name": "stderr",
     "output_type": "stream",
     "text": [
      "\n",
      " 17%|██████████████                                                                      | 2/12 [00:17<01:22,  8.23s/it]\u001b[A"
     ]
    },
    {
     "name": "stdout",
     "output_type": "stream",
     "text": [
      "['DET', 'NOUN', 'VERB', 'ADJ'] . 0.4025583207266306\n",
      "['DET', 'NOUN', 'VERB', 'ADJ', '.']\n",
      "['ADJ'] NOUN 0.5924382999268272\n",
      "['ADJ', 'NOUN'] VERB 1.4156966328385077\n",
      "['ADJ'] VERB 5.9739875644691125\n",
      "['NOUN'] NOUN 2.462371917922164\n"
     ]
    },
    {
     "name": "stderr",
     "output_type": "stream",
     "text": [
      "\n",
      " 25%|█████████████████████                                                               | 3/12 [00:22<01:00,  6.73s/it]\u001b[A"
     ]
    },
    {
     "name": "stdout",
     "output_type": "stream",
     "text": [
      "['NOUN'] VERB 2.677866308408386\n",
      "[]\n",
      "['DET'] NOUN 0.6707314412944659\n",
      "['DET', 'NOUN'] NOUN 1.35558596810821\n",
      "['ADP'] NOUN 1.8862377954163474\n",
      "['NOUN'] NOUN 2.462371917922164\n",
      "['ADJ'] NOUN 0.5924382999268272\n",
      "['ADJ', 'NOUN'] NOUN 1.559643542729314\n",
      "['X'] NOUN 3.980100442562295\n"
     ]
    },
    {
     "name": "stderr",
     "output_type": "stream",
     "text": [
      "\n",
      " 33%|████████████████████████████                                                        | 4/12 [00:29<00:55,  6.98s/it]\u001b[A"
     ]
    },
    {
     "name": "stdout",
     "output_type": "stream",
     "text": [
      "['NUM'] NOUN 1.4372102170190268\n",
      "[]\n",
      "['DET'] NOUN 0.6707314412944659\n",
      "['DET', 'NOUN'] NOUN 1.35558596810821\n",
      "['DET'] ADJ 2.105399664405011\n",
      "['ADP'] NOUN 1.8862377954163474\n",
      "['ADP'] ADJ 3.544251990535275\n",
      "['NOUN'] NOUN 2.462371917922164\n",
      "['NOUN'] ADJ 6.2570809646116095\n",
      "['ADJ'] NOUN 0.5924382999268272\n",
      "['ADJ', 'NOUN'] NOUN 1.559643542729314\n",
      "['ADJ'] ADJ 4.060095620358559\n",
      "['X'] NOUN 3.980100442562295\n",
      "['X'] ADJ 6.119298928372344\n",
      "['NUM'] NOUN 1.4372102170190268\n"
     ]
    },
    {
     "name": "stderr",
     "output_type": "stream",
     "text": [
      "\n",
      " 42%|███████████████████████████████████                                                 | 5/12 [00:44<01:07,  9.66s/it]\u001b[A"
     ]
    },
    {
     "name": "stdout",
     "output_type": "stream",
     "text": [
      "['NUM'] ADJ 4.341852827832495\n",
      "[]\n",
      "['PRON'] VERB 0.5663379905699087\n",
      "['PRON', 'VERB'] DET 1.4202962703373951\n",
      "['PRON', 'VERB'] PRON 2.0644088936450173\n",
      "['NOUN'] VERB 2.677866308408386\n"
     ]
    },
    {
     "name": "stderr",
     "output_type": "stream",
     "text": [
      "\n",
      " 50%|██████████████████████████████████████████                                          | 6/12 [00:49<00:49,  8.24s/it]\u001b[A"
     ]
    },
    {
     "name": "stdout",
     "output_type": "stream",
     "text": [
      "['X'] VERB 2.4995216570560284\n",
      "[]\n",
      "['DET'] ADJ 2.105399664405011\n",
      "['DET'] NOUN 0.6707314412944659\n",
      "['DET', 'NOUN'] NOUN 1.35558596810821\n",
      "['DET', 'NOUN'] VERB 1.2823212108167499\n",
      "['DET', 'NOUN', 'VERB'] DET 1.0484590083886116\n",
      "['DET', 'NOUN', 'VERB', 'DET'] ADJ 0.45836653594769167\n"
     ]
    },
    {
     "name": "stderr",
     "output_type": "stream",
     "text": [
      "\n",
      " 58%|█████████████████████████████████████████████████                                   | 7/12 [00:58<00:41,  8.31s/it]\u001b[A"
     ]
    },
    {
     "name": "stdout",
     "output_type": "stream",
     "text": [
      "['DET', 'NOUN', 'VERB', 'DET', 'ADJ'] . 0.8598731880470541\n",
      "['DET', 'NOUN', 'VERB', 'DET', 'ADJ', '.']\n",
      "['DET'] ADJ 2.105399664405011\n",
      "['DET'] NOUN 0.6707314412944659\n",
      "['DET', 'NOUN'] NOUN 1.35558596810821\n",
      "['DET', 'NOUN'] VERB 1.2823212108167499\n",
      "['DET', 'NOUN', 'VERB'] VERB 0.5954520042873993\n",
      "['DET', 'NOUN', 'VERB', 'VERB'] CONJ 1.3025706847646132\n",
      "['DET', 'NOUN', 'VERB', 'VERB'] X 1.4337810618355096\n",
      "['DET', 'NOUN', 'VERB', 'VERB'] ADJ 1.009237784043223\n",
      "['DET', 'NOUN', 'VERB', 'VERB', 'ADJ'] ADJ 0.9981909720793987\n",
      "['DET', 'NOUN', 'VERB', 'VERB', 'ADJ', 'ADJ'] NOUN 0.025333848907508325\n",
      "['DET', 'NOUN', 'VERB', 'VERB', 'ADJ', 'ADJ', 'NOUN'] . 0.30998928592033037\n"
     ]
    },
    {
     "name": "stderr",
     "output_type": "stream",
     "text": [
      "\n",
      " 67%|████████████████████████████████████████████████████████                            | 8/12 [01:18<00:48, 12.04s/it]\u001b[A"
     ]
    },
    {
     "name": "stdout",
     "output_type": "stream",
     "text": [
      "['DET', 'NOUN', 'VERB', 'VERB', 'ADJ', 'ADJ', 'NOUN', '.']\n",
      "['DET'] NOUN 0.6707314412944659\n",
      "['DET', 'NOUN'] NOUN 1.35558596810821\n",
      "['DET', 'NOUN'] VERB 1.2823212108167499\n",
      "['DET', 'NOUN', 'VERB'] ADV 0.9512269326928693\n",
      "['DET', 'NOUN', 'VERB', 'ADV'] PRON 1.67438670137992\n",
      "['DET', 'NOUN', 'VERB', 'ADV'] PRT 1.3955173970249362\n",
      "['ADP'] NOUN 1.8862377954163474\n",
      "['NOUN'] NOUN 2.462371917922164\n",
      "['ADJ'] NOUN 0.5924382999268272\n",
      "['ADJ', 'NOUN'] NOUN 1.559643542729314\n",
      "['ADJ', 'NOUN'] VERB 1.4156966328385077\n",
      "['X'] NOUN 3.980100442562295\n"
     ]
    },
    {
     "name": "stderr",
     "output_type": "stream",
     "text": [
      "\n",
      " 75%|███████████████████████████████████████████████████████████████                     | 9/12 [01:31<00:37, 12.48s/it]\u001b[A"
     ]
    },
    {
     "name": "stdout",
     "output_type": "stream",
     "text": [
      "['NUM'] NOUN 1.4372102170190268\n",
      "[]\n",
      "['DET'] ADJ 2.105399664405011\n",
      "['DET'] NOUN 0.6707314412944659\n",
      "['DET', 'NOUN'] NOUN 1.35558596810821\n",
      "['ADP'] ADJ 3.544251990535275\n",
      "['ADP'] NOUN 1.8862377954163474\n",
      "['NOUN'] ADJ 6.2570809646116095\n",
      "['NOUN'] NOUN 2.462371917922164\n",
      "['ADJ'] ADJ 4.060095620358559\n",
      "['ADJ'] NOUN 0.5924382999268272\n",
      "['ADJ', 'NOUN'] NOUN 1.559643542729314\n",
      "['X'] ADJ 6.119298928372344\n",
      "['X'] NOUN 3.980100442562295\n",
      "['NUM'] ADJ 4.341852827832495\n"
     ]
    },
    {
     "name": "stderr",
     "output_type": "stream",
     "text": [
      "\n",
      " 83%|█████████████████████████████████████████████████████████████████████▏             | 10/12 [01:44<00:25, 12.60s/it]\u001b[A"
     ]
    },
    {
     "name": "stdout",
     "output_type": "stream",
     "text": [
      "['NUM'] NOUN 1.4372102170190268\n",
      "[]\n",
      "['ADP'] PRON 3.8435284728376686\n",
      "['ADP'] X 8.780237356495702\n",
      "['NOUN'] PRON 5.952130379420475\n",
      "['NOUN'] X 8.646521052888762\n",
      "['VERB'] PRON 4.221552366657197\n",
      "['VERB'] X 6.288073877108881\n",
      "['ADJ'] PRON 8.131334499831954\n"
     ]
    },
    {
     "name": "stderr",
     "output_type": "stream",
     "text": [
      "\n",
      " 92%|████████████████████████████████████████████████████████████████████████████       | 11/12 [01:51<00:10, 10.96s/it]\u001b[A"
     ]
    },
    {
     "name": "stdout",
     "output_type": "stream",
     "text": [
      "['ADJ'] X 9.240563569586714\n",
      "[]\n",
      "['ADP'] NOUN 1.8862377954163474\n"
     ]
    },
    {
     "name": "stderr",
     "output_type": "stream",
     "text": [
      "\n",
      "100%|███████████████████████████████████████████████████████████████████████████████████| 12/12 [01:53<00:00,  9.45s/it]\u001b[A\n",
      "  7%|█████▉                                                                             | 1/14 [01:53<24:34, 113.46s/it]"
     ]
    },
    {
     "name": "stdout",
     "output_type": "stream",
     "text": [
      "['ADV'] NOUN 4.90361231495799\n",
      "[]\n"
     ]
    },
    {
     "name": "stderr",
     "output_type": "stream",
     "text": [
      "\n",
      "  0%|                                                                                            | 0/12 [00:00<?, ?it/s]\u001b[A"
     ]
    },
    {
     "name": "stdout",
     "output_type": "stream",
     "text": [
      "['DET'] ADJ 2.105399664405011\n",
      "['DET'] NOUN 0.6707314412944659\n",
      "['DET', 'NOUN'] NOUN 1.35558596810821\n",
      "['DET', 'NOUN'] VERB 1.2823212108167499\n",
      "['DET', 'NOUN', 'VERB'] DET 1.0484590083886116\n",
      "['DET', 'NOUN', 'VERB', 'DET'] NOUN 0.1895980379943832\n"
     ]
    },
    {
     "name": "stderr",
     "output_type": "stream",
     "text": [
      "\n",
      "  8%|███████                                                                             | 1/12 [00:07<01:25,  7.75s/it]\u001b[A"
     ]
    },
    {
     "name": "stdout",
     "output_type": "stream",
     "text": [
      "['DET', 'NOUN', 'VERB', 'DET', 'NOUN'] . 0.49417393894631945\n",
      "['DET', 'NOUN', 'VERB', 'DET', 'NOUN', '.']\n",
      "['DET'] ADJ 2.105399664405011\n",
      "['DET'] NOUN 0.6707314412944659\n",
      "['DET', 'NOUN'] NOUN 1.35558596810821\n",
      "['DET', 'NOUN'] VERB 1.2823212108167499\n",
      "['DET', 'NOUN', 'VERB'] ADJ 1.2763297650595449\n"
     ]
    },
    {
     "name": "stderr",
     "output_type": "stream",
     "text": [
      "\n",
      " 17%|██████████████                                                                      | 2/12 [00:15<01:14,  7.47s/it]\u001b[A"
     ]
    },
    {
     "name": "stdout",
     "output_type": "stream",
     "text": [
      "['DET', 'NOUN', 'VERB', 'ADJ'] . 0.4025583207266306\n",
      "['DET', 'NOUN', 'VERB', 'ADJ', '.']\n",
      "['ADJ'] NOUN 0.5924382999268272\n",
      "['ADJ', 'NOUN'] VERB 1.4156966328385077\n",
      "['ADJ'] VERB 5.9739875644691125\n",
      "['NOUN'] NOUN 2.462371917922164\n"
     ]
    },
    {
     "name": "stderr",
     "output_type": "stream",
     "text": [
      "\n",
      " 25%|█████████████████████                                                               | 3/12 [00:20<00:57,  6.41s/it]\u001b[A"
     ]
    },
    {
     "name": "stdout",
     "output_type": "stream",
     "text": [
      "['NOUN'] VERB 2.677866308408386\n",
      "[]\n",
      "['DET'] NOUN 0.6707314412944659\n",
      "['DET', 'NOUN'] NOUN 1.35558596810821\n",
      "['ADP'] NOUN 1.8862377954163474\n",
      "['NOUN'] NOUN 2.462371917922164\n",
      "['ADJ'] NOUN 0.5924382999268272\n",
      "['ADJ', 'NOUN'] NOUN 1.559643542729314\n",
      "['X'] NOUN 3.980100442562295\n"
     ]
    },
    {
     "name": "stderr",
     "output_type": "stream",
     "text": [
      "\n",
      " 33%|████████████████████████████                                                        | 4/12 [00:28<00:55,  6.99s/it]\u001b[A"
     ]
    },
    {
     "name": "stdout",
     "output_type": "stream",
     "text": [
      "['NUM'] NOUN 1.4372102170190268\n",
      "[]\n",
      "['DET'] NOUN 0.6707314412944659\n",
      "['DET', 'NOUN'] NOUN 1.35558596810821\n",
      "['DET'] ADJ 2.105399664405011\n",
      "['ADP'] NOUN 1.8862377954163474\n",
      "['ADP'] ADJ 3.544251990535275\n",
      "['NOUN'] NOUN 2.462371917922164\n",
      "['NOUN'] ADJ 6.2570809646116095\n",
      "['ADJ'] NOUN 0.5924382999268272\n",
      "['ADJ', 'NOUN'] NOUN 1.559643542729314\n",
      "['ADJ'] ADJ 4.060095620358559\n",
      "['X'] NOUN 3.980100442562295\n",
      "['X'] ADJ 6.119298928372344\n",
      "['NUM'] NOUN 1.4372102170190268\n"
     ]
    },
    {
     "name": "stderr",
     "output_type": "stream",
     "text": [
      "\n",
      " 42%|███████████████████████████████████                                                 | 5/12 [00:41<01:04,  9.20s/it]\u001b[A"
     ]
    },
    {
     "name": "stdout",
     "output_type": "stream",
     "text": [
      "['NUM'] ADJ 4.341852827832495\n",
      "[]\n",
      "['PRON'] VERB 0.5663379905699087\n",
      "['PRON', 'VERB'] DET 1.4202962703373951\n",
      "['PRON', 'VERB'] PRON 2.0644088936450173\n",
      "['NOUN'] VERB 2.677866308408386\n"
     ]
    },
    {
     "name": "stderr",
     "output_type": "stream",
     "text": [
      "\n",
      " 50%|██████████████████████████████████████████                                          | 6/12 [00:46<00:46,  7.72s/it]\u001b[A"
     ]
    },
    {
     "name": "stdout",
     "output_type": "stream",
     "text": [
      "['X'] VERB 2.4995216570560284\n",
      "[]\n",
      "['DET'] ADJ 2.105399664405011\n",
      "['DET'] NOUN 0.6707314412944659\n",
      "['DET', 'NOUN'] NOUN 1.35558596810821\n",
      "['DET', 'NOUN'] VERB 1.2823212108167499\n",
      "['DET', 'NOUN', 'VERB'] DET 1.0484590083886116\n",
      "['DET', 'NOUN', 'VERB', 'DET'] ADJ 0.45836653594769167\n"
     ]
    },
    {
     "name": "stderr",
     "output_type": "stream",
     "text": [
      "\n",
      " 58%|█████████████████████████████████████████████████                                   | 7/12 [00:54<00:40,  8.01s/it]\u001b[A"
     ]
    },
    {
     "name": "stdout",
     "output_type": "stream",
     "text": [
      "['DET', 'NOUN', 'VERB', 'DET', 'ADJ'] . 0.8598731880470541\n",
      "['DET', 'NOUN', 'VERB', 'DET', 'ADJ', '.']\n",
      "['DET'] ADJ 2.105399664405011\n",
      "['DET'] NOUN 0.6707314412944659\n",
      "['DET', 'NOUN'] NOUN 1.35558596810821\n",
      "['DET', 'NOUN'] VERB 1.2823212108167499\n",
      "['DET', 'NOUN', 'VERB'] VERB 0.5954520042873993\n",
      "['DET', 'NOUN', 'VERB', 'VERB'] CONJ 1.3025706847646132\n",
      "['DET', 'NOUN', 'VERB', 'VERB', 'CONJ'] ADJ 0.8279102704797587\n",
      "['DET', 'NOUN', 'VERB', 'VERB', 'CONJ', 'ADJ'] NOUN 0.5\n",
      "['DET', 'NOUN', 'VERB', 'VERB', 'CONJ', 'ADJ', 'NOUN'] . 2.3728057820624016\n",
      "['DET', 'NOUN', 'VERB', 'VERB', 'CONJ'] NOUN 1.0279102704797587\n",
      "['DET', 'NOUN', 'VERB', 'VERB', 'CONJ', 'NOUN'] NOUN 0.3333333333333333\n",
      "['DET', 'NOUN', 'VERB', 'VERB', 'CONJ', 'NOUN', 'NOUN'] . 2.3728057820624016\n",
      "['DET', 'NOUN', 'VERB', 'VERB', 'CONJ'] VERB 0.25631407145424434\n",
      "['DET', 'NOUN', 'VERB', 'VERB', 'CONJ', 'VERB'] NOUN 0.712169749067736\n",
      "['DET', 'NOUN', 'VERB', 'VERB', 'CONJ', 'VERB', 'NOUN'] . 2.3728057820624016\n",
      "['DET', 'NOUN', 'VERB', 'VERB'] X 1.4337810618355096\n",
      "['DET', 'NOUN', 'VERB', 'VERB'] ADJ 1.009237784043223\n",
      "['DET', 'NOUN', 'VERB', 'VERB', 'ADJ'] ADJ 0.9981909720793987\n",
      "['DET', 'NOUN', 'VERB', 'VERB', 'ADJ', 'ADJ'] NOUN 0.025333848907508325\n",
      "['DET', 'NOUN', 'VERB', 'VERB', 'ADJ', 'ADJ', 'NOUN'] . 0.30998928592033037\n"
     ]
    },
    {
     "name": "stderr",
     "output_type": "stream",
     "text": [
      "\n",
      " 67%|████████████████████████████████████████████████████████                            | 8/12 [01:43<01:23, 20.91s/it]\u001b[A"
     ]
    },
    {
     "name": "stdout",
     "output_type": "stream",
     "text": [
      "['DET', 'NOUN', 'VERB', 'VERB', 'ADJ', 'ADJ', 'NOUN', '.']\n",
      "['DET'] NOUN 0.6707314412944659\n",
      "['DET', 'NOUN'] NOUN 1.35558596810821\n",
      "['DET', 'NOUN'] VERB 1.2823212108167499\n",
      "['DET', 'NOUN', 'VERB'] ADV 0.9512269326928693\n",
      "['DET', 'NOUN', 'VERB', 'ADV'] PRON 1.67438670137992\n",
      "['DET', 'NOUN', 'VERB', 'ADV'] PRT 1.3955173970249362\n",
      "['ADP'] NOUN 1.8862377954163474\n",
      "['NOUN'] NOUN 2.462371917922164\n",
      "['ADJ'] NOUN 0.5924382999268272\n",
      "['ADJ', 'NOUN'] NOUN 1.559643542729314\n",
      "['ADJ', 'NOUN'] VERB 1.4156966328385077\n",
      "['X'] NOUN 3.980100442562295\n"
     ]
    },
    {
     "name": "stderr",
     "output_type": "stream",
     "text": [
      "\n",
      " 75%|███████████████████████████████████████████████████████████████                     | 9/12 [01:56<00:55, 18.50s/it]\u001b[A"
     ]
    },
    {
     "name": "stdout",
     "output_type": "stream",
     "text": [
      "['NUM'] NOUN 1.4372102170190268\n",
      "[]\n",
      "['DET'] ADJ 2.105399664405011\n",
      "['DET'] NOUN 0.6707314412944659\n",
      "['DET', 'NOUN'] NOUN 1.35558596810821\n",
      "['ADP'] ADJ 3.544251990535275\n",
      "['ADP'] NOUN 1.8862377954163474\n",
      "['NOUN'] ADJ 6.2570809646116095\n",
      "['NOUN'] NOUN 2.462371917922164\n",
      "['ADJ'] ADJ 4.060095620358559\n",
      "['ADJ'] NOUN 0.5924382999268272\n",
      "['ADJ', 'NOUN'] NOUN 1.559643542729314\n",
      "['X'] ADJ 6.119298928372344\n",
      "['X'] NOUN 3.980100442562295\n",
      "['NUM'] ADJ 4.341852827832495\n"
     ]
    },
    {
     "name": "stderr",
     "output_type": "stream",
     "text": [
      "\n",
      " 83%|█████████████████████████████████████████████████████████████████████▏             | 10/12 [02:09<00:33, 16.80s/it]\u001b[A"
     ]
    },
    {
     "name": "stdout",
     "output_type": "stream",
     "text": [
      "['NUM'] NOUN 1.4372102170190268\n",
      "[]\n",
      "['ADP'] PRON 3.8435284728376686\n",
      "['ADP'] X 8.780237356495702\n",
      "['NOUN'] PRON 5.952130379420475\n",
      "['NOUN'] X 8.646521052888762\n",
      "['VERB'] PRON 4.221552366657197\n",
      "['VERB'] X 6.288073877108881\n",
      "['ADJ'] PRON 8.131334499831954\n"
     ]
    },
    {
     "name": "stderr",
     "output_type": "stream",
     "text": [
      "\n",
      " 92%|████████████████████████████████████████████████████████████████████████████       | 11/12 [02:16<00:13, 13.88s/it]\u001b[A"
     ]
    },
    {
     "name": "stdout",
     "output_type": "stream",
     "text": [
      "['ADJ'] X 9.240563569586714\n",
      "[]\n",
      "['ADP'] NOUN 1.8862377954163474\n"
     ]
    },
    {
     "name": "stderr",
     "output_type": "stream",
     "text": [
      "\n",
      "100%|███████████████████████████████████████████████████████████████████████████████████| 12/12 [02:18<00:00, 11.54s/it]\u001b[A\n",
      " 14%|███████████▊                                                                       | 2/14 [04:11<25:38, 128.17s/it]"
     ]
    },
    {
     "name": "stdout",
     "output_type": "stream",
     "text": [
      "['ADV'] NOUN 4.90361231495799\n",
      "[]\n"
     ]
    },
    {
     "name": "stderr",
     "output_type": "stream",
     "text": [
      "\n",
      "  0%|                                                                                            | 0/12 [00:00<?, ?it/s]\u001b[A"
     ]
    },
    {
     "name": "stdout",
     "output_type": "stream",
     "text": [
      "['DET'] ADJ 2.105399664405011\n",
      "['DET'] NOUN 0.6707314412944659\n",
      "['DET', 'NOUN'] NOUN 1.35558596810821\n",
      "['DET', 'NOUN', 'NOUN'] DET 2.0176742169113178\n",
      "['DET', 'NOUN', 'NOUN'] ADP 0.7978236111973712\n",
      "['DET', 'NOUN', 'NOUN', 'ADP'] NOUN 0.39000403589773136\n"
     ]
    },
    {
     "name": "stderr",
     "output_type": "stream",
     "text": [
      "\n",
      "  8%|███████                                                                             | 1/12 [00:07<01:24,  7.67s/it]\u001b[A"
     ]
    },
    {
     "name": "stdout",
     "output_type": "stream",
     "text": [
      "['DET', 'NOUN', 'NOUN', 'ADP', 'NOUN'] . 0.3663204936608563\n",
      "['DET', 'NOUN', 'NOUN', 'ADP', 'NOUN', '.']\n",
      "['DET'] ADJ 2.105399664405011\n",
      "['DET'] NOUN 0.6707314412944659\n",
      "['DET', 'NOUN'] NOUN 1.35558596810821\n",
      "['DET', 'NOUN', 'NOUN'] ADJ 2.1850107873666\n",
      "['DET', 'NOUN', 'NOUN'] NOUN 0.8504628445372311\n"
     ]
    },
    {
     "name": "stderr",
     "output_type": "stream",
     "text": [
      "\n",
      " 17%|██████████████                                                                      | 2/12 [00:13<01:06,  6.65s/it]\u001b[A"
     ]
    },
    {
     "name": "stdout",
     "output_type": "stream",
     "text": [
      "['DET', 'NOUN', 'NOUN', 'NOUN'] . 0.418350116347185\n",
      "['DET', 'NOUN', 'NOUN', 'NOUN', '.']\n",
      "['ADJ'] NOUN 0.5924382999268272\n",
      "['ADJ', 'NOUN'] VERB 1.4156966328385077\n",
      "['ADJ'] VERB 5.9739875644691125\n",
      "['NOUN'] NOUN 2.462371917922164\n"
     ]
    },
    {
     "name": "stderr",
     "output_type": "stream",
     "text": [
      "\n",
      " 25%|█████████████████████                                                               | 3/12 [00:18<00:51,  5.72s/it]\u001b[A"
     ]
    },
    {
     "name": "stdout",
     "output_type": "stream",
     "text": [
      "['NOUN'] VERB 2.677866308408386\n",
      "[]\n",
      "['DET'] NOUN 0.6707314412944659\n",
      "['DET', 'NOUN'] NOUN 1.35558596810821\n",
      "['DET', 'NOUN', 'NOUN'] VERB 0.7914969252976404\n",
      "['DET', 'NOUN', 'NOUN', 'VERB'] VERB 0.4225893275594555\n",
      "['DET', 'NOUN', 'NOUN', 'VERB', 'VERB'] ADP 0.3918056437887388\n",
      "['DET', 'NOUN', 'NOUN', 'VERB', 'VERB', 'ADP'] VERB 0.7301369639901552\n",
      "['DET', 'NOUN', 'NOUN', 'VERB', 'VERB', 'ADP', 'VERB'] ADP 0.36928035724587943\n",
      "['DET', 'NOUN', 'NOUN', 'VERB', 'VERB', 'ADP', 'VERB', 'ADP'] NOUN -0.0\n",
      "['DET', 'NOUN', 'NOUN', 'VERB', 'VERB', 'ADP', 'VERB', 'ADP', 'NOUN'] . 1.845515608270757\n",
      "['DET', 'NOUN', 'NOUN', 'VERB', 'VERB', 'ADP', 'VERB'] PRT 2.3728057820624016\n",
      "['DET', 'NOUN', 'NOUN', 'VERB', 'VERB', 'ADP', 'VERB'] NOUN 0.36928035724587943\n",
      "['DET', 'NOUN', 'NOUN', 'VERB', 'VERB', 'ADP', 'VERB', 'NOUN'] NOUN 2.0762050593046015\n",
      "['DET', 'NOUN', 'NOUN', 'VERB', 'VERB', 'ADP', 'VERB'] ADV 2.3728057820624016\n",
      "['DET', 'NOUN', 'NOUN', 'VERB', 'VERB', 'ADP', 'VERB'] X 2.3728057820624016\n",
      "['DET', 'NOUN', 'NOUN', 'VERB', 'VERB'] X 1.1674699324710882\n",
      "['DET', 'NOUN', 'NOUN', 'VERB', 'VERB', 'X'] VERB 2.7682734124061352\n",
      "['DET', 'NOUN', 'NOUN', 'VERB', 'VERB'] ADV 0.7099546144517712\n",
      "['DET', 'NOUN', 'NOUN', 'VERB', 'VERB', 'ADV'] VERB 0.4650128217709614\n",
      "['DET', 'NOUN', 'NOUN', 'VERB', 'VERB', 'ADV', 'VERB'] ADP 0.18043348654768482\n",
      "['DET', 'NOUN', 'NOUN', 'VERB', 'VERB', 'ADV', 'VERB', 'ADP'] NOUN 0.16524101186092027\n",
      "['DET', 'NOUN', 'NOUN', 'VERB', 'VERB', 'ADV', 'VERB', 'ADP', 'NOUN'] . 0.1111111111111111\n"
     ]
    },
    {
     "name": "stderr",
     "output_type": "stream",
     "text": [
      "\n",
      " 33%|████████████████████████████                                                        | 4/12 [01:35<04:32, 34.01s/it]\u001b[A"
     ]
    },
    {
     "name": "stdout",
     "output_type": "stream",
     "text": [
      "['DET', 'NOUN', 'NOUN', 'VERB', 'VERB', 'ADV', 'VERB', 'ADP', 'NOUN', '.']\n",
      "['DET'] NOUN 0.6707314412944659\n",
      "['DET', 'NOUN'] NOUN 1.35558596810821\n",
      "['DET', 'NOUN', 'NOUN'] PRT 1.718923525190594\n",
      "['DET', 'NOUN', 'NOUN'] ADP 0.7978236111973712\n",
      "['DET', 'NOUN', 'NOUN', 'ADP'] ADP 1.568565415314262\n",
      "['DET', 'NOUN', 'NOUN', 'ADP'] PRT 1.6845521902542095\n",
      "['DET', 'NOUN', 'NOUN', 'ADP'] ADV 1.6271817287235177\n",
      "['DET', 'NOUN', 'NOUN', 'ADP'] X 2.0341895343767784\n",
      "['DET', 'NOUN', 'NOUN', 'ADP'] NOUN 0.39000403589773136\n",
      "['DET', 'NOUN', 'NOUN', 'ADP', 'NOUN'] NOUN 0.3464785728752764\n"
     ]
    },
    {
     "name": "stderr",
     "output_type": "stream",
     "text": [
      "\n",
      " 42%|███████████████████████████████████                                                 | 5/12 [01:50<03:08, 27.00s/it]\u001b[A"
     ]
    },
    {
     "name": "stdout",
     "output_type": "stream",
     "text": [
      "['DET', 'NOUN', 'NOUN', 'ADP', 'NOUN', 'NOUN'] . 0.2348271641448599\n",
      "['DET', 'NOUN', 'NOUN', 'ADP', 'NOUN', 'NOUN', '.']\n",
      "['PRON'] VERB 0.5663379905699087\n",
      "['PRON', 'VERB'] DET 1.4202962703373951\n",
      "['PRON', 'VERB'] PRON 2.0644088936450173\n",
      "['NOUN'] VERB 2.677866308408386\n"
     ]
    },
    {
     "name": "stderr",
     "output_type": "stream",
     "text": [
      "\n",
      " 50%|██████████████████████████████████████████                                          | 6/12 [01:54<01:56, 19.38s/it]\u001b[A"
     ]
    },
    {
     "name": "stdout",
     "output_type": "stream",
     "text": [
      "['X'] VERB 2.4995216570560284\n",
      "[]\n",
      "['DET'] ADJ 2.105399664405011\n",
      "['DET'] NOUN 0.6707314412944659\n",
      "['DET', 'NOUN'] NOUN 1.35558596810821\n",
      "['DET', 'NOUN', 'NOUN'] DET 2.0176742169113178\n",
      "['DET', 'NOUN', 'NOUN'] ADP 0.7978236111973712\n",
      "['DET', 'NOUN', 'NOUN', 'ADP'] ADJ 0.9862845162413704\n"
     ]
    },
    {
     "name": "stderr",
     "output_type": "stream",
     "text": [
      "\n",
      " 58%|█████████████████████████████████████████████████                                   | 7/12 [02:02<01:17, 15.45s/it]\u001b[A"
     ]
    },
    {
     "name": "stdout",
     "output_type": "stream",
     "text": [
      "['DET', 'NOUN', 'NOUN', 'ADP', 'ADJ'] . 1.1302103382357858\n",
      "['DET', 'NOUN', 'NOUN', 'ADP', 'ADJ', '.']\n",
      "['DET'] ADJ 2.105399664405011\n",
      "['DET'] NOUN 0.6707314412944659\n",
      "['DET', 'NOUN'] NOUN 1.35558596810821\n",
      "['DET', 'NOUN', 'NOUN'] VERB 0.7914969252976404\n",
      "['DET', 'NOUN', 'NOUN', 'VERB'] CONJ 1.7428284060172194\n",
      "['DET', 'NOUN', 'NOUN', 'VERB'] X 1.415243375864182\n",
      "['DET', 'NOUN', 'NOUN', 'VERB'] ADJ 1.0075518282806117\n",
      "['DET', 'NOUN', 'NOUN', 'VERB', 'ADJ'] ADJ 1.0526068811667586\n",
      "['DET', 'NOUN', 'NOUN', 'VERB', 'ADJ', 'ADJ'] NOUN 0.053654682481227046\n",
      "['DET', 'NOUN', 'NOUN', 'VERB', 'ADJ', 'ADJ', 'NOUN'] . 0.2857142857142857\n"
     ]
    },
    {
     "name": "stderr",
     "output_type": "stream",
     "text": [
      "\n",
      " 67%|████████████████████████████████████████████████████████                            | 8/12 [02:19<01:04, 16.07s/it]\u001b[A"
     ]
    },
    {
     "name": "stdout",
     "output_type": "stream",
     "text": [
      "['DET', 'NOUN', 'NOUN', 'VERB', 'ADJ', 'ADJ', 'NOUN', '.']\n",
      "['DET'] NOUN 0.6707314412944659\n",
      "['DET', 'NOUN'] NOUN 1.35558596810821\n",
      "['DET', 'NOUN', 'NOUN'] ADV 1.7990678508228146\n",
      "['DET', 'NOUN'] VERB 1.2823212108167499\n",
      "['DET', 'NOUN', 'VERB'] ADV 0.9512269326928693\n",
      "['DET', 'NOUN', 'VERB', 'ADV'] PRON 1.67438670137992\n",
      "['DET', 'NOUN', 'VERB', 'ADV'] PRT 1.3955173970249362\n",
      "['DET', 'NOUN', 'VERB', 'ADV', 'PRT'] VERB 0.14008794362821841\n",
      "['DET', 'NOUN', 'VERB', 'ADV', 'PRT', 'VERB'] VERB 0.3333333333333333\n",
      "['DET', 'NOUN', 'VERB', 'ADV', 'PRT', 'VERB', 'VERB'] . 0.2857142857142857\n"
     ]
    },
    {
     "name": "stderr",
     "output_type": "stream",
     "text": [
      "\n",
      " 75%|███████████████████████████████████████████████████████████████                     | 9/12 [02:38<00:50, 16.85s/it]\u001b[A"
     ]
    },
    {
     "name": "stdout",
     "output_type": "stream",
     "text": [
      "['DET', 'NOUN', 'VERB', 'ADV', 'PRT', 'VERB', 'VERB', '.']\n",
      "['DET'] ADJ 2.105399664405011\n",
      "['DET'] NOUN 0.6707314412944659\n",
      "['DET', 'NOUN'] NOUN 1.35558596810821\n",
      "['DET', 'NOUN', 'NOUN'] ADJ 2.1850107873666\n",
      "['DET', 'NOUN', 'NOUN'] NOUN 0.8504628445372311\n",
      "['DET', 'NOUN', 'NOUN', 'NOUN'] NOUN 0.5511630948412821\n"
     ]
    },
    {
     "name": "stderr",
     "output_type": "stream",
     "text": [
      "\n",
      " 83%|█████████████████████████████████████████████████████████████████████▏             | 10/12 [02:46<00:28, 14.11s/it]\u001b[A"
     ]
    },
    {
     "name": "stdout",
     "output_type": "stream",
     "text": [
      "['DET', 'NOUN', 'NOUN', 'NOUN', 'NOUN'] . 0.27888317773255167\n",
      "['DET', 'NOUN', 'NOUN', 'NOUN', 'NOUN', '.']\n",
      "['ADP'] PRON 3.8435284728376686\n",
      "['ADP'] X 8.780237356495702\n",
      "['NOUN'] PRON 5.952130379420475\n",
      "['NOUN'] X 8.646521052888762\n",
      "['VERB'] PRON 4.221552366657197\n",
      "['VERB'] X 6.288073877108881\n",
      "['ADJ'] PRON 8.131334499831954\n"
     ]
    },
    {
     "name": "stderr",
     "output_type": "stream",
     "text": [
      "\n",
      " 92%|████████████████████████████████████████████████████████████████████████████       | 11/12 [02:53<00:12, 12.07s/it]\u001b[A"
     ]
    },
    {
     "name": "stdout",
     "output_type": "stream",
     "text": [
      "['ADJ'] X 9.240563569586714\n",
      "[]\n",
      "['ADP'] NOUN 1.8862377954163474\n"
     ]
    },
    {
     "name": "stderr",
     "output_type": "stream",
     "text": [
      "\n",
      "100%|███████████████████████████████████████████████████████████████████████████████████| 12/12 [02:55<00:00, 14.61s/it]\u001b[A\n",
      " 21%|█████████████████▊                                                                 | 3/14 [07:07<27:26, 149.70s/it]"
     ]
    },
    {
     "name": "stdout",
     "output_type": "stream",
     "text": [
      "['ADV'] NOUN 4.90361231495799\n",
      "[]\n"
     ]
    },
    {
     "name": "stderr",
     "output_type": "stream",
     "text": [
      "\n",
      "  0%|                                                                                            | 0/12 [00:00<?, ?it/s]\u001b[A"
     ]
    },
    {
     "name": "stdout",
     "output_type": "stream",
     "text": [
      "['DET'] ADJ 2.105399664405011\n",
      "['DET'] NOUN 0.6707314412944659\n",
      "['DET', 'NOUN'] NOUN 1.35558596810821\n",
      "['DET', 'NOUN', 'NOUN'] DET 2.0176742169113178\n",
      "['DET', 'NOUN', 'NOUN'] ADP 0.7978236111973712\n",
      "['DET', 'NOUN', 'NOUN', 'ADP'] NOUN 0.39000403589773136\n"
     ]
    },
    {
     "name": "stderr",
     "output_type": "stream",
     "text": [
      "\n",
      "  8%|███████                                                                             | 1/12 [00:08<01:34,  8.58s/it]\u001b[A"
     ]
    },
    {
     "name": "stdout",
     "output_type": "stream",
     "text": [
      "['DET', 'NOUN', 'NOUN', 'ADP', 'NOUN'] . 0.3663204936608563\n",
      "['DET', 'NOUN', 'NOUN', 'ADP', 'NOUN', '.']\n",
      "['DET'] ADJ 2.105399664405011\n",
      "['DET'] NOUN 0.6707314412944659\n",
      "['DET', 'NOUN'] NOUN 1.35558596810821\n",
      "['DET', 'NOUN', 'NOUN'] ADJ 2.1850107873666\n",
      "['DET', 'NOUN', 'NOUN'] NOUN 0.8504628445372311\n"
     ]
    },
    {
     "name": "stderr",
     "output_type": "stream",
     "text": [
      "\n",
      " 17%|██████████████                                                                      | 2/12 [00:15<01:16,  7.65s/it]\u001b[A"
     ]
    },
    {
     "name": "stdout",
     "output_type": "stream",
     "text": [
      "['DET', 'NOUN', 'NOUN', 'NOUN'] . 0.418350116347185\n",
      "['DET', 'NOUN', 'NOUN', 'NOUN', '.']\n",
      "['ADJ'] NOUN 0.5924382999268272\n",
      "['ADJ', 'NOUN'] VERB 1.4156966328385077\n",
      "['ADJ', 'NOUN', 'VERB'] VERB 0.5855680189875377\n",
      "['ADJ', 'NOUN', 'VERB', 'VERB'] ADP 0.49963574436201486\n",
      "['ADJ', 'NOUN', 'VERB', 'VERB', 'ADP'] DET 0.22984022303869228\n",
      "['ADJ', 'NOUN', 'VERB', 'VERB', 'ADP', 'DET'] NOUN 0.10775838315733129\n",
      "['ADJ', 'NOUN', 'VERB', 'VERB', 'ADP', 'DET', 'NOUN'] . 0.30807206938285586\n"
     ]
    },
    {
     "name": "stderr",
     "output_type": "stream",
     "text": [
      "\n",
      " 25%|█████████████████████                                                               | 3/12 [00:28<01:32, 10.28s/it]\u001b[A"
     ]
    },
    {
     "name": "stdout",
     "output_type": "stream",
     "text": [
      "['ADJ', 'NOUN', 'VERB', 'VERB', 'ADP', 'DET', 'NOUN', '.']\n",
      "['DET'] NOUN 0.6707314412944659\n",
      "['DET', 'NOUN'] NOUN 1.35558596810821\n",
      "['DET', 'NOUN', 'NOUN'] VERB 0.7914969252976404\n",
      "['DET', 'NOUN', 'NOUN', 'VERB'] VERB 0.4225893275594555\n",
      "['DET', 'NOUN', 'NOUN', 'VERB', 'VERB'] ADP 0.3918056437887388\n",
      "['DET', 'NOUN', 'NOUN', 'VERB', 'VERB', 'ADP'] VERB 0.7301369639901552\n",
      "['DET', 'NOUN', 'NOUN', 'VERB', 'VERB', 'ADP', 'VERB'] ADP 0.36928035724587943\n",
      "['DET', 'NOUN', 'NOUN', 'VERB', 'VERB', 'ADP', 'VERB', 'ADP'] NOUN -0.0\n",
      "['DET', 'NOUN', 'NOUN', 'VERB', 'VERB', 'ADP', 'VERB', 'ADP', 'NOUN'] . 1.845515608270757\n",
      "['DET', 'NOUN', 'NOUN', 'VERB', 'VERB', 'ADP', 'VERB'] PRT 2.3728057820624016\n",
      "['DET', 'NOUN', 'NOUN', 'VERB', 'VERB', 'ADP', 'VERB'] NOUN 0.36928035724587943\n",
      "['DET', 'NOUN', 'NOUN', 'VERB', 'VERB', 'ADP', 'VERB', 'NOUN'] NOUN 2.0762050593046015\n",
      "['DET', 'NOUN', 'NOUN', 'VERB', 'VERB', 'ADP', 'VERB'] ADV 2.3728057820624016\n",
      "['DET', 'NOUN', 'NOUN', 'VERB', 'VERB', 'ADP', 'VERB'] X 2.3728057820624016\n",
      "['DET', 'NOUN', 'NOUN', 'VERB', 'VERB'] X 1.1674699324710882\n",
      "['DET', 'NOUN', 'NOUN', 'VERB', 'VERB', 'X'] VERB 2.7682734124061352\n",
      "['DET', 'NOUN', 'NOUN', 'VERB', 'VERB'] ADV 0.7099546144517712\n",
      "['DET', 'NOUN', 'NOUN', 'VERB', 'VERB', 'ADV'] VERB 0.4650128217709614\n",
      "['DET', 'NOUN', 'NOUN', 'VERB', 'VERB', 'ADV', 'VERB'] ADP 0.18043348654768482\n",
      "['DET', 'NOUN', 'NOUN', 'VERB', 'VERB', 'ADV', 'VERB', 'ADP'] NOUN 0.16524101186092027\n",
      "['DET', 'NOUN', 'NOUN', 'VERB', 'VERB', 'ADV', 'VERB', 'ADP', 'NOUN'] . 0.1111111111111111\n"
     ]
    },
    {
     "name": "stderr",
     "output_type": "stream",
     "text": [
      "\n",
      " 33%|████████████████████████████                                                        | 4/12 [01:43<04:43, 35.47s/it]\u001b[A"
     ]
    },
    {
     "name": "stdout",
     "output_type": "stream",
     "text": [
      "['DET', 'NOUN', 'NOUN', 'VERB', 'VERB', 'ADV', 'VERB', 'ADP', 'NOUN', '.']\n",
      "['DET'] NOUN 0.6707314412944659\n",
      "['DET', 'NOUN'] NOUN 1.35558596810821\n",
      "['DET', 'NOUN', 'NOUN'] PRT 1.718923525190594\n",
      "['DET', 'NOUN', 'NOUN'] ADP 0.7978236111973712\n",
      "['DET', 'NOUN', 'NOUN', 'ADP'] ADP 1.568565415314262\n",
      "['DET', 'NOUN', 'NOUN', 'ADP'] PRT 1.6845521902542095\n",
      "['DET', 'NOUN', 'NOUN', 'ADP'] ADV 1.6271817287235177\n",
      "['DET', 'NOUN', 'NOUN', 'ADP'] X 2.0341895343767784\n",
      "['DET', 'NOUN', 'NOUN', 'ADP'] NOUN 0.39000403589773136\n",
      "['DET', 'NOUN', 'NOUN', 'ADP', 'NOUN'] NOUN 0.3464785728752764\n"
     ]
    },
    {
     "name": "stderr",
     "output_type": "stream",
     "text": [
      "\n",
      " 42%|███████████████████████████████████                                                 | 5/12 [01:58<03:18, 28.36s/it]\u001b[A"
     ]
    },
    {
     "name": "stdout",
     "output_type": "stream",
     "text": [
      "['DET', 'NOUN', 'NOUN', 'ADP', 'NOUN', 'NOUN'] . 0.2348271641448599\n",
      "['DET', 'NOUN', 'NOUN', 'ADP', 'NOUN', 'NOUN', '.']\n",
      "['PRON'] VERB 0.5663379905699087\n",
      "['PRON', 'VERB'] DET 1.4202962703373951\n",
      "['PRON', 'VERB', 'DET'] NOUN 0.22232911983417958\n",
      "['PRON', 'VERB', 'DET', 'NOUN'] VERB 0.9832954733568615\n",
      "['PRON', 'VERB', 'DET', 'NOUN', 'VERB'] ADJ 0.8101252146139937\n"
     ]
    },
    {
     "name": "stderr",
     "output_type": "stream",
     "text": [
      "\n",
      " 50%|██████████████████████████████████████████                                          | 6/12 [02:08<02:11, 21.99s/it]\u001b[A"
     ]
    },
    {
     "name": "stdout",
     "output_type": "stream",
     "text": [
      "['PRON', 'VERB', 'DET', 'NOUN', 'VERB', 'ADJ'] . 0.13455915367626736\n",
      "['PRON', 'VERB', 'DET', 'NOUN', 'VERB', 'ADJ', '.']\n",
      "['DET'] ADJ 2.105399664405011\n",
      "['DET'] NOUN 0.6707314412944659\n",
      "['DET', 'NOUN'] NOUN 1.35558596810821\n",
      "['DET', 'NOUN', 'NOUN'] DET 2.0176742169113178\n",
      "['DET', 'NOUN', 'NOUN'] ADP 0.7978236111973712\n",
      "['DET', 'NOUN', 'NOUN', 'ADP'] ADJ 0.9862845162413704\n"
     ]
    },
    {
     "name": "stderr",
     "output_type": "stream",
     "text": [
      "\n",
      " 58%|█████████████████████████████████████████████████                                   | 7/12 [02:16<01:26, 17.34s/it]\u001b[A"
     ]
    },
    {
     "name": "stdout",
     "output_type": "stream",
     "text": [
      "['DET', 'NOUN', 'NOUN', 'ADP', 'ADJ'] . 1.1302103382357858\n",
      "['DET', 'NOUN', 'NOUN', 'ADP', 'ADJ', '.']\n",
      "['DET'] ADJ 2.105399664405011\n",
      "['DET'] NOUN 0.6707314412944659\n",
      "['DET', 'NOUN'] NOUN 1.35558596810821\n",
      "['DET', 'NOUN', 'NOUN'] VERB 0.7914969252976404\n",
      "['DET', 'NOUN', 'NOUN', 'VERB'] CONJ 1.7428284060172194\n",
      "['DET', 'NOUN', 'NOUN', 'VERB'] X 1.415243375864182\n",
      "['DET', 'NOUN', 'NOUN', 'VERB', 'X'] ADJ 1.190839262077375\n",
      "['DET', 'NOUN', 'NOUN', 'VERB', 'X', 'ADJ'] NOUN -0.0\n",
      "['DET', 'NOUN', 'NOUN', 'VERB', 'X', 'ADJ', 'NOUN'] . -0.0\n"
     ]
    },
    {
     "name": "stderr",
     "output_type": "stream",
     "text": [
      "\n",
      " 67%|████████████████████████████████████████████████████████                            | 8/12 [02:39<01:16, 19.12s/it]\u001b[A"
     ]
    },
    {
     "name": "stdout",
     "output_type": "stream",
     "text": [
      "['DET', 'NOUN', 'NOUN', 'VERB', 'X', 'ADJ', 'NOUN', '.']\n",
      "['DET'] NOUN 0.6707314412944659\n",
      "['DET', 'NOUN'] NOUN 1.35558596810821\n",
      "['DET', 'NOUN', 'NOUN'] ADV 1.7990678508228146\n",
      "['DET', 'NOUN'] VERB 1.2823212108167499\n",
      "['DET', 'NOUN', 'VERB'] ADV 0.9512269326928693\n",
      "['DET', 'NOUN', 'VERB', 'ADV'] PRON 1.67438670137992\n",
      "['DET', 'NOUN', 'VERB', 'ADV'] PRT 1.3955173970249362\n",
      "['DET', 'NOUN', 'VERB', 'ADV', 'PRT'] VERB 0.14008794362821841\n",
      "['DET', 'NOUN', 'VERB', 'ADV', 'PRT', 'VERB'] VERB 0.3333333333333333\n",
      "['DET', 'NOUN', 'VERB', 'ADV', 'PRT', 'VERB', 'VERB'] . 0.2857142857142857\n"
     ]
    },
    {
     "name": "stderr",
     "output_type": "stream",
     "text": [
      "\n",
      " 75%|███████████████████████████████████████████████████████████████                     | 9/12 [03:17<01:15, 25.04s/it]\u001b[A"
     ]
    },
    {
     "name": "stdout",
     "output_type": "stream",
     "text": [
      "['DET', 'NOUN', 'VERB', 'ADV', 'PRT', 'VERB', 'VERB', '.']\n",
      "['DET'] ADJ 2.105399664405011\n",
      "['DET'] NOUN 0.6707314412944659\n",
      "['DET', 'NOUN'] NOUN 1.35558596810821\n",
      "['DET', 'NOUN', 'NOUN'] ADJ 2.1850107873666\n",
      "['DET', 'NOUN', 'NOUN'] NOUN 0.8504628445372311\n",
      "['DET', 'NOUN', 'NOUN', 'NOUN'] NOUN 0.5511630948412821\n"
     ]
    },
    {
     "name": "stderr",
     "output_type": "stream",
     "text": [
      "\n",
      " 83%|█████████████████████████████████████████████████████████████████████▏             | 10/12 [03:24<00:39, 19.62s/it]\u001b[A"
     ]
    },
    {
     "name": "stdout",
     "output_type": "stream",
     "text": [
      "['DET', 'NOUN', 'NOUN', 'NOUN', 'NOUN'] . 0.27888317773255167\n",
      "['DET', 'NOUN', 'NOUN', 'NOUN', 'NOUN', '.']\n",
      "['ADP'] PRON 3.8435284728376686\n",
      "['ADP'] X 8.780237356495702\n",
      "['NOUN'] PRON 5.952130379420475\n",
      "['NOUN'] X 8.646521052888762\n",
      "['VERB'] PRON 4.221552366657197\n",
      "['VERB'] X 6.288073877108881\n",
      "['ADJ'] PRON 8.131334499831954\n"
     ]
    },
    {
     "name": "stderr",
     "output_type": "stream",
     "text": [
      "\n",
      " 92%|████████████████████████████████████████████████████████████████████████████       | 11/12 [03:31<00:15, 15.76s/it]\u001b[A"
     ]
    },
    {
     "name": "stdout",
     "output_type": "stream",
     "text": [
      "['ADJ'] X 9.240563569586714\n",
      "[]\n",
      "['ADP'] NOUN 1.8862377954163474\n"
     ]
    },
    {
     "name": "stderr",
     "output_type": "stream",
     "text": [
      "\n",
      "100%|███████████████████████████████████████████████████████████████████████████████████| 12/12 [03:33<00:00, 17.79s/it]\u001b[A\n",
      " 29%|███████████████████████▋                                                           | 4/14 [10:40<29:08, 174.86s/it]"
     ]
    },
    {
     "name": "stdout",
     "output_type": "stream",
     "text": [
      "['ADV'] NOUN 4.90361231495799\n",
      "[]\n"
     ]
    },
    {
     "name": "stderr",
     "output_type": "stream",
     "text": [
      "\n",
      "  0%|                                                                                            | 0/12 [00:00<?, ?it/s]\u001b[A"
     ]
    },
    {
     "name": "stdout",
     "output_type": "stream",
     "text": [
      "['DET'] ADJ 2.105399664405011\n",
      "['DET'] NOUN 0.6707314412944659\n",
      "['DET', 'NOUN'] NOUN 1.35558596810821\n",
      "['DET', 'NOUN', 'NOUN'] DET 2.0176742169113178\n",
      "['DET', 'NOUN', 'NOUN'] ADP 0.7978236111973712\n",
      "['DET', 'NOUN', 'NOUN', 'ADP'] NOUN 0.39000403589773136\n"
     ]
    },
    {
     "name": "stderr",
     "output_type": "stream",
     "text": [
      "\n",
      "  8%|███████                                                                             | 1/12 [00:07<01:18,  7.17s/it]\u001b[A"
     ]
    },
    {
     "name": "stdout",
     "output_type": "stream",
     "text": [
      "['DET', 'NOUN', 'NOUN', 'ADP', 'NOUN'] . 0.3663204936608563\n",
      "['DET', 'NOUN', 'NOUN', 'ADP', 'NOUN', '.']\n",
      "['DET'] ADJ 2.105399664405011\n",
      "['DET'] NOUN 0.6707314412944659\n",
      "['DET', 'NOUN'] NOUN 1.35558596810821\n",
      "['DET', 'NOUN', 'NOUN'] ADJ 2.1850107873666\n",
      "['DET', 'NOUN', 'NOUN'] NOUN 0.8504628445372311\n"
     ]
    },
    {
     "name": "stderr",
     "output_type": "stream",
     "text": [
      "\n",
      " 17%|██████████████                                                                      | 2/12 [00:12<01:02,  6.27s/it]\u001b[A"
     ]
    },
    {
     "name": "stdout",
     "output_type": "stream",
     "text": [
      "['DET', 'NOUN', 'NOUN', 'NOUN'] . 0.418350116347185\n",
      "['DET', 'NOUN', 'NOUN', 'NOUN', '.']\n",
      "['ADJ'] NOUN 0.5924382999268272\n",
      "['ADJ', 'NOUN'] VERB 1.4156966328385077\n",
      "['ADJ', 'NOUN', 'VERB'] VERB 0.5855680189875377\n",
      "['ADJ', 'NOUN', 'VERB', 'VERB'] ADP 0.49963574436201486\n",
      "['ADJ', 'NOUN', 'VERB', 'VERB', 'ADP'] DET 0.22984022303869228\n",
      "['ADJ', 'NOUN', 'VERB', 'VERB', 'ADP', 'DET'] NOUN 0.10775838315733129\n",
      "['ADJ', 'NOUN', 'VERB', 'VERB', 'ADP', 'DET', 'NOUN'] . 0.30807206938285586\n"
     ]
    },
    {
     "name": "stderr",
     "output_type": "stream",
     "text": [
      "\n",
      " 25%|█████████████████████                                                               | 3/12 [00:26<01:25,  9.47s/it]\u001b[A"
     ]
    },
    {
     "name": "stdout",
     "output_type": "stream",
     "text": [
      "['ADJ', 'NOUN', 'VERB', 'VERB', 'ADP', 'DET', 'NOUN', '.']\n",
      "['DET'] NOUN 0.6707314412944659\n",
      "['DET', 'NOUN'] NOUN 1.35558596810821\n",
      "['DET', 'NOUN', 'NOUN'] VERB 0.7914969252976404\n",
      "['DET', 'NOUN', 'NOUN', 'VERB'] VERB 0.4225893275594555\n",
      "['DET', 'NOUN', 'NOUN', 'VERB', 'VERB'] ADP 0.3918056437887388\n",
      "['DET', 'NOUN', 'NOUN', 'VERB', 'VERB', 'ADP'] VERB 0.7301369639901552\n",
      "['DET', 'NOUN', 'NOUN', 'VERB', 'VERB', 'ADP', 'VERB'] ADP 0.36928035724587943\n",
      "['DET', 'NOUN', 'NOUN', 'VERB', 'VERB', 'ADP', 'VERB', 'ADP'] NOUN -0.0\n",
      "['DET', 'NOUN', 'NOUN', 'VERB', 'VERB', 'ADP', 'VERB', 'ADP', 'NOUN'] . 1.845515608270757\n",
      "['DET', 'NOUN', 'NOUN', 'VERB', 'VERB', 'ADP', 'VERB'] PRT 2.3728057820624016\n",
      "['DET', 'NOUN', 'NOUN', 'VERB', 'VERB', 'ADP', 'VERB'] NOUN 0.36928035724587943\n",
      "['DET', 'NOUN', 'NOUN', 'VERB', 'VERB', 'ADP', 'VERB', 'NOUN'] NOUN 2.0762050593046015\n",
      "['DET', 'NOUN', 'NOUN', 'VERB', 'VERB', 'ADP', 'VERB'] ADV 2.3728057820624016\n",
      "['DET', 'NOUN', 'NOUN', 'VERB', 'VERB', 'ADP', 'VERB'] X 2.3728057820624016\n",
      "['DET', 'NOUN', 'NOUN', 'VERB', 'VERB'] X 1.1674699324710882\n",
      "['DET', 'NOUN', 'NOUN', 'VERB', 'VERB', 'X'] VERB 2.7682734124061352\n",
      "['DET', 'NOUN', 'NOUN', 'VERB', 'VERB'] ADV 0.7099546144517712\n",
      "['DET', 'NOUN', 'NOUN', 'VERB', 'VERB', 'ADV'] VERB 0.4650128217709614\n",
      "['DET', 'NOUN', 'NOUN', 'VERB', 'VERB', 'ADV', 'VERB'] ADP 0.18043348654768482\n",
      "['DET', 'NOUN', 'NOUN', 'VERB', 'VERB', 'ADV', 'VERB', 'ADP'] NOUN 0.16524101186092027\n",
      "['DET', 'NOUN', 'NOUN', 'VERB', 'VERB', 'ADV', 'VERB', 'ADP', 'NOUN'] . 0.1111111111111111\n"
     ]
    },
    {
     "name": "stderr",
     "output_type": "stream",
     "text": [
      "\n",
      " 33%|████████████████████████████                                                        | 4/12 [02:19<06:43, 50.39s/it]\u001b[A"
     ]
    },
    {
     "name": "stdout",
     "output_type": "stream",
     "text": [
      "['DET', 'NOUN', 'NOUN', 'VERB', 'VERB', 'ADV', 'VERB', 'ADP', 'NOUN', '.']\n",
      "['DET'] NOUN 0.6707314412944659\n",
      "['DET', 'NOUN'] NOUN 1.35558596810821\n",
      "['DET', 'NOUN', 'NOUN'] PRT 1.718923525190594\n",
      "['DET', 'NOUN', 'NOUN'] ADP 0.7978236111973712\n",
      "['DET', 'NOUN', 'NOUN', 'ADP'] ADP 1.568565415314262\n",
      "['DET', 'NOUN', 'NOUN', 'ADP'] PRT 1.6845521902542095\n",
      "['DET', 'NOUN', 'NOUN', 'ADP'] ADV 1.6271817287235177\n",
      "['DET', 'NOUN', 'NOUN', 'ADP'] X 2.0341895343767784\n",
      "['DET', 'NOUN', 'NOUN', 'ADP'] NOUN 0.39000403589773136\n",
      "['DET', 'NOUN', 'NOUN', 'ADP', 'NOUN'] NOUN 0.3464785728752764\n",
      "['DET', 'NOUN', 'NOUN', 'ADP', 'NOUN', 'NOUN'] . 0.2348271641448599\n"
     ]
    },
    {
     "name": "stderr",
     "output_type": "stream",
     "text": [
      "\n",
      " 42%|███████████████████████████████████                                                 | 5/12 [02:35<04:25, 37.96s/it]\u001b[A"
     ]
    },
    {
     "name": "stdout",
     "output_type": "stream",
     "text": [
      "['DET', 'NOUN', 'NOUN', 'ADP', 'NOUN', 'NOUN', '.']\n",
      "['PRON'] VERB 0.5663379905699087\n",
      "['PRON', 'VERB'] DET 1.4202962703373951\n",
      "['PRON', 'VERB', 'DET'] NOUN 0.22232911983417958\n",
      "['PRON', 'VERB', 'DET', 'NOUN'] VERB 0.9832954733568615\n",
      "['PRON', 'VERB', 'DET', 'NOUN', 'VERB'] ADJ 0.8101252146139937\n"
     ]
    },
    {
     "name": "stderr",
     "output_type": "stream",
     "text": [
      "\n",
      " 50%|██████████████████████████████████████████                                          | 6/12 [02:43<02:47, 27.90s/it]\u001b[A"
     ]
    },
    {
     "name": "stdout",
     "output_type": "stream",
     "text": [
      "['PRON', 'VERB', 'DET', 'NOUN', 'VERB', 'ADJ'] . 0.13455915367626736\n",
      "['PRON', 'VERB', 'DET', 'NOUN', 'VERB', 'ADJ', '.']\n",
      "['DET'] ADJ 2.105399664405011\n",
      "['DET'] NOUN 0.6707314412944659\n",
      "['DET', 'NOUN'] NOUN 1.35558596810821\n",
      "['DET', 'NOUN', 'NOUN'] DET 2.0176742169113178\n",
      "['DET', 'NOUN', 'NOUN'] ADP 0.7978236111973712\n",
      "['DET', 'NOUN', 'NOUN', 'ADP'] ADJ 0.9862845162413704\n"
     ]
    },
    {
     "name": "stderr",
     "output_type": "stream",
     "text": [
      "\n",
      " 58%|█████████████████████████████████████████████████                                   | 7/12 [02:52<01:48, 21.63s/it]\u001b[A"
     ]
    },
    {
     "name": "stdout",
     "output_type": "stream",
     "text": [
      "['DET', 'NOUN', 'NOUN', 'ADP', 'ADJ'] . 1.1302103382357858\n",
      "['DET', 'NOUN', 'NOUN', 'ADP', 'ADJ', '.']\n",
      "['DET'] ADJ 2.105399664405011\n",
      "['DET'] NOUN 0.6707314412944659\n",
      "['DET', 'NOUN'] NOUN 1.35558596810821\n",
      "['DET', 'NOUN', 'NOUN'] VERB 0.7914969252976404\n",
      "['DET', 'NOUN', 'NOUN', 'VERB'] CONJ 1.7428284060172194\n",
      "['DET', 'NOUN', 'NOUN', 'VERB'] X 1.415243375864182\n",
      "['DET', 'NOUN', 'NOUN', 'VERB', 'X'] ADJ 1.190839262077375\n",
      "['DET', 'NOUN', 'NOUN', 'VERB', 'X', 'ADJ'] NOUN -0.0\n",
      "['DET', 'NOUN', 'NOUN', 'VERB', 'X', 'ADJ', 'NOUN'] . -0.0\n"
     ]
    },
    {
     "name": "stderr",
     "output_type": "stream",
     "text": [
      "\n",
      " 67%|████████████████████████████████████████████████████████                            | 8/12 [03:08<01:19, 19.94s/it]\u001b[A"
     ]
    },
    {
     "name": "stdout",
     "output_type": "stream",
     "text": [
      "['DET', 'NOUN', 'NOUN', 'VERB', 'X', 'ADJ', 'NOUN', '.']\n",
      "['DET'] NOUN 0.6707314412944659\n",
      "['DET', 'NOUN'] NOUN 1.35558596810821\n",
      "['DET', 'NOUN', 'NOUN'] ADV 1.7990678508228146\n",
      "['DET', 'NOUN'] VERB 1.2823212108167499\n",
      "['DET', 'NOUN', 'VERB'] ADV 0.9512269326928693\n",
      "['DET', 'NOUN', 'VERB', 'ADV'] PRON 1.67438670137992\n",
      "['DET', 'NOUN', 'VERB', 'ADV'] PRT 1.3955173970249362\n",
      "['DET', 'NOUN', 'VERB', 'ADV', 'PRT'] VERB 0.14008794362821841\n",
      "['DET', 'NOUN', 'VERB', 'ADV', 'PRT', 'VERB'] VERB 0.3333333333333333\n",
      "['DET', 'NOUN', 'VERB', 'ADV', 'PRT', 'VERB', 'VERB'] . 0.2857142857142857\n"
     ]
    },
    {
     "name": "stderr",
     "output_type": "stream",
     "text": [
      "\n",
      " 75%|███████████████████████████████████████████████████████████████                     | 9/12 [03:24<00:56, 18.80s/it]\u001b[A"
     ]
    },
    {
     "name": "stdout",
     "output_type": "stream",
     "text": [
      "['DET', 'NOUN', 'VERB', 'ADV', 'PRT', 'VERB', 'VERB', '.']\n",
      "['DET'] ADJ 2.105399664405011\n",
      "['DET'] NOUN 0.6707314412944659\n",
      "['DET', 'NOUN'] NOUN 1.35558596810821\n",
      "['DET', 'NOUN', 'NOUN'] ADJ 2.1850107873666\n",
      "['DET', 'NOUN', 'NOUN'] NOUN 0.8504628445372311\n",
      "['DET', 'NOUN', 'NOUN', 'NOUN'] NOUN 0.5511630948412821\n"
     ]
    },
    {
     "name": "stderr",
     "output_type": "stream",
     "text": [
      "\n",
      " 83%|█████████████████████████████████████████████████████████████████████▏             | 10/12 [03:32<00:30, 15.42s/it]\u001b[A"
     ]
    },
    {
     "name": "stdout",
     "output_type": "stream",
     "text": [
      "['DET', 'NOUN', 'NOUN', 'NOUN', 'NOUN'] . 0.27888317773255167\n",
      "['DET', 'NOUN', 'NOUN', 'NOUN', 'NOUN', '.']\n",
      "['ADP'] PRON 3.8435284728376686\n",
      "['ADP'] X 8.780237356495702\n",
      "['NOUN'] PRON 5.952130379420475\n",
      "['NOUN'] X 8.646521052888762\n",
      "['VERB'] PRON 4.221552366657197\n",
      "['VERB'] X 6.288073877108881\n",
      "['ADJ'] PRON 8.131334499831954\n"
     ]
    },
    {
     "name": "stderr",
     "output_type": "stream",
     "text": [
      "\n",
      " 92%|████████████████████████████████████████████████████████████████████████████       | 11/12 [03:40<00:12, 12.98s/it]\u001b[A"
     ]
    },
    {
     "name": "stdout",
     "output_type": "stream",
     "text": [
      "['ADJ'] X 9.240563569586714\n",
      "[]\n",
      "['ADP'] NOUN 1.8862377954163474\n"
     ]
    },
    {
     "name": "stderr",
     "output_type": "stream",
     "text": [
      "\n",
      "100%|███████████████████████████████████████████████████████████████████████████████████| 12/12 [03:41<00:00, 18.49s/it]\u001b[A\n",
      " 36%|█████████████████████████████▋                                                     | 5/14 [14:22<28:46, 191.84s/it]"
     ]
    },
    {
     "name": "stdout",
     "output_type": "stream",
     "text": [
      "['ADV'] NOUN 4.90361231495799\n",
      "[]\n"
     ]
    },
    {
     "name": "stderr",
     "output_type": "stream",
     "text": [
      "\n",
      "  0%|                                                                                            | 0/12 [00:00<?, ?it/s]\u001b[A"
     ]
    },
    {
     "name": "stdout",
     "output_type": "stream",
     "text": [
      "['DET'] ADJ 2.105399664405011\n",
      "['DET'] NOUN 0.6707314412944659\n",
      "['DET', 'NOUN'] NOUN 1.35558596810821\n",
      "['DET', 'NOUN', 'NOUN'] DET 2.0176742169113178\n",
      "['DET', 'NOUN', 'NOUN'] ADP 0.7978236111973712\n",
      "['DET', 'NOUN', 'NOUN', 'ADP'] NOUN 0.39000403589773136\n"
     ]
    },
    {
     "name": "stderr",
     "output_type": "stream",
     "text": [
      "\n",
      "  8%|███████                                                                             | 1/12 [00:08<01:30,  8.24s/it]\u001b[A"
     ]
    },
    {
     "name": "stdout",
     "output_type": "stream",
     "text": [
      "['DET', 'NOUN', 'NOUN', 'ADP', 'NOUN'] . 0.3663204936608563\n",
      "['DET', 'NOUN', 'NOUN', 'ADP', 'NOUN', '.']\n",
      "['DET'] ADJ 2.105399664405011\n",
      "['DET'] NOUN 0.6707314412944659\n",
      "['DET', 'NOUN'] NOUN 1.35558596810821\n",
      "['DET', 'NOUN', 'NOUN'] ADJ 2.1850107873666\n",
      "['DET', 'NOUN', 'NOUN'] NOUN 0.8504628445372311\n"
     ]
    },
    {
     "name": "stderr",
     "output_type": "stream",
     "text": [
      "\n",
      " 17%|██████████████                                                                      | 2/12 [00:14<01:09,  6.97s/it]\u001b[A"
     ]
    },
    {
     "name": "stdout",
     "output_type": "stream",
     "text": [
      "['DET', 'NOUN', 'NOUN', 'NOUN'] . 0.418350116347185\n",
      "['DET', 'NOUN', 'NOUN', 'NOUN', '.']\n",
      "['ADJ'] NOUN 0.5924382999268272\n",
      "['ADJ', 'NOUN'] VERB 1.4156966328385077\n",
      "['ADJ', 'NOUN', 'VERB'] VERB 0.5855680189875377\n",
      "['ADJ', 'NOUN', 'VERB', 'VERB'] ADP 0.49963574436201486\n",
      "['ADJ', 'NOUN', 'VERB', 'VERB', 'ADP'] DET 0.22984022303869228\n",
      "['ADJ', 'NOUN', 'VERB', 'VERB', 'ADP', 'DET'] NOUN 0.10775838315733129\n",
      "['ADJ', 'NOUN', 'VERB', 'VERB', 'ADP', 'DET', 'NOUN'] . 0.30807206938285586\n"
     ]
    },
    {
     "name": "stderr",
     "output_type": "stream",
     "text": [
      "\n",
      " 25%|█████████████████████                                                               | 3/12 [00:29<01:37, 10.80s/it]\u001b[A"
     ]
    },
    {
     "name": "stdout",
     "output_type": "stream",
     "text": [
      "['ADJ', 'NOUN', 'VERB', 'VERB', 'ADP', 'DET', 'NOUN', '.']\n",
      "['DET'] NOUN 0.6707314412944659\n",
      "['DET', 'NOUN'] NOUN 1.35558596810821\n",
      "['DET', 'NOUN', 'NOUN'] VERB 0.7914969252976404\n",
      "['DET', 'NOUN', 'NOUN', 'VERB'] VERB 0.4225893275594555\n",
      "['DET', 'NOUN', 'NOUN', 'VERB', 'VERB'] ADP 0.3918056437887388\n",
      "['DET', 'NOUN', 'NOUN', 'VERB', 'VERB', 'ADP'] VERB 0.7301369639901552\n",
      "['DET', 'NOUN', 'NOUN', 'VERB', 'VERB', 'ADP', 'VERB'] ADP 0.36928035724587943\n",
      "['DET', 'NOUN', 'NOUN', 'VERB', 'VERB', 'ADP', 'VERB', 'ADP'] NOUN -0.0\n",
      "['DET', 'NOUN', 'NOUN', 'VERB', 'VERB', 'ADP', 'VERB', 'ADP', 'NOUN'] . 1.845515608270757\n",
      "['DET', 'NOUN', 'NOUN', 'VERB', 'VERB', 'ADP', 'VERB'] PRT 2.3728057820624016\n",
      "['DET', 'NOUN', 'NOUN', 'VERB', 'VERB', 'ADP', 'VERB'] NOUN 0.36928035724587943\n",
      "['DET', 'NOUN', 'NOUN', 'VERB', 'VERB', 'ADP', 'VERB', 'NOUN'] NOUN 2.0762050593046015\n",
      "['DET', 'NOUN', 'NOUN', 'VERB', 'VERB', 'ADP', 'VERB'] ADV 2.3728057820624016\n",
      "['DET', 'NOUN', 'NOUN', 'VERB', 'VERB', 'ADP', 'VERB'] X 2.3728057820624016\n",
      "['DET', 'NOUN', 'NOUN', 'VERB', 'VERB'] X 1.1674699324710882\n",
      "['DET', 'NOUN', 'NOUN', 'VERB', 'VERB', 'X'] VERB 2.7682734124061352\n",
      "['DET', 'NOUN', 'NOUN', 'VERB', 'VERB'] ADV 0.7099546144517712\n",
      "['DET', 'NOUN', 'NOUN', 'VERB', 'VERB', 'ADV'] VERB 0.4650128217709614\n",
      "['DET', 'NOUN', 'NOUN', 'VERB', 'VERB', 'ADV', 'VERB'] ADP 0.18043348654768482\n",
      "['DET', 'NOUN', 'NOUN', 'VERB', 'VERB', 'ADV', 'VERB', 'ADP'] NOUN 0.16524101186092027\n",
      "['DET', 'NOUN', 'NOUN', 'VERB', 'VERB', 'ADV', 'VERB', 'ADP', 'NOUN'] . 0.1111111111111111\n"
     ]
    },
    {
     "name": "stderr",
     "output_type": "stream",
     "text": [
      "\n",
      " 33%|████████████████████████████                                                        | 4/12 [02:13<06:19, 47.40s/it]\u001b[A"
     ]
    },
    {
     "name": "stdout",
     "output_type": "stream",
     "text": [
      "['DET', 'NOUN', 'NOUN', 'VERB', 'VERB', 'ADV', 'VERB', 'ADP', 'NOUN', '.']\n",
      "['DET'] NOUN 0.6707314412944659\n",
      "['DET', 'NOUN'] NOUN 1.35558596810821\n",
      "['DET', 'NOUN', 'NOUN'] PRT 1.718923525190594\n",
      "['DET', 'NOUN', 'NOUN'] ADP 0.7978236111973712\n",
      "['DET', 'NOUN', 'NOUN', 'ADP'] ADP 1.568565415314262\n",
      "['DET', 'NOUN', 'NOUN', 'ADP'] PRT 1.6845521902542095\n",
      "['DET', 'NOUN', 'NOUN', 'ADP'] ADV 1.6271817287235177\n",
      "['DET', 'NOUN', 'NOUN', 'ADP'] X 2.0341895343767784\n",
      "['DET', 'NOUN', 'NOUN', 'ADP'] NOUN 0.39000403589773136\n",
      "['DET', 'NOUN', 'NOUN', 'ADP', 'NOUN'] NOUN 0.3464785728752764\n",
      "['DET', 'NOUN', 'NOUN', 'ADP', 'NOUN', 'NOUN'] . 0.2348271641448599\n"
     ]
    },
    {
     "name": "stderr",
     "output_type": "stream",
     "text": [
      "\n",
      " 42%|███████████████████████████████████                                                 | 5/12 [02:35<04:28, 38.32s/it]\u001b[A"
     ]
    },
    {
     "name": "stdout",
     "output_type": "stream",
     "text": [
      "['DET', 'NOUN', 'NOUN', 'ADP', 'NOUN', 'NOUN', '.']\n",
      "['PRON'] VERB 0.5663379905699087\n",
      "['PRON', 'VERB'] DET 1.4202962703373951\n",
      "['PRON', 'VERB', 'DET'] NOUN 0.22232911983417958\n",
      "['PRON', 'VERB', 'DET', 'NOUN'] VERB 0.9832954733568615\n",
      "['PRON', 'VERB', 'DET', 'NOUN', 'VERB'] ADJ 0.8101252146139937\n",
      "['PRON', 'VERB', 'DET', 'NOUN', 'VERB', 'ADJ'] . 0.13455915367626736\n"
     ]
    },
    {
     "name": "stderr",
     "output_type": "stream",
     "text": [
      "\n",
      " 50%|██████████████████████████████████████████                                          | 6/12 [02:51<03:04, 30.70s/it]\u001b[A"
     ]
    },
    {
     "name": "stdout",
     "output_type": "stream",
     "text": [
      "['PRON', 'VERB', 'DET', 'NOUN', 'VERB', 'ADJ', '.']\n",
      "['DET'] ADJ 2.105399664405011\n",
      "['DET'] NOUN 0.6707314412944659\n",
      "['DET', 'NOUN'] NOUN 1.35558596810821\n",
      "['DET', 'NOUN', 'NOUN'] DET 2.0176742169113178\n",
      "['DET', 'NOUN', 'NOUN'] ADP 0.7978236111973712\n",
      "['DET', 'NOUN', 'NOUN', 'ADP'] ADJ 0.9862845162413704\n"
     ]
    },
    {
     "name": "stderr",
     "output_type": "stream",
     "text": [
      "\n",
      " 58%|█████████████████████████████████████████████████                                   | 7/12 [03:00<01:57, 23.53s/it]\u001b[A"
     ]
    },
    {
     "name": "stdout",
     "output_type": "stream",
     "text": [
      "['DET', 'NOUN', 'NOUN', 'ADP', 'ADJ'] . 1.1302103382357858\n",
      "['DET', 'NOUN', 'NOUN', 'ADP', 'ADJ', '.']\n",
      "['DET'] ADJ 2.105399664405011\n",
      "['DET'] NOUN 0.6707314412944659\n",
      "['DET', 'NOUN'] NOUN 1.35558596810821\n",
      "['DET', 'NOUN', 'NOUN'] VERB 0.7914969252976404\n",
      "['DET', 'NOUN', 'NOUN', 'VERB'] CONJ 1.7428284060172194\n",
      "['DET', 'NOUN', 'NOUN', 'VERB'] X 1.415243375864182\n",
      "['DET', 'NOUN', 'NOUN', 'VERB', 'X'] ADJ 1.190839262077375\n",
      "['DET', 'NOUN', 'NOUN', 'VERB', 'X', 'ADJ'] NOUN -0.0\n",
      "['DET', 'NOUN', 'NOUN', 'VERB', 'X', 'ADJ', 'NOUN'] . -0.0\n"
     ]
    },
    {
     "name": "stderr",
     "output_type": "stream",
     "text": [
      "\n",
      " 67%|████████████████████████████████████████████████████████                            | 8/12 [03:17<01:26, 21.59s/it]\u001b[A"
     ]
    },
    {
     "name": "stdout",
     "output_type": "stream",
     "text": [
      "['DET', 'NOUN', 'NOUN', 'VERB', 'X', 'ADJ', 'NOUN', '.']\n",
      "['DET'] NOUN 0.6707314412944659\n",
      "['DET', 'NOUN'] NOUN 1.35558596810821\n",
      "['DET', 'NOUN', 'NOUN'] ADV 1.7990678508228146\n",
      "['DET', 'NOUN'] VERB 1.2823212108167499\n",
      "['DET', 'NOUN', 'VERB'] ADV 0.9512269326928693\n",
      "['DET', 'NOUN', 'VERB', 'ADV'] PRON 1.67438670137992\n",
      "['DET', 'NOUN', 'VERB', 'ADV'] PRT 1.3955173970249362\n",
      "['DET', 'NOUN', 'VERB', 'ADV', 'PRT'] VERB 0.14008794362821841\n",
      "['DET', 'NOUN', 'VERB', 'ADV', 'PRT', 'VERB'] VERB 0.3333333333333333\n",
      "['DET', 'NOUN', 'VERB', 'ADV', 'PRT', 'VERB', 'VERB'] . 0.2857142857142857\n"
     ]
    },
    {
     "name": "stderr",
     "output_type": "stream",
     "text": [
      "\n",
      " 75%|███████████████████████████████████████████████████████████████                     | 9/12 [03:37<01:03, 21.05s/it]\u001b[A"
     ]
    },
    {
     "name": "stdout",
     "output_type": "stream",
     "text": [
      "['DET', 'NOUN', 'VERB', 'ADV', 'PRT', 'VERB', 'VERB', '.']\n",
      "['DET'] ADJ 2.105399664405011\n",
      "['DET'] NOUN 0.6707314412944659\n",
      "['DET', 'NOUN'] NOUN 1.35558596810821\n",
      "['DET', 'NOUN', 'NOUN'] ADJ 2.1850107873666\n",
      "['DET', 'NOUN', 'NOUN'] NOUN 0.8504628445372311\n",
      "['DET', 'NOUN', 'NOUN', 'NOUN'] NOUN 0.5511630948412821\n"
     ]
    },
    {
     "name": "stderr",
     "output_type": "stream",
     "text": [
      "\n",
      " 83%|█████████████████████████████████████████████████████████████████████▏             | 10/12 [03:45<00:34, 17.19s/it]\u001b[A"
     ]
    },
    {
     "name": "stdout",
     "output_type": "stream",
     "text": [
      "['DET', 'NOUN', 'NOUN', 'NOUN', 'NOUN'] . 0.27888317773255167\n",
      "['DET', 'NOUN', 'NOUN', 'NOUN', 'NOUN', '.']\n",
      "['ADP'] PRON 3.8435284728376686\n",
      "['ADP'] X 8.780237356495702\n",
      "['NOUN'] PRON 5.952130379420475\n",
      "['NOUN'] X 8.646521052888762\n",
      "['VERB'] PRON 4.221552366657197\n",
      "['VERB'] X 6.288073877108881\n",
      "['ADJ'] PRON 8.131334499831954\n"
     ]
    },
    {
     "name": "stderr",
     "output_type": "stream",
     "text": [
      "\n",
      " 92%|████████████████████████████████████████████████████████████████████████████       | 11/12 [03:53<00:14, 14.26s/it]\u001b[A"
     ]
    },
    {
     "name": "stdout",
     "output_type": "stream",
     "text": [
      "['ADJ'] X 9.240563569586714\n",
      "[]\n",
      "['ADP'] NOUN 1.8862377954163474\n"
     ]
    },
    {
     "name": "stderr",
     "output_type": "stream",
     "text": [
      "\n",
      "100%|███████████████████████████████████████████████████████████████████████████████████| 12/12 [03:55<00:00, 19.62s/it]\u001b[A\n",
      " 43%|███████████████████████████████████▌                                               | 6/14 [18:18<27:33, 206.67s/it]"
     ]
    },
    {
     "name": "stdout",
     "output_type": "stream",
     "text": [
      "['ADV'] NOUN 4.90361231495799\n",
      "[]\n"
     ]
    },
    {
     "name": "stderr",
     "output_type": "stream",
     "text": [
      "\n",
      "  0%|                                                                                            | 0/12 [00:00<?, ?it/s]\u001b[A"
     ]
    },
    {
     "name": "stdout",
     "output_type": "stream",
     "text": [
      "['DET'] ADJ 2.105399664405011\n",
      "['DET'] NOUN 0.6707314412944659\n",
      "['DET', 'NOUN'] NOUN 1.35558596810821\n",
      "['DET', 'NOUN', 'NOUN'] DET 2.0176742169113178\n",
      "['DET', 'NOUN', 'NOUN'] ADP 0.7978236111973712\n",
      "['DET', 'NOUN', 'NOUN', 'ADP'] NOUN 0.39000403589773136\n"
     ]
    },
    {
     "name": "stderr",
     "output_type": "stream",
     "text": [
      "\n",
      "  8%|███████                                                                             | 1/12 [00:07<01:26,  7.88s/it]\u001b[A"
     ]
    },
    {
     "name": "stdout",
     "output_type": "stream",
     "text": [
      "['DET', 'NOUN', 'NOUN', 'ADP', 'NOUN'] . 0.3663204936608563\n",
      "['DET', 'NOUN', 'NOUN', 'ADP', 'NOUN', '.']\n",
      "['DET'] ADJ 2.105399664405011\n",
      "['DET'] NOUN 0.6707314412944659\n",
      "['DET', 'NOUN'] NOUN 1.35558596810821\n",
      "['DET', 'NOUN', 'NOUN'] ADJ 2.1850107873666\n",
      "['DET', 'NOUN', 'NOUN'] NOUN 0.8504628445372311\n"
     ]
    },
    {
     "name": "stderr",
     "output_type": "stream",
     "text": [
      "\n",
      " 17%|██████████████                                                                      | 2/12 [00:14<01:10,  7.07s/it]\u001b[A"
     ]
    },
    {
     "name": "stdout",
     "output_type": "stream",
     "text": [
      "['DET', 'NOUN', 'NOUN', 'NOUN'] . 0.418350116347185\n",
      "['DET', 'NOUN', 'NOUN', 'NOUN', '.']\n",
      "['ADJ'] NOUN 0.5924382999268272\n",
      "['ADJ', 'NOUN'] VERB 1.4156966328385077\n",
      "['ADJ', 'NOUN', 'VERB'] VERB 0.5855680189875377\n",
      "['ADJ', 'NOUN', 'VERB', 'VERB'] ADP 0.49963574436201486\n",
      "['ADJ', 'NOUN', 'VERB', 'VERB', 'ADP'] DET 0.22984022303869228\n",
      "['ADJ', 'NOUN', 'VERB', 'VERB', 'ADP', 'DET'] NOUN 0.10775838315733129\n",
      "['ADJ', 'NOUN', 'VERB', 'VERB', 'ADP', 'DET', 'NOUN'] . 0.30807206938285586\n"
     ]
    },
    {
     "name": "stderr",
     "output_type": "stream",
     "text": [
      "\n",
      " 25%|█████████████████████                                                               | 3/12 [00:29<01:37, 10.78s/it]\u001b[A"
     ]
    },
    {
     "name": "stdout",
     "output_type": "stream",
     "text": [
      "['ADJ', 'NOUN', 'VERB', 'VERB', 'ADP', 'DET', 'NOUN', '.']\n",
      "['DET'] NOUN 0.6707314412944659\n",
      "['DET', 'NOUN'] NOUN 1.35558596810821\n",
      "['DET', 'NOUN', 'NOUN'] VERB 0.7914969252976404\n",
      "['DET', 'NOUN', 'NOUN', 'VERB'] VERB 0.4225893275594555\n",
      "['DET', 'NOUN', 'NOUN', 'VERB', 'VERB'] ADP 0.3918056437887388\n",
      "['DET', 'NOUN', 'NOUN', 'VERB', 'VERB', 'ADP'] VERB 0.7301369639901552\n",
      "['DET', 'NOUN', 'NOUN', 'VERB', 'VERB', 'ADP', 'VERB'] ADP 0.36928035724587943\n",
      "['DET', 'NOUN', 'NOUN', 'VERB', 'VERB', 'ADP', 'VERB', 'ADP'] NOUN -0.0\n",
      "['DET', 'NOUN', 'NOUN', 'VERB', 'VERB', 'ADP', 'VERB', 'ADP', 'NOUN'] . 1.845515608270757\n",
      "['DET', 'NOUN', 'NOUN', 'VERB', 'VERB', 'ADP', 'VERB'] PRT 2.3728057820624016\n",
      "['DET', 'NOUN', 'NOUN', 'VERB', 'VERB', 'ADP', 'VERB'] NOUN 0.36928035724587943\n",
      "['DET', 'NOUN', 'NOUN', 'VERB', 'VERB', 'ADP', 'VERB', 'NOUN'] NOUN 2.0762050593046015\n",
      "['DET', 'NOUN', 'NOUN', 'VERB', 'VERB', 'ADP', 'VERB'] ADV 2.3728057820624016\n",
      "['DET', 'NOUN', 'NOUN', 'VERB', 'VERB', 'ADP', 'VERB'] X 2.3728057820624016\n",
      "['DET', 'NOUN', 'NOUN', 'VERB', 'VERB'] X 1.1674699324710882\n",
      "['DET', 'NOUN', 'NOUN', 'VERB', 'VERB', 'X'] VERB 2.7682734124061352\n",
      "['DET', 'NOUN', 'NOUN', 'VERB', 'VERB'] ADV 0.7099546144517712\n",
      "['DET', 'NOUN', 'NOUN', 'VERB', 'VERB', 'ADV'] VERB 0.4650128217709614\n",
      "['DET', 'NOUN', 'NOUN', 'VERB', 'VERB', 'ADV', 'VERB'] ADP 0.18043348654768482\n",
      "['DET', 'NOUN', 'NOUN', 'VERB', 'VERB', 'ADV', 'VERB', 'ADP'] NOUN 0.16524101186092027\n",
      "['DET', 'NOUN', 'NOUN', 'VERB', 'VERB', 'ADV', 'VERB', 'ADP', 'NOUN'] . 0.1111111111111111\n"
     ]
    },
    {
     "name": "stderr",
     "output_type": "stream",
     "text": [
      "\n",
      " 33%|████████████████████████████                                                        | 4/12 [01:47<04:58, 37.30s/it]\u001b[A"
     ]
    },
    {
     "name": "stdout",
     "output_type": "stream",
     "text": [
      "['DET', 'NOUN', 'NOUN', 'VERB', 'VERB', 'ADV', 'VERB', 'ADP', 'NOUN', '.']\n",
      "['DET'] NOUN 0.6707314412944659\n",
      "['DET', 'NOUN'] NOUN 1.35558596810821\n",
      "['DET', 'NOUN', 'NOUN'] PRT 1.718923525190594\n",
      "['DET', 'NOUN', 'NOUN'] ADP 0.7978236111973712\n",
      "['DET', 'NOUN', 'NOUN', 'ADP'] ADP 1.568565415314262\n",
      "['DET', 'NOUN', 'NOUN', 'ADP', 'ADP'] NOUN 0.6643856189774724\n",
      "['DET', 'NOUN', 'NOUN', 'ADP', 'ADP', 'NOUN'] . 2.7682734124061352\n",
      "['DET', 'NOUN', 'NOUN', 'ADP'] PRT 1.6845521902542095\n",
      "['DET', 'NOUN', 'NOUN', 'ADP'] ADV 1.6271817287235177\n",
      "['DET', 'NOUN', 'NOUN', 'ADP'] X 2.0341895343767784\n",
      "['DET', 'NOUN', 'NOUN', 'ADP'] NOUN 0.39000403589773136\n",
      "['DET', 'NOUN', 'NOUN', 'ADP', 'NOUN'] NOUN 0.3464785728752764\n"
     ]
    },
    {
     "name": "stderr",
     "output_type": "stream",
     "text": [
      "\n",
      " 42%|███████████████████████████████████                                                 | 5/12 [02:08<03:40, 31.43s/it]\u001b[A"
     ]
    },
    {
     "name": "stdout",
     "output_type": "stream",
     "text": [
      "['DET', 'NOUN', 'NOUN', 'ADP', 'NOUN', 'NOUN'] . 0.2348271641448599\n",
      "['DET', 'NOUN', 'NOUN', 'ADP', 'NOUN', 'NOUN', '.']\n",
      "['PRON'] VERB 0.5663379905699087\n",
      "['PRON', 'VERB'] DET 1.4202962703373951\n",
      "['PRON', 'VERB', 'DET'] NOUN 0.22232911983417958\n",
      "['PRON', 'VERB', 'DET', 'NOUN'] VERB 0.9832954733568615\n",
      "['PRON', 'VERB', 'DET', 'NOUN', 'VERB'] ADJ 0.8101252146139937\n"
     ]
    },
    {
     "name": "stderr",
     "output_type": "stream",
     "text": [
      "\n",
      " 50%|██████████████████████████████████████████                                          | 6/12 [02:19<02:25, 24.29s/it]"
     ]
    },
    {
     "name": "stdout",
     "output_type": "stream",
     "text": [
      "['PRON', 'VERB', 'DET', 'NOUN', 'VERB', 'ADJ'] . 0.13455915367626736\n",
      "['PRON', 'VERB', 'DET', 'NOUN', 'VERB', 'ADJ', '.']\n"
     ]
    },
    {
     "name": "stderr",
     "output_type": "stream",
     "text": [
      "\u001b[A"
     ]
    },
    {
     "name": "stdout",
     "output_type": "stream",
     "text": [
      "['DET'] ADJ 2.105399664405011\n",
      "['DET'] NOUN 0.6707314412944659\n",
      "['DET', 'NOUN'] NOUN 1.35558596810821\n",
      "['DET', 'NOUN', 'NOUN'] DET 2.0176742169113178\n",
      "['DET', 'NOUN', 'NOUN'] ADP 0.7978236111973712\n",
      "['DET', 'NOUN', 'NOUN', 'ADP'] ADJ 0.9862845162413704\n"
     ]
    },
    {
     "name": "stderr",
     "output_type": "stream",
     "text": [
      "\n",
      " 58%|█████████████████████████████████████████████████                                   | 7/12 [02:26<01:34, 18.92s/it]\u001b[A"
     ]
    },
    {
     "name": "stdout",
     "output_type": "stream",
     "text": [
      "['DET', 'NOUN', 'NOUN', 'ADP', 'ADJ'] . 1.1302103382357858\n",
      "['DET', 'NOUN', 'NOUN', 'ADP', 'ADJ', '.']\n",
      "['DET'] ADJ 2.105399664405011\n",
      "['DET'] NOUN 0.6707314412944659\n",
      "['DET', 'NOUN'] NOUN 1.35558596810821\n",
      "['DET', 'NOUN', 'NOUN'] VERB 0.7914969252976404\n",
      "['DET', 'NOUN', 'NOUN', 'VERB'] CONJ 1.7428284060172194\n",
      "['DET', 'NOUN', 'NOUN', 'VERB'] X 1.415243375864182\n",
      "['DET', 'NOUN', 'NOUN', 'VERB', 'X'] ADJ 1.190839262077375\n",
      "['DET', 'NOUN', 'NOUN', 'VERB', 'X', 'ADJ'] NOUN -0.0\n",
      "['DET', 'NOUN', 'NOUN', 'VERB', 'X', 'ADJ', 'NOUN'] . -0.0\n"
     ]
    },
    {
     "name": "stderr",
     "output_type": "stream",
     "text": [
      "\n",
      " 67%|████████████████████████████████████████████████████████                            | 8/12 [02:41<01:10, 17.60s/it]\u001b[A"
     ]
    },
    {
     "name": "stdout",
     "output_type": "stream",
     "text": [
      "['DET', 'NOUN', 'NOUN', 'VERB', 'X', 'ADJ', 'NOUN', '.']\n",
      "['DET'] NOUN 0.6707314412944659\n",
      "['DET', 'NOUN'] NOUN 1.35558596810821\n",
      "['DET', 'NOUN', 'NOUN'] ADV 1.7990678508228146\n",
      "['DET', 'NOUN'] VERB 1.2823212108167499\n",
      "['DET', 'NOUN', 'VERB'] ADV 0.9512269326928693\n",
      "['DET', 'NOUN', 'VERB', 'ADV'] PRON 1.67438670137992\n",
      "['DET', 'NOUN', 'VERB', 'ADV'] PRT 1.3955173970249362\n",
      "['DET', 'NOUN', 'VERB', 'ADV', 'PRT'] VERB 0.14008794362821841\n",
      "['DET', 'NOUN', 'VERB', 'ADV', 'PRT', 'VERB'] VERB 0.3333333333333333\n",
      "['DET', 'NOUN', 'VERB', 'ADV', 'PRT', 'VERB', 'VERB'] . 0.2857142857142857\n"
     ]
    },
    {
     "name": "stderr",
     "output_type": "stream",
     "text": [
      "\n",
      " 75%|███████████████████████████████████████████████████████████████                     | 9/12 [02:59<00:52, 17.63s/it]\u001b[A"
     ]
    },
    {
     "name": "stdout",
     "output_type": "stream",
     "text": [
      "['DET', 'NOUN', 'VERB', 'ADV', 'PRT', 'VERB', 'VERB', '.']\n",
      "['DET'] ADJ 2.105399664405011\n",
      "['DET'] NOUN 0.6707314412944659\n",
      "['DET', 'NOUN'] NOUN 1.35558596810821\n",
      "['DET', 'NOUN', 'NOUN'] ADJ 2.1850107873666\n",
      "['DET', 'NOUN', 'NOUN'] NOUN 0.8504628445372311\n",
      "['DET', 'NOUN', 'NOUN', 'NOUN'] NOUN 0.5511630948412821\n"
     ]
    },
    {
     "name": "stderr",
     "output_type": "stream",
     "text": [
      "\n",
      " 83%|█████████████████████████████████████████████████████████████████████▏             | 10/12 [03:06<00:29, 14.54s/it]\u001b[A"
     ]
    },
    {
     "name": "stdout",
     "output_type": "stream",
     "text": [
      "['DET', 'NOUN', 'NOUN', 'NOUN', 'NOUN'] . 0.27888317773255167\n",
      "['DET', 'NOUN', 'NOUN', 'NOUN', 'NOUN', '.']\n",
      "['ADP'] PRON 3.8435284728376686\n",
      "['ADP'] X 8.780237356495702\n",
      "['NOUN'] PRON 5.952130379420475\n",
      "['NOUN'] X 8.646521052888762\n",
      "['VERB'] PRON 4.221552366657197\n",
      "['VERB'] X 6.288073877108881\n",
      "['ADJ'] PRON 8.131334499831954\n"
     ]
    },
    {
     "name": "stderr",
     "output_type": "stream",
     "text": [
      "\n",
      " 92%|████████████████████████████████████████████████████████████████████████████       | 11/12 [03:14<00:12, 12.28s/it]\u001b[A"
     ]
    },
    {
     "name": "stdout",
     "output_type": "stream",
     "text": [
      "['ADJ'] X 9.240563569586714\n",
      "[]\n",
      "['ADP'] NOUN 1.8862377954163474\n"
     ]
    },
    {
     "name": "stderr",
     "output_type": "stream",
     "text": [
      "\n",
      "100%|███████████████████████████████████████████████████████████████████████████████████| 12/12 [03:15<00:00, 16.32s/it]\u001b[A\n",
      " 50%|█████████████████████████████████████████▌                                         | 7/14 [21:33<23:42, 203.15s/it]"
     ]
    },
    {
     "name": "stdout",
     "output_type": "stream",
     "text": [
      "['ADV'] NOUN 4.90361231495799\n",
      "[]\n"
     ]
    },
    {
     "name": "stderr",
     "output_type": "stream",
     "text": [
      "\n",
      "  0%|                                                                                            | 0/12 [00:00<?, ?it/s]\u001b[A"
     ]
    },
    {
     "name": "stdout",
     "output_type": "stream",
     "text": [
      "['DET'] ADJ 2.105399664405011\n",
      "['DET'] NOUN 0.6707314412944659\n",
      "['DET', 'NOUN'] NOUN 1.35558596810821\n",
      "['DET', 'NOUN', 'NOUN'] DET 2.0176742169113178\n",
      "['DET', 'NOUN', 'NOUN'] ADP 0.7978236111973712\n",
      "['DET', 'NOUN', 'NOUN', 'ADP'] NOUN 0.39000403589773136\n"
     ]
    },
    {
     "name": "stderr",
     "output_type": "stream",
     "text": [
      "\n",
      "  8%|███████                                                                             | 1/12 [00:07<01:23,  7.61s/it]\u001b[A"
     ]
    },
    {
     "name": "stdout",
     "output_type": "stream",
     "text": [
      "['DET', 'NOUN', 'NOUN', 'ADP', 'NOUN'] . 0.3663204936608563\n",
      "['DET', 'NOUN', 'NOUN', 'ADP', 'NOUN', '.']\n",
      "['DET'] ADJ 2.105399664405011\n",
      "['DET'] NOUN 0.6707314412944659\n",
      "['DET', 'NOUN'] NOUN 1.35558596810821\n",
      "['DET', 'NOUN', 'NOUN'] ADJ 2.1850107873666\n",
      "['DET', 'NOUN', 'NOUN'] NOUN 0.8504628445372311\n"
     ]
    },
    {
     "name": "stderr",
     "output_type": "stream",
     "text": [
      "\n",
      " 17%|██████████████                                                                      | 2/12 [00:13<01:06,  6.60s/it]\u001b[A"
     ]
    },
    {
     "name": "stdout",
     "output_type": "stream",
     "text": [
      "['DET', 'NOUN', 'NOUN', 'NOUN'] . 0.418350116347185\n",
      "['DET', 'NOUN', 'NOUN', 'NOUN', '.']\n",
      "['ADJ'] NOUN 0.5924382999268272\n",
      "['ADJ', 'NOUN'] VERB 1.4156966328385077\n",
      "['ADJ', 'NOUN', 'VERB'] VERB 0.5855680189875377\n",
      "['ADJ', 'NOUN', 'VERB', 'VERB'] ADP 0.49963574436201486\n",
      "['ADJ', 'NOUN', 'VERB', 'VERB', 'ADP'] DET 0.22984022303869228\n",
      "['ADJ', 'NOUN', 'VERB', 'VERB', 'ADP', 'DET'] NOUN 0.10775838315733129\n",
      "['ADJ', 'NOUN', 'VERB', 'VERB', 'ADP', 'DET', 'NOUN'] . 0.30807206938285586\n"
     ]
    },
    {
     "name": "stderr",
     "output_type": "stream",
     "text": [
      "\n",
      " 25%|█████████████████████                                                               | 3/12 [00:27<01:30, 10.06s/it]\u001b[A"
     ]
    },
    {
     "name": "stdout",
     "output_type": "stream",
     "text": [
      "['ADJ', 'NOUN', 'VERB', 'VERB', 'ADP', 'DET', 'NOUN', '.']\n",
      "['DET'] NOUN 0.6707314412944659\n",
      "['DET', 'NOUN'] NOUN 1.35558596810821\n",
      "['DET', 'NOUN', 'NOUN'] VERB 0.7914969252976404\n",
      "['DET', 'NOUN', 'NOUN', 'VERB'] VERB 0.4225893275594555\n",
      "['DET', 'NOUN', 'NOUN', 'VERB', 'VERB'] ADP 0.3918056437887388\n",
      "['DET', 'NOUN', 'NOUN', 'VERB', 'VERB', 'ADP'] VERB 0.7301369639901552\n",
      "['DET', 'NOUN', 'NOUN', 'VERB', 'VERB', 'ADP', 'VERB'] ADP 0.36928035724587943\n",
      "['DET', 'NOUN', 'NOUN', 'VERB', 'VERB', 'ADP', 'VERB', 'ADP'] NOUN -0.0\n",
      "['DET', 'NOUN', 'NOUN', 'VERB', 'VERB', 'ADP', 'VERB', 'ADP', 'NOUN'] . 1.845515608270757\n",
      "['DET', 'NOUN', 'NOUN', 'VERB', 'VERB', 'ADP', 'VERB'] PRT 2.3728057820624016\n",
      "['DET', 'NOUN', 'NOUN', 'VERB', 'VERB', 'ADP', 'VERB'] NOUN 0.36928035724587943\n",
      "['DET', 'NOUN', 'NOUN', 'VERB', 'VERB', 'ADP', 'VERB', 'NOUN'] NOUN 2.0762050593046015\n",
      "['DET', 'NOUN', 'NOUN', 'VERB', 'VERB', 'ADP', 'VERB'] ADV 2.3728057820624016\n",
      "['DET', 'NOUN', 'NOUN', 'VERB', 'VERB', 'ADP', 'VERB'] X 2.3728057820624016\n",
      "['DET', 'NOUN', 'NOUN', 'VERB', 'VERB'] X 1.1674699324710882\n",
      "['DET', 'NOUN', 'NOUN', 'VERB', 'VERB', 'X'] VERB 2.7682734124061352\n",
      "['DET', 'NOUN', 'NOUN', 'VERB', 'VERB'] ADV 0.7099546144517712\n",
      "['DET', 'NOUN', 'NOUN', 'VERB', 'VERB', 'ADV'] VERB 0.4650128217709614\n",
      "['DET', 'NOUN', 'NOUN', 'VERB', 'VERB', 'ADV', 'VERB'] ADP 0.18043348654768482\n",
      "['DET', 'NOUN', 'NOUN', 'VERB', 'VERB', 'ADV', 'VERB', 'ADP'] NOUN 0.16524101186092027\n",
      "['DET', 'NOUN', 'NOUN', 'VERB', 'VERB', 'ADV', 'VERB', 'ADP', 'NOUN'] . 0.1111111111111111\n"
     ]
    },
    {
     "name": "stderr",
     "output_type": "stream",
     "text": [
      "\n",
      " 33%|████████████████████████████                                                        | 4/12 [01:48<05:04, 38.03s/it]\u001b[A"
     ]
    },
    {
     "name": "stdout",
     "output_type": "stream",
     "text": [
      "['DET', 'NOUN', 'NOUN', 'VERB', 'VERB', 'ADV', 'VERB', 'ADP', 'NOUN', '.']\n",
      "['DET'] NOUN 0.6707314412944659\n",
      "['DET', 'NOUN'] NOUN 1.35558596810821\n",
      "['DET', 'NOUN', 'NOUN'] PRT 1.718923525190594\n",
      "['DET', 'NOUN', 'NOUN'] ADP 0.7978236111973712\n",
      "['DET', 'NOUN', 'NOUN', 'ADP'] ADP 1.568565415314262\n",
      "['DET', 'NOUN', 'NOUN', 'ADP', 'ADP'] NOUN 0.6643856189774724\n",
      "['DET', 'NOUN', 'NOUN', 'ADP', 'ADP', 'NOUN'] . 2.7682734124061352\n",
      "['DET', 'NOUN', 'NOUN', 'ADP'] PRT 1.6845521902542095\n",
      "['DET', 'NOUN', 'NOUN', 'ADP'] ADV 1.6271817287235177\n",
      "['DET', 'NOUN', 'NOUN', 'ADP', 'ADV'] NOUN 0.7005000681058366\n",
      "['DET', 'NOUN', 'NOUN', 'ADP', 'ADV', 'NOUN'] . 2.7682734124061352\n",
      "['DET', 'NOUN', 'NOUN', 'ADP'] X 2.0341895343767784\n",
      "['DET', 'NOUN', 'NOUN', 'ADP'] NOUN 0.39000403589773136\n",
      "['DET', 'NOUN', 'NOUN', 'ADP', 'NOUN'] NOUN 0.3464785728752764\n"
     ]
    },
    {
     "name": "stderr",
     "output_type": "stream",
     "text": [
      "\n",
      " 42%|███████████████████████████████████                                                 | 5/12 [02:14<03:56, 33.81s/it]\u001b[A"
     ]
    },
    {
     "name": "stdout",
     "output_type": "stream",
     "text": [
      "['DET', 'NOUN', 'NOUN', 'ADP', 'NOUN', 'NOUN'] . 0.2348271641448599\n",
      "['DET', 'NOUN', 'NOUN', 'ADP', 'NOUN', 'NOUN', '.']\n",
      "['PRON'] VERB 0.5663379905699087\n",
      "['PRON', 'VERB'] DET 1.4202962703373951\n",
      "['PRON', 'VERB', 'DET'] NOUN 0.22232911983417958\n",
      "['PRON', 'VERB', 'DET', 'NOUN'] VERB 0.9832954733568615\n",
      "['PRON', 'VERB', 'DET', 'NOUN', 'VERB'] ADJ 0.8101252146139937\n"
     ]
    },
    {
     "name": "stderr",
     "output_type": "stream",
     "text": [
      "\n",
      " 50%|██████████████████████████████████████████                                          | 6/12 [02:24<02:33, 25.62s/it]\u001b[A"
     ]
    },
    {
     "name": "stdout",
     "output_type": "stream",
     "text": [
      "['PRON', 'VERB', 'DET', 'NOUN', 'VERB', 'ADJ'] . 0.13455915367626736\n",
      "['PRON', 'VERB', 'DET', 'NOUN', 'VERB', 'ADJ', '.']\n",
      "['DET'] ADJ 2.105399664405011\n",
      "['DET'] NOUN 0.6707314412944659\n",
      "['DET', 'NOUN'] NOUN 1.35558596810821\n",
      "['DET', 'NOUN', 'NOUN'] DET 2.0176742169113178\n",
      "['DET', 'NOUN', 'NOUN'] ADP 0.7978236111973712\n",
      "['DET', 'NOUN', 'NOUN', 'ADP'] ADJ 0.9862845162413704\n"
     ]
    },
    {
     "name": "stderr",
     "output_type": "stream",
     "text": [
      "\n",
      " 58%|█████████████████████████████████████████████████                                   | 7/12 [02:32<01:38, 19.72s/it]\u001b[A"
     ]
    },
    {
     "name": "stdout",
     "output_type": "stream",
     "text": [
      "['DET', 'NOUN', 'NOUN', 'ADP', 'ADJ'] . 1.1302103382357858\n",
      "['DET', 'NOUN', 'NOUN', 'ADP', 'ADJ', '.']\n",
      "['DET'] ADJ 2.105399664405011\n",
      "['DET'] NOUN 0.6707314412944659\n",
      "['DET', 'NOUN'] NOUN 1.35558596810821\n",
      "['DET', 'NOUN', 'NOUN'] VERB 0.7914969252976404\n",
      "['DET', 'NOUN', 'NOUN', 'VERB'] CONJ 1.7428284060172194\n",
      "['DET', 'NOUN', 'NOUN', 'VERB'] X 1.415243375864182\n",
      "['DET', 'NOUN', 'NOUN', 'VERB', 'X'] ADJ 1.190839262077375\n",
      "['DET', 'NOUN', 'NOUN', 'VERB', 'X', 'ADJ'] NOUN -0.0\n",
      "['DET', 'NOUN', 'NOUN', 'VERB', 'X', 'ADJ', 'NOUN'] . -0.0\n"
     ]
    },
    {
     "name": "stderr",
     "output_type": "stream",
     "text": [
      "\n",
      " 67%|████████████████████████████████████████████████████████                            | 8/12 [02:47<01:13, 18.32s/it]\u001b[A"
     ]
    },
    {
     "name": "stdout",
     "output_type": "stream",
     "text": [
      "['DET', 'NOUN', 'NOUN', 'VERB', 'X', 'ADJ', 'NOUN', '.']\n",
      "['DET'] NOUN 0.6707314412944659\n",
      "['DET', 'NOUN'] NOUN 1.35558596810821\n",
      "['DET', 'NOUN', 'NOUN'] ADV 1.7990678508228146\n",
      "['DET', 'NOUN'] VERB 1.2823212108167499\n",
      "['DET', 'NOUN', 'VERB'] ADV 0.9512269326928693\n",
      "['DET', 'NOUN', 'VERB', 'ADV'] PRON 1.67438670137992\n",
      "['DET', 'NOUN', 'VERB', 'ADV'] PRT 1.3955173970249362\n",
      "['DET', 'NOUN', 'VERB', 'ADV', 'PRT'] VERB 0.14008794362821841\n",
      "['DET', 'NOUN', 'VERB', 'ADV', 'PRT', 'VERB'] VERB 0.3333333333333333\n"
     ]
    },
    {
     "name": "stderr",
     "output_type": "stream",
     "text": [
      "\n",
      " 75%|███████████████████████████████████████████████████████████████                     | 9/12 [03:05<00:54, 18.18s/it]\u001b[A"
     ]
    },
    {
     "name": "stdout",
     "output_type": "stream",
     "text": [
      "['DET', 'NOUN', 'VERB', 'ADV', 'PRT', 'VERB', 'VERB'] . 0.2857142857142857\n",
      "['DET', 'NOUN', 'VERB', 'ADV', 'PRT', 'VERB', 'VERB', '.']\n",
      "['DET'] ADJ 2.105399664405011\n",
      "['DET'] NOUN 0.6707314412944659\n",
      "['DET', 'NOUN'] NOUN 1.35558596810821\n",
      "['DET', 'NOUN', 'NOUN'] ADJ 2.1850107873666\n",
      "['DET', 'NOUN', 'NOUN'] NOUN 0.8504628445372311\n",
      "['DET', 'NOUN', 'NOUN', 'NOUN'] NOUN 0.5511630948412821\n"
     ]
    },
    {
     "name": "stderr",
     "output_type": "stream",
     "text": [
      "\n",
      " 83%|█████████████████████████████████████████████████████████████████████▏             | 10/12 [03:13<00:30, 15.03s/it]\u001b[A"
     ]
    },
    {
     "name": "stdout",
     "output_type": "stream",
     "text": [
      "['DET', 'NOUN', 'NOUN', 'NOUN', 'NOUN'] . 0.27888317773255167\n",
      "['DET', 'NOUN', 'NOUN', 'NOUN', 'NOUN', '.']\n",
      "['ADP'] PRON 3.8435284728376686\n",
      "['ADP'] X 8.780237356495702\n",
      "['NOUN'] PRON 5.952130379420475\n",
      "['NOUN'] X 8.646521052888762\n",
      "['VERB'] PRON 4.221552366657197\n",
      "['VERB'] X 6.288073877108881\n",
      "['ADJ'] PRON 8.131334499831954\n"
     ]
    },
    {
     "name": "stderr",
     "output_type": "stream",
     "text": [
      "\n",
      " 92%|████████████████████████████████████████████████████████████████████████████       | 11/12 [03:20<00:12, 12.72s/it]\u001b[A"
     ]
    },
    {
     "name": "stdout",
     "output_type": "stream",
     "text": [
      "['ADJ'] X 9.240563569586714\n",
      "[]\n",
      "['ADP'] NOUN 1.8862377954163474\n"
     ]
    },
    {
     "name": "stderr",
     "output_type": "stream",
     "text": [
      "\n",
      "100%|███████████████████████████████████████████████████████████████████████████████████| 12/12 [03:22<00:00, 16.89s/it]\u001b[A\n",
      " 57%|███████████████████████████████████████████████▍                                   | 8/14 [24:56<20:18, 203.02s/it]"
     ]
    },
    {
     "name": "stdout",
     "output_type": "stream",
     "text": [
      "['ADV'] NOUN 4.90361231495799\n",
      "[]\n"
     ]
    },
    {
     "name": "stderr",
     "output_type": "stream",
     "text": [
      "\n",
      "  0%|                                                                                            | 0/12 [00:00<?, ?it/s]\u001b[A"
     ]
    },
    {
     "name": "stdout",
     "output_type": "stream",
     "text": [
      "['DET'] ADJ 2.105399664405011\n",
      "['DET'] NOUN 0.6707314412944659\n",
      "['DET', 'NOUN'] NOUN 1.35558596810821\n",
      "['DET', 'NOUN', 'NOUN'] DET 2.0176742169113178\n",
      "['DET', 'NOUN', 'NOUN'] ADP 0.7978236111973712\n",
      "['DET', 'NOUN', 'NOUN', 'ADP'] NOUN 0.39000403589773136\n"
     ]
    },
    {
     "name": "stderr",
     "output_type": "stream",
     "text": [
      "\n",
      "  8%|███████                                                                             | 1/12 [00:07<01:27,  7.95s/it]\u001b[A"
     ]
    },
    {
     "name": "stdout",
     "output_type": "stream",
     "text": [
      "['DET', 'NOUN', 'NOUN', 'ADP', 'NOUN'] . 0.3663204936608563\n",
      "['DET', 'NOUN', 'NOUN', 'ADP', 'NOUN', '.']\n",
      "['DET'] ADJ 2.105399664405011\n",
      "['DET'] NOUN 0.6707314412944659\n",
      "['DET', 'NOUN'] NOUN 1.35558596810821\n",
      "['DET', 'NOUN', 'NOUN'] ADJ 2.1850107873666\n",
      "['DET', 'NOUN', 'NOUN'] NOUN 0.8504628445372311\n"
     ]
    },
    {
     "name": "stderr",
     "output_type": "stream",
     "text": [
      "\n",
      " 17%|██████████████                                                                      | 2/12 [00:13<01:07,  6.73s/it]\u001b[A"
     ]
    },
    {
     "name": "stdout",
     "output_type": "stream",
     "text": [
      "['DET', 'NOUN', 'NOUN', 'NOUN'] . 0.418350116347185\n",
      "['DET', 'NOUN', 'NOUN', 'NOUN', '.']\n",
      "['ADJ'] NOUN 0.5924382999268272\n",
      "['ADJ', 'NOUN'] VERB 1.4156966328385077\n",
      "['ADJ', 'NOUN', 'VERB'] VERB 0.5855680189875377\n",
      "['ADJ', 'NOUN', 'VERB', 'VERB'] ADP 0.49963574436201486\n",
      "['ADJ', 'NOUN', 'VERB', 'VERB', 'ADP'] DET 0.22984022303869228\n",
      "['ADJ', 'NOUN', 'VERB', 'VERB', 'ADP', 'DET'] NOUN 0.10775838315733129\n",
      "['ADJ', 'NOUN', 'VERB', 'VERB', 'ADP', 'DET', 'NOUN'] . 0.30807206938285586\n"
     ]
    },
    {
     "name": "stderr",
     "output_type": "stream",
     "text": [
      "\n",
      " 25%|█████████████████████                                                               | 3/12 [00:27<01:30, 10.00s/it]\u001b[A"
     ]
    },
    {
     "name": "stdout",
     "output_type": "stream",
     "text": [
      "['ADJ', 'NOUN', 'VERB', 'VERB', 'ADP', 'DET', 'NOUN', '.']\n",
      "['DET'] NOUN 0.6707314412944659\n",
      "['DET', 'NOUN'] NOUN 1.35558596810821\n",
      "['DET', 'NOUN', 'NOUN'] VERB 0.7914969252976404\n",
      "['DET', 'NOUN', 'NOUN', 'VERB'] VERB 0.4225893275594555\n",
      "['DET', 'NOUN', 'NOUN', 'VERB', 'VERB'] ADP 0.3918056437887388\n",
      "['DET', 'NOUN', 'NOUN', 'VERB', 'VERB', 'ADP'] VERB 0.7301369639901552\n",
      "['DET', 'NOUN', 'NOUN', 'VERB', 'VERB', 'ADP', 'VERB'] ADP 0.36928035724587943\n",
      "['DET', 'NOUN', 'NOUN', 'VERB', 'VERB', 'ADP', 'VERB', 'ADP'] NOUN -0.0\n",
      "['DET', 'NOUN', 'NOUN', 'VERB', 'VERB', 'ADP', 'VERB', 'ADP', 'NOUN'] . 1.845515608270757\n",
      "['DET', 'NOUN', 'NOUN', 'VERB', 'VERB', 'ADP', 'VERB'] PRT 2.3728057820624016\n",
      "['DET', 'NOUN', 'NOUN', 'VERB', 'VERB', 'ADP', 'VERB'] NOUN 0.36928035724587943\n",
      "['DET', 'NOUN', 'NOUN', 'VERB', 'VERB', 'ADP', 'VERB', 'NOUN'] NOUN 2.0762050593046015\n",
      "['DET', 'NOUN', 'NOUN', 'VERB', 'VERB', 'ADP', 'VERB'] ADV 2.3728057820624016\n",
      "['DET', 'NOUN', 'NOUN', 'VERB', 'VERB', 'ADP', 'VERB'] X 2.3728057820624016\n",
      "['DET', 'NOUN', 'NOUN', 'VERB', 'VERB'] X 1.1674699324710882\n",
      "['DET', 'NOUN', 'NOUN', 'VERB', 'VERB', 'X'] VERB 2.7682734124061352\n",
      "['DET', 'NOUN', 'NOUN', 'VERB', 'VERB'] ADV 0.7099546144517712\n",
      "['DET', 'NOUN', 'NOUN', 'VERB', 'VERB', 'ADV'] VERB 0.4650128217709614\n",
      "['DET', 'NOUN', 'NOUN', 'VERB', 'VERB', 'ADV', 'VERB'] ADP 0.18043348654768482\n",
      "['DET', 'NOUN', 'NOUN', 'VERB', 'VERB', 'ADV', 'VERB', 'ADP'] NOUN 0.16524101186092027\n",
      "['DET', 'NOUN', 'NOUN', 'VERB', 'VERB', 'ADV', 'VERB', 'ADP', 'NOUN'] . 0.1111111111111111\n"
     ]
    },
    {
     "name": "stderr",
     "output_type": "stream",
     "text": [
      "\n",
      " 33%|████████████████████████████                                                        | 4/12 [01:42<04:45, 35.70s/it]\u001b[A"
     ]
    },
    {
     "name": "stdout",
     "output_type": "stream",
     "text": [
      "['DET', 'NOUN', 'NOUN', 'VERB', 'VERB', 'ADV', 'VERB', 'ADP', 'NOUN', '.']\n",
      "['DET'] NOUN 0.6707314412944659\n",
      "['DET', 'NOUN'] NOUN 1.35558596810821\n",
      "['DET', 'NOUN', 'NOUN'] PRT 1.718923525190594\n",
      "['DET', 'NOUN', 'NOUN'] ADP 0.7978236111973712\n",
      "['DET', 'NOUN', 'NOUN', 'ADP'] ADP 1.568565415314262\n",
      "['DET', 'NOUN', 'NOUN', 'ADP', 'ADP'] NOUN 0.6643856189774724\n",
      "['DET', 'NOUN', 'NOUN', 'ADP', 'ADP', 'NOUN'] . 2.7682734124061352\n",
      "['DET', 'NOUN', 'NOUN', 'ADP'] PRT 1.6845521902542095\n",
      "['DET', 'NOUN', 'NOUN', 'ADP', 'PRT'] NOUN 0.5715961990255145\n",
      "['DET', 'NOUN', 'NOUN', 'ADP', 'PRT', 'NOUN'] . 0.16666666666666666\n"
     ]
    },
    {
     "name": "stderr",
     "output_type": "stream",
     "text": [
      "\n",
      " 42%|███████████████████████████████████                                                 | 5/12 [02:01<03:26, 29.46s/it]\u001b[A"
     ]
    },
    {
     "name": "stdout",
     "output_type": "stream",
     "text": [
      "['DET', 'NOUN', 'NOUN', 'ADP', 'PRT', 'NOUN', '.']\n",
      "['PRON'] VERB 0.5663379905699087\n",
      "['PRON', 'VERB'] DET 1.4202962703373951\n",
      "['PRON', 'VERB', 'DET'] NOUN 0.22232911983417958\n",
      "['PRON', 'VERB', 'DET', 'NOUN'] VERB 0.9832954733568615\n",
      "['PRON', 'VERB', 'DET', 'NOUN', 'VERB'] ADJ 0.8101252146139937\n"
     ]
    },
    {
     "name": "stderr",
     "output_type": "stream",
     "text": [
      "\n",
      " 50%|██████████████████████████████████████████                                          | 6/12 [02:11<02:17, 22.90s/it]\u001b[A"
     ]
    },
    {
     "name": "stdout",
     "output_type": "stream",
     "text": [
      "['PRON', 'VERB', 'DET', 'NOUN', 'VERB', 'ADJ'] . 0.13455915367626736\n",
      "['PRON', 'VERB', 'DET', 'NOUN', 'VERB', 'ADJ', '.']\n",
      "['DET'] ADJ 2.105399664405011\n",
      "['DET'] NOUN 0.6707314412944659\n",
      "['DET', 'NOUN'] NOUN 1.35558596810821\n",
      "['DET', 'NOUN', 'NOUN'] DET 2.0176742169113178\n",
      "['DET', 'NOUN', 'NOUN'] ADP 0.7978236111973712\n",
      "['DET', 'NOUN', 'NOUN', 'ADP'] ADJ 0.9862845162413704\n"
     ]
    },
    {
     "name": "stderr",
     "output_type": "stream",
     "text": [
      "\n",
      " 58%|█████████████████████████████████████████████████                                   | 7/12 [02:19<01:30, 18.02s/it]\u001b[A"
     ]
    },
    {
     "name": "stdout",
     "output_type": "stream",
     "text": [
      "['DET', 'NOUN', 'NOUN', 'ADP', 'ADJ'] . 1.1302103382357858\n",
      "['DET', 'NOUN', 'NOUN', 'ADP', 'ADJ', '.']\n",
      "['DET'] ADJ 2.105399664405011\n",
      "['DET'] NOUN 0.6707314412944659\n",
      "['DET', 'NOUN'] NOUN 1.35558596810821\n",
      "['DET', 'NOUN', 'NOUN'] VERB 0.7914969252976404\n",
      "['DET', 'NOUN', 'NOUN', 'VERB'] CONJ 1.7428284060172194\n",
      "['DET', 'NOUN', 'NOUN', 'VERB'] X 1.415243375864182\n",
      "['DET', 'NOUN', 'NOUN', 'VERB', 'X'] ADJ 1.190839262077375\n",
      "['DET', 'NOUN', 'NOUN', 'VERB', 'X', 'ADJ'] NOUN -0.0\n",
      "['DET', 'NOUN', 'NOUN', 'VERB', 'X', 'ADJ', 'NOUN'] . -0.0\n"
     ]
    },
    {
     "name": "stderr",
     "output_type": "stream",
     "text": [
      "\n",
      " 67%|████████████████████████████████████████████████████████                            | 8/12 [02:36<01:10, 17.63s/it]\u001b[A"
     ]
    },
    {
     "name": "stdout",
     "output_type": "stream",
     "text": [
      "['DET', 'NOUN', 'NOUN', 'VERB', 'X', 'ADJ', 'NOUN', '.']\n",
      "['DET'] NOUN 0.6707314412944659\n",
      "['DET', 'NOUN'] NOUN 1.35558596810821\n",
      "['DET', 'NOUN', 'NOUN'] ADV 1.7990678508228146\n",
      "['DET', 'NOUN'] VERB 1.2823212108167499\n",
      "['DET', 'NOUN', 'VERB'] ADV 0.9512269326928693\n",
      "['DET', 'NOUN', 'VERB', 'ADV'] PRON 1.67438670137992\n",
      "['DET', 'NOUN', 'VERB', 'ADV', 'PRON'] VERB 0.0251061764167718\n",
      "['DET', 'NOUN', 'VERB', 'ADV', 'PRON', 'VERB'] VERB 0.3562505872916559\n"
     ]
    },
    {
     "name": "stderr",
     "output_type": "stream",
     "text": [
      "\n",
      " 75%|███████████████████████████████████████████████████████████████                     | 9/12 [02:51<00:50, 16.85s/it]\u001b[A"
     ]
    },
    {
     "name": "stdout",
     "output_type": "stream",
     "text": [
      "['DET', 'NOUN', 'VERB', 'ADV', 'PRON', 'VERB', 'VERB'] . 0.33170401355533746\n",
      "['DET', 'NOUN', 'VERB', 'ADV', 'PRON', 'VERB', 'VERB', '.']\n",
      "['DET'] ADJ 2.105399664405011\n",
      "['DET'] NOUN 0.6707314412944659\n",
      "['DET', 'NOUN'] NOUN 1.35558596810821\n",
      "['DET', 'NOUN', 'NOUN'] ADJ 2.1850107873666\n",
      "['DET', 'NOUN', 'NOUN'] NOUN 0.8504628445372311\n",
      "['DET', 'NOUN', 'NOUN', 'NOUN'] NOUN 0.5511630948412821\n"
     ]
    },
    {
     "name": "stderr",
     "output_type": "stream",
     "text": [
      "\n",
      " 83%|█████████████████████████████████████████████████████████████████████▏             | 10/12 [02:59<00:28, 14.06s/it]\u001b[A"
     ]
    },
    {
     "name": "stdout",
     "output_type": "stream",
     "text": [
      "['DET', 'NOUN', 'NOUN', 'NOUN', 'NOUN'] . 0.27888317773255167\n",
      "['DET', 'NOUN', 'NOUN', 'NOUN', 'NOUN', '.']\n",
      "['ADP'] PRON 3.8435284728376686\n",
      "['ADP'] X 8.780237356495702\n",
      "['NOUN'] PRON 5.952130379420475\n",
      "['NOUN'] X 8.646521052888762\n",
      "['VERB'] PRON 4.221552366657197\n",
      "['VERB'] X 6.288073877108881\n",
      "['ADJ'] PRON 8.131334499831954\n"
     ]
    },
    {
     "name": "stderr",
     "output_type": "stream",
     "text": [
      "\n",
      " 92%|████████████████████████████████████████████████████████████████████████████       | 11/12 [03:06<00:12, 12.04s/it]\u001b[A"
     ]
    },
    {
     "name": "stdout",
     "output_type": "stream",
     "text": [
      "['ADJ'] X 9.240563569586714\n",
      "[]\n",
      "['ADP'] NOUN 1.8862377954163474\n"
     ]
    },
    {
     "name": "stderr",
     "output_type": "stream",
     "text": [
      "\n",
      "100%|███████████████████████████████████████████████████████████████████████████████████| 12/12 [03:08<00:00, 15.72s/it]\u001b[A\n",
      " 64%|█████████████████████████████████████████████████████▎                             | 9/14 [28:05<16:32, 198.53s/it]"
     ]
    },
    {
     "name": "stdout",
     "output_type": "stream",
     "text": [
      "['ADV'] NOUN 4.90361231495799\n",
      "[]\n"
     ]
    },
    {
     "name": "stderr",
     "output_type": "stream",
     "text": [
      "\n",
      "  0%|                                                                                            | 0/12 [00:00<?, ?it/s]\u001b[A"
     ]
    },
    {
     "name": "stdout",
     "output_type": "stream",
     "text": [
      "['DET'] ADJ 2.105399664405011\n",
      "['DET'] NOUN 0.6707314412944659\n",
      "['DET', 'NOUN'] NOUN 1.35558596810821\n",
      "['DET', 'NOUN', 'NOUN'] DET 2.0176742169113178\n",
      "['DET', 'NOUN', 'NOUN'] ADP 0.7978236111973712\n",
      "['DET', 'NOUN', 'NOUN', 'ADP'] NOUN 0.39000403589773136\n"
     ]
    },
    {
     "name": "stderr",
     "output_type": "stream",
     "text": [
      "\n",
      "  8%|███████                                                                             | 1/12 [00:07<01:27,  7.92s/it]\u001b[A"
     ]
    },
    {
     "name": "stdout",
     "output_type": "stream",
     "text": [
      "['DET', 'NOUN', 'NOUN', 'ADP', 'NOUN'] . 0.3663204936608563\n",
      "['DET', 'NOUN', 'NOUN', 'ADP', 'NOUN', '.']\n",
      "['DET'] ADJ 2.105399664405011\n",
      "['DET'] NOUN 0.6707314412944659\n",
      "['DET', 'NOUN'] NOUN 1.35558596810821\n",
      "['DET', 'NOUN', 'NOUN'] ADJ 2.1850107873666\n",
      "['DET', 'NOUN', 'NOUN'] NOUN 0.8504628445372311\n"
     ]
    },
    {
     "name": "stderr",
     "output_type": "stream",
     "text": [
      "\n",
      " 17%|██████████████                                                                      | 2/12 [00:14<01:11,  7.18s/it]\u001b[A"
     ]
    },
    {
     "name": "stdout",
     "output_type": "stream",
     "text": [
      "['DET', 'NOUN', 'NOUN', 'NOUN'] . 0.418350116347185\n",
      "['DET', 'NOUN', 'NOUN', 'NOUN', '.']\n",
      "['ADJ'] NOUN 0.5924382999268272\n",
      "['ADJ', 'NOUN'] VERB 1.4156966328385077\n",
      "['ADJ', 'NOUN', 'VERB'] VERB 0.5855680189875377\n",
      "['ADJ', 'NOUN', 'VERB', 'VERB'] ADP 0.49963574436201486\n",
      "['ADJ', 'NOUN', 'VERB', 'VERB', 'ADP'] DET 0.22984022303869228\n",
      "['ADJ', 'NOUN', 'VERB', 'VERB', 'ADP', 'DET'] NOUN 0.10775838315733129\n",
      "['ADJ', 'NOUN', 'VERB', 'VERB', 'ADP', 'DET', 'NOUN'] . 0.30807206938285586\n"
     ]
    },
    {
     "name": "stderr",
     "output_type": "stream",
     "text": [
      "\n",
      " 25%|█████████████████████                                                               | 3/12 [00:28<01:33, 10.41s/it]\u001b[A"
     ]
    },
    {
     "name": "stdout",
     "output_type": "stream",
     "text": [
      "['ADJ', 'NOUN', 'VERB', 'VERB', 'ADP', 'DET', 'NOUN', '.']\n",
      "['DET'] NOUN 0.6707314412944659\n",
      "['DET', 'NOUN'] NOUN 1.35558596810821\n",
      "['DET', 'NOUN', 'NOUN'] VERB 0.7914969252976404\n",
      "['DET', 'NOUN', 'NOUN', 'VERB'] VERB 0.4225893275594555\n",
      "['DET', 'NOUN', 'NOUN', 'VERB', 'VERB'] ADP 0.3918056437887388\n",
      "['DET', 'NOUN', 'NOUN', 'VERB', 'VERB', 'ADP'] VERB 0.7301369639901552\n",
      "['DET', 'NOUN', 'NOUN', 'VERB', 'VERB', 'ADP', 'VERB'] ADP 0.36928035724587943\n",
      "['DET', 'NOUN', 'NOUN', 'VERB', 'VERB', 'ADP', 'VERB', 'ADP'] NOUN -0.0\n",
      "['DET', 'NOUN', 'NOUN', 'VERB', 'VERB', 'ADP', 'VERB', 'ADP', 'NOUN'] . 1.845515608270757\n",
      "['DET', 'NOUN', 'NOUN', 'VERB', 'VERB', 'ADP', 'VERB'] PRT 2.3728057820624016\n",
      "['DET', 'NOUN', 'NOUN', 'VERB', 'VERB', 'ADP', 'VERB'] NOUN 0.36928035724587943\n",
      "['DET', 'NOUN', 'NOUN', 'VERB', 'VERB', 'ADP', 'VERB', 'NOUN'] NOUN 2.0762050593046015\n",
      "['DET', 'NOUN', 'NOUN', 'VERB', 'VERB', 'ADP', 'VERB'] ADV 2.3728057820624016\n",
      "['DET', 'NOUN', 'NOUN', 'VERB', 'VERB', 'ADP', 'VERB'] X 2.3728057820624016\n",
      "['DET', 'NOUN', 'NOUN', 'VERB', 'VERB'] X 1.1674699324710882\n",
      "['DET', 'NOUN', 'NOUN', 'VERB', 'VERB', 'X'] VERB 2.7682734124061352\n",
      "['DET', 'NOUN', 'NOUN', 'VERB', 'VERB'] ADV 0.7099546144517712\n",
      "['DET', 'NOUN', 'NOUN', 'VERB', 'VERB', 'ADV'] VERB 0.4650128217709614\n",
      "['DET', 'NOUN', 'NOUN', 'VERB', 'VERB', 'ADV', 'VERB'] ADP 0.18043348654768482\n",
      "['DET', 'NOUN', 'NOUN', 'VERB', 'VERB', 'ADV', 'VERB', 'ADP'] NOUN 0.16524101186092027\n",
      "['DET', 'NOUN', 'NOUN', 'VERB', 'VERB', 'ADV', 'VERB', 'ADP', 'NOUN'] . 0.1111111111111111\n"
     ]
    },
    {
     "name": "stderr",
     "output_type": "stream",
     "text": [
      "\n",
      " 33%|████████████████████████████                                                        | 4/12 [01:47<04:57, 37.24s/it]\u001b[A"
     ]
    },
    {
     "name": "stdout",
     "output_type": "stream",
     "text": [
      "['DET', 'NOUN', 'NOUN', 'VERB', 'VERB', 'ADV', 'VERB', 'ADP', 'NOUN', '.']\n",
      "['DET'] NOUN 0.6707314412944659\n",
      "['DET', 'NOUN'] NOUN 1.35558596810821\n",
      "['DET', 'NOUN', 'NOUN'] PRT 1.718923525190594\n",
      "['DET', 'NOUN', 'NOUN', 'PRT'] ADP 1.2314998546390559\n",
      "['DET', 'NOUN', 'NOUN', 'PRT', 'ADP'] NOUN 0.5813781191217038\n",
      "['DET', 'NOUN', 'NOUN', 'PRT', 'ADP', 'NOUN'] . 2.7682734124061352\n",
      "['DET', 'NOUN', 'NOUN', 'PRT'] PRT 2.2082225035411853\n",
      "['DET', 'NOUN', 'NOUN', 'PRT'] ADV 1.6277404798193449\n",
      "['DET', 'NOUN', 'NOUN', 'PRT', 'ADV'] NOUN 3.3219280948873626\n",
      "['DET', 'NOUN', 'NOUN', 'PRT'] X 4.152410118609203\n",
      "['DET', 'NOUN', 'NOUN', 'PRT'] NOUN 0.461051331848144\n",
      "['DET', 'NOUN', 'NOUN', 'PRT', 'NOUN'] NOUN 0.4068976752770581\n"
     ]
    },
    {
     "name": "stderr",
     "output_type": "stream",
     "text": [
      "\n",
      " 42%|███████████████████████████████████                                                 | 5/12 [02:09<03:44, 32.00s/it]\u001b[A"
     ]
    },
    {
     "name": "stdout",
     "output_type": "stream",
     "text": [
      "['DET', 'NOUN', 'NOUN', 'PRT', 'NOUN', 'NOUN'] . 0.19114023138821187\n",
      "['DET', 'NOUN', 'NOUN', 'PRT', 'NOUN', 'NOUN', '.']\n",
      "['PRON'] VERB 0.5663379905699087\n",
      "['PRON', 'VERB'] DET 1.4202962703373951\n",
      "['PRON', 'VERB', 'DET'] NOUN 0.22232911983417958\n",
      "['PRON', 'VERB', 'DET', 'NOUN'] VERB 0.9832954733568615\n",
      "['PRON', 'VERB', 'DET', 'NOUN', 'VERB'] ADJ 0.8101252146139937\n"
     ]
    },
    {
     "name": "stderr",
     "output_type": "stream",
     "text": [
      "\n",
      " 50%|██████████████████████████████████████████                                          | 6/12 [02:19<02:26, 24.34s/it]\u001b[A"
     ]
    },
    {
     "name": "stdout",
     "output_type": "stream",
     "text": [
      "['PRON', 'VERB', 'DET', 'NOUN', 'VERB', 'ADJ'] . 0.13455915367626736\n",
      "['PRON', 'VERB', 'DET', 'NOUN', 'VERB', 'ADJ', '.']\n",
      "['DET'] ADJ 2.105399664405011\n",
      "['DET'] NOUN 0.6707314412944659\n",
      "['DET', 'NOUN'] NOUN 1.35558596810821\n",
      "['DET', 'NOUN', 'NOUN'] DET 2.0176742169113178\n",
      "['DET', 'NOUN', 'NOUN'] ADP 0.7978236111973712\n",
      "['DET', 'NOUN', 'NOUN', 'ADP'] ADJ 0.9862845162413704\n"
     ]
    },
    {
     "name": "stderr",
     "output_type": "stream",
     "text": [
      "\n",
      " 58%|█████████████████████████████████████████████████                                   | 7/12 [02:27<01:34, 18.89s/it]\u001b[A"
     ]
    },
    {
     "name": "stdout",
     "output_type": "stream",
     "text": [
      "['DET', 'NOUN', 'NOUN', 'ADP', 'ADJ'] . 1.1302103382357858\n",
      "['DET', 'NOUN', 'NOUN', 'ADP', 'ADJ', '.']\n",
      "['DET'] ADJ 2.105399664405011\n",
      "['DET'] NOUN 0.6707314412944659\n",
      "['DET', 'NOUN'] NOUN 1.35558596810821\n",
      "['DET', 'NOUN', 'NOUN'] VERB 0.7914969252976404\n",
      "['DET', 'NOUN', 'NOUN', 'VERB'] CONJ 1.7428284060172194\n",
      "['DET', 'NOUN', 'NOUN', 'VERB', 'CONJ'] ADJ 0.9287712379549449\n",
      "['DET', 'NOUN', 'NOUN', 'VERB', 'CONJ', 'ADJ'] NOUN 2.7682734124061352\n",
      "['DET', 'NOUN', 'NOUN', 'VERB', 'CONJ'] NOUN 0.6117787378107138\n",
      "['DET', 'NOUN', 'NOUN', 'VERB', 'CONJ', 'NOUN'] NOUN 2.7682734124061352\n",
      "['DET', 'NOUN', 'NOUN', 'VERB', 'CONJ'] VERB 0.14739311883324124\n",
      "['DET', 'NOUN', 'NOUN', 'VERB', 'CONJ', 'VERB'] NOUN 0.6511484326014197\n",
      "['DET', 'NOUN', 'NOUN', 'VERB', 'CONJ', 'VERB', 'NOUN'] . 2.3728057820624016\n",
      "['DET', 'NOUN', 'NOUN', 'VERB'] X 1.415243375864182\n",
      "['DET', 'NOUN', 'NOUN', 'VERB', 'X'] ADJ 1.190839262077375\n",
      "['DET', 'NOUN', 'NOUN', 'VERB', 'X', 'ADJ'] NOUN -0.0\n",
      "['DET', 'NOUN', 'NOUN', 'VERB', 'X', 'ADJ', 'NOUN'] . -0.0\n"
     ]
    },
    {
     "name": "stderr",
     "output_type": "stream",
     "text": [
      "\n",
      " 67%|████████████████████████████████████████████████████████                            | 8/12 [03:00<01:34, 23.57s/it]\u001b[A"
     ]
    },
    {
     "name": "stdout",
     "output_type": "stream",
     "text": [
      "['DET', 'NOUN', 'NOUN', 'VERB', 'X', 'ADJ', 'NOUN', '.']\n",
      "['DET'] NOUN 0.6707314412944659\n",
      "['DET', 'NOUN'] NOUN 1.35558596810821\n",
      "['DET', 'NOUN', 'NOUN'] ADV 1.7990678508228146\n",
      "['DET', 'NOUN'] VERB 1.2823212108167499\n",
      "['DET', 'NOUN', 'VERB'] ADV 0.9512269326928693\n",
      "['DET', 'NOUN', 'VERB', 'ADV'] PRON 1.67438670137992\n",
      "['DET', 'NOUN', 'VERB', 'ADV', 'PRON'] VERB 0.0251061764167718\n",
      "['DET', 'NOUN', 'VERB', 'ADV', 'PRON', 'VERB'] VERB 0.3562505872916559\n",
      "['DET', 'NOUN', 'VERB', 'ADV', 'PRON', 'VERB', 'VERB'] . 0.33170401355533746\n"
     ]
    },
    {
     "name": "stderr",
     "output_type": "stream",
     "text": [
      "\n",
      " 75%|███████████████████████████████████████████████████████████████                     | 9/12 [03:14<01:01, 20.63s/it]\u001b[A"
     ]
    },
    {
     "name": "stdout",
     "output_type": "stream",
     "text": [
      "['DET', 'NOUN', 'VERB', 'ADV', 'PRON', 'VERB', 'VERB', '.']\n",
      "['DET'] ADJ 2.105399664405011\n",
      "['DET'] NOUN 0.6707314412944659\n",
      "['DET', 'NOUN'] NOUN 1.35558596810821\n",
      "['DET', 'NOUN', 'NOUN'] ADJ 2.1850107873666\n",
      "['DET', 'NOUN', 'NOUN'] NOUN 0.8504628445372311\n",
      "['DET', 'NOUN', 'NOUN', 'NOUN'] NOUN 0.5511630948412821\n"
     ]
    },
    {
     "name": "stderr",
     "output_type": "stream",
     "text": [
      "\n",
      " 83%|█████████████████████████████████████████████████████████████████████▏             | 10/12 [03:22<00:33, 16.69s/it]\u001b[A"
     ]
    },
    {
     "name": "stdout",
     "output_type": "stream",
     "text": [
      "['DET', 'NOUN', 'NOUN', 'NOUN', 'NOUN'] . 0.27888317773255167\n",
      "['DET', 'NOUN', 'NOUN', 'NOUN', 'NOUN', '.']\n",
      "['ADP'] PRON 3.8435284728376686\n",
      "['ADP'] X 8.780237356495702\n",
      "['NOUN'] PRON 5.952130379420475\n",
      "['NOUN'] X 8.646521052888762\n",
      "['VERB'] PRON 4.221552366657197\n",
      "['VERB'] X 6.288073877108881\n",
      "['ADJ'] PRON 8.131334499831954\n"
     ]
    },
    {
     "name": "stderr",
     "output_type": "stream",
     "text": [
      "\n",
      " 92%|████████████████████████████████████████████████████████████████████████████       | 11/12 [03:29<00:13, 13.82s/it]\u001b[A"
     ]
    },
    {
     "name": "stdout",
     "output_type": "stream",
     "text": [
      "['ADJ'] X 9.240563569586714\n",
      "[]\n",
      "['ADP'] NOUN 1.8862377954163474\n"
     ]
    },
    {
     "name": "stderr",
     "output_type": "stream",
     "text": [
      "\n",
      "100%|███████████████████████████████████████████████████████████████████████████████████| 12/12 [03:31<00:00, 17.65s/it]\u001b[A\n",
      " 71%|██████████████████████████████████████████████████████████▌                       | 10/14 [31:37<13:30, 202.62s/it]"
     ]
    },
    {
     "name": "stdout",
     "output_type": "stream",
     "text": [
      "['ADV'] NOUN 4.90361231495799\n",
      "[]\n"
     ]
    },
    {
     "name": "stderr",
     "output_type": "stream",
     "text": [
      "\n",
      "  0%|                                                                                            | 0/12 [00:00<?, ?it/s]\u001b[A"
     ]
    },
    {
     "name": "stdout",
     "output_type": "stream",
     "text": [
      "['DET'] ADJ 2.105399664405011\n",
      "['DET'] NOUN 0.6707314412944659\n",
      "['DET', 'NOUN'] NOUN 1.35558596810821\n",
      "['DET', 'NOUN', 'NOUN'] DET 2.0176742169113178\n",
      "['DET', 'NOUN', 'NOUN'] ADP 0.7978236111973712\n",
      "['DET', 'NOUN', 'NOUN', 'ADP'] NOUN 0.39000403589773136\n"
     ]
    },
    {
     "name": "stderr",
     "output_type": "stream",
     "text": [
      "\n",
      "  8%|███████                                                                             | 1/12 [00:07<01:21,  7.43s/it]\u001b[A"
     ]
    },
    {
     "name": "stdout",
     "output_type": "stream",
     "text": [
      "['DET', 'NOUN', 'NOUN', 'ADP', 'NOUN'] . 0.3663204936608563\n",
      "['DET', 'NOUN', 'NOUN', 'ADP', 'NOUN', '.']\n",
      "['DET'] ADJ 2.105399664405011\n",
      "['DET'] NOUN 0.6707314412944659\n",
      "['DET', 'NOUN'] NOUN 1.35558596810821\n",
      "['DET', 'NOUN', 'NOUN'] ADJ 2.1850107873666\n",
      "['DET', 'NOUN', 'NOUN'] NOUN 0.8504628445372311\n"
     ]
    },
    {
     "name": "stderr",
     "output_type": "stream",
     "text": [
      "\n",
      " 17%|██████████████                                                                      | 2/12 [00:13<01:07,  6.74s/it]\u001b[A"
     ]
    },
    {
     "name": "stdout",
     "output_type": "stream",
     "text": [
      "['DET', 'NOUN', 'NOUN', 'NOUN'] . 0.418350116347185\n",
      "['DET', 'NOUN', 'NOUN', 'NOUN', '.']\n",
      "['ADJ'] NOUN 0.5924382999268272\n",
      "['ADJ', 'NOUN'] VERB 1.4156966328385077\n",
      "['ADJ', 'NOUN', 'VERB'] VERB 0.5855680189875377\n",
      "['ADJ', 'NOUN', 'VERB', 'VERB'] ADP 0.49963574436201486\n",
      "['ADJ', 'NOUN', 'VERB', 'VERB', 'ADP'] DET 0.22984022303869228\n",
      "['ADJ', 'NOUN', 'VERB', 'VERB', 'ADP', 'DET'] NOUN 0.10775838315733129\n",
      "['ADJ', 'NOUN', 'VERB', 'VERB', 'ADP', 'DET', 'NOUN'] . 0.30807206938285586\n"
     ]
    },
    {
     "name": "stderr",
     "output_type": "stream",
     "text": [
      "\n",
      " 25%|█████████████████████                                                               | 3/12 [00:27<01:29,  9.98s/it]\u001b[A"
     ]
    },
    {
     "name": "stdout",
     "output_type": "stream",
     "text": [
      "['ADJ', 'NOUN', 'VERB', 'VERB', 'ADP', 'DET', 'NOUN', '.']\n",
      "['DET'] NOUN 0.6707314412944659\n",
      "['DET', 'NOUN'] NOUN 1.35558596810821\n",
      "['DET', 'NOUN', 'NOUN'] VERB 0.7914969252976404\n",
      "['DET', 'NOUN', 'NOUN', 'VERB'] VERB 0.4225893275594555\n",
      "['DET', 'NOUN', 'NOUN', 'VERB', 'VERB'] ADP 0.3918056437887388\n",
      "['DET', 'NOUN', 'NOUN', 'VERB', 'VERB', 'ADP'] VERB 0.7301369639901552\n",
      "['DET', 'NOUN', 'NOUN', 'VERB', 'VERB', 'ADP', 'VERB'] ADP 0.36928035724587943\n",
      "['DET', 'NOUN', 'NOUN', 'VERB', 'VERB', 'ADP', 'VERB', 'ADP'] NOUN -0.0\n",
      "['DET', 'NOUN', 'NOUN', 'VERB', 'VERB', 'ADP', 'VERB', 'ADP', 'NOUN'] . 1.845515608270757\n",
      "['DET', 'NOUN', 'NOUN', 'VERB', 'VERB', 'ADP', 'VERB'] PRT 2.3728057820624016\n",
      "['DET', 'NOUN', 'NOUN', 'VERB', 'VERB', 'ADP', 'VERB'] NOUN 0.36928035724587943\n",
      "['DET', 'NOUN', 'NOUN', 'VERB', 'VERB', 'ADP', 'VERB', 'NOUN'] NOUN 2.0762050593046015\n",
      "['DET', 'NOUN', 'NOUN', 'VERB', 'VERB', 'ADP', 'VERB'] ADV 2.3728057820624016\n",
      "['DET', 'NOUN', 'NOUN', 'VERB', 'VERB', 'ADP', 'VERB'] X 2.3728057820624016\n",
      "['DET', 'NOUN', 'NOUN', 'VERB', 'VERB'] X 1.1674699324710882\n",
      "['DET', 'NOUN', 'NOUN', 'VERB', 'VERB', 'X'] VERB 2.7682734124061352\n",
      "['DET', 'NOUN', 'NOUN', 'VERB', 'VERB'] ADV 0.7099546144517712\n",
      "['DET', 'NOUN', 'NOUN', 'VERB', 'VERB', 'ADV'] VERB 0.4650128217709614\n",
      "['DET', 'NOUN', 'NOUN', 'VERB', 'VERB', 'ADV', 'VERB'] ADP 0.18043348654768482\n",
      "['DET', 'NOUN', 'NOUN', 'VERB', 'VERB', 'ADV', 'VERB', 'ADP'] NOUN 0.16524101186092027\n",
      "['DET', 'NOUN', 'NOUN', 'VERB', 'VERB', 'ADV', 'VERB', 'ADP', 'NOUN'] . 0.1111111111111111\n"
     ]
    },
    {
     "name": "stderr",
     "output_type": "stream",
     "text": [
      "\n",
      " 33%|████████████████████████████                                                        | 4/12 [01:44<04:51, 36.49s/it]\u001b[A"
     ]
    },
    {
     "name": "stdout",
     "output_type": "stream",
     "text": [
      "['DET', 'NOUN', 'NOUN', 'VERB', 'VERB', 'ADV', 'VERB', 'ADP', 'NOUN', '.']\n",
      "['DET'] NOUN 0.6707314412944659\n",
      "['DET', 'NOUN'] NOUN 1.35558596810821\n",
      "['DET', 'NOUN', 'NOUN'] PRT 1.718923525190594\n",
      "['DET', 'NOUN', 'NOUN', 'PRT'] ADP 1.2314998546390559\n",
      "['DET', 'NOUN', 'NOUN', 'PRT', 'ADP'] NOUN 0.5813781191217038\n",
      "['DET', 'NOUN', 'NOUN', 'PRT', 'ADP', 'NOUN'] . 2.7682734124061352\n",
      "['DET', 'NOUN', 'NOUN', 'PRT'] PRT 2.2082225035411853\n",
      "['DET', 'NOUN', 'NOUN', 'PRT'] ADV 1.6277404798193449\n",
      "['DET', 'NOUN', 'NOUN', 'PRT', 'ADV'] NOUN 3.3219280948873626\n",
      "['DET', 'NOUN', 'NOUN', 'PRT'] X 4.152410118609203\n",
      "['DET', 'NOUN', 'NOUN', 'PRT'] NOUN 0.461051331848144\n",
      "['DET', 'NOUN', 'NOUN', 'PRT', 'NOUN'] NOUN 0.4068976752770581\n",
      "['DET', 'NOUN', 'NOUN', 'PRT', 'NOUN', 'NOUN'] . 0.19114023138821187\n",
      "['DET', 'NOUN', 'NOUN', 'PRT', 'NOUN', 'NOUN', '.']\n"
     ]
    },
    {
     "name": "stderr",
     "output_type": "stream",
     "text": [
      "\n",
      " 42%|███████████████████████████████████                                                 | 5/12 [02:06<03:39, 31.31s/it]\u001b[A"
     ]
    },
    {
     "name": "stdout",
     "output_type": "stream",
     "text": [
      "['PRON'] VERB 0.5663379905699087\n",
      "['PRON', 'VERB'] DET 1.4202962703373951\n",
      "['PRON', 'VERB', 'DET'] NOUN 0.22232911983417958\n",
      "['PRON', 'VERB', 'DET', 'NOUN'] VERB 0.9832954733568615\n",
      "['PRON', 'VERB', 'DET', 'NOUN', 'VERB'] ADJ 0.8101252146139937\n"
     ]
    },
    {
     "name": "stderr",
     "output_type": "stream",
     "text": [
      "\n",
      " 50%|██████████████████████████████████████████                                          | 6/12 [02:15<02:21, 23.60s/it]\u001b[A"
     ]
    },
    {
     "name": "stdout",
     "output_type": "stream",
     "text": [
      "['PRON', 'VERB', 'DET', 'NOUN', 'VERB', 'ADJ'] . 0.13455915367626736\n",
      "['PRON', 'VERB', 'DET', 'NOUN', 'VERB', 'ADJ', '.']\n",
      "['DET'] ADJ 2.105399664405011\n",
      "['DET'] NOUN 0.6707314412944659\n",
      "['DET', 'NOUN'] NOUN 1.35558596810821\n",
      "['DET', 'NOUN', 'NOUN'] DET 2.0176742169113178\n",
      "['DET', 'NOUN', 'NOUN'] ADP 0.7978236111973712\n",
      "['DET', 'NOUN', 'NOUN', 'ADP'] ADJ 0.9862845162413704\n"
     ]
    },
    {
     "name": "stderr",
     "output_type": "stream",
     "text": [
      "\n",
      " 58%|█████████████████████████████████████████████████                                   | 7/12 [02:24<01:33, 18.72s/it]\u001b[A"
     ]
    },
    {
     "name": "stdout",
     "output_type": "stream",
     "text": [
      "['DET', 'NOUN', 'NOUN', 'ADP', 'ADJ'] . 1.1302103382357858\n",
      "['DET', 'NOUN', 'NOUN', 'ADP', 'ADJ', '.']\n",
      "['DET'] ADJ 2.105399664405011\n",
      "['DET'] NOUN 0.6707314412944659\n",
      "['DET', 'NOUN'] NOUN 1.35558596810821\n",
      "['DET', 'NOUN', 'NOUN'] VERB 0.7914969252976404\n",
      "['DET', 'NOUN', 'NOUN', 'VERB'] CONJ 1.7428284060172194\n",
      "['DET', 'NOUN', 'NOUN', 'VERB', 'CONJ'] ADJ 0.9287712379549449\n",
      "['DET', 'NOUN', 'NOUN', 'VERB', 'CONJ', 'ADJ'] NOUN 2.7682734124061352\n",
      "['DET', 'NOUN', 'NOUN', 'VERB', 'CONJ'] NOUN 0.6117787378107138\n",
      "['DET', 'NOUN', 'NOUN', 'VERB', 'CONJ', 'NOUN'] NOUN 2.7682734124061352\n",
      "['DET', 'NOUN', 'NOUN', 'VERB', 'CONJ'] VERB 0.14739311883324124\n",
      "['DET', 'NOUN', 'NOUN', 'VERB', 'CONJ', 'VERB'] NOUN 0.6511484326014197\n",
      "['DET', 'NOUN', 'NOUN', 'VERB', 'CONJ', 'VERB', 'NOUN'] . 2.3728057820624016\n",
      "['DET', 'NOUN', 'NOUN', 'VERB'] X 1.415243375864182\n",
      "['DET', 'NOUN', 'NOUN', 'VERB', 'X'] ADJ 1.190839262077375\n",
      "['DET', 'NOUN', 'NOUN', 'VERB', 'X', 'ADJ'] NOUN -0.0\n"
     ]
    },
    {
     "name": "stderr",
     "output_type": "stream",
     "text": [
      "\n",
      " 67%|████████████████████████████████████████████████████████                            | 8/12 [02:59<01:35, 23.92s/it]\u001b[A"
     ]
    },
    {
     "name": "stdout",
     "output_type": "stream",
     "text": [
      "['DET', 'NOUN', 'NOUN', 'VERB', 'X', 'ADJ', 'NOUN'] . -0.0\n",
      "['DET', 'NOUN', 'NOUN', 'VERB', 'X', 'ADJ', 'NOUN', '.']\n",
      "['DET'] NOUN 0.6707314412944659\n",
      "['DET', 'NOUN'] NOUN 1.35558596810821\n",
      "['DET', 'NOUN', 'NOUN'] ADV 1.7990678508228146\n",
      "['DET', 'NOUN', 'NOUN', 'ADV'] PRON 0.89811425931702\n",
      "['DET', 'NOUN', 'NOUN', 'ADV', 'PRON'] VERB 0.018621880878296294\n",
      "['DET', 'NOUN', 'NOUN', 'ADV', 'PRON', 'VERB'] VERB 0.3869880158145604\n",
      "['DET', 'NOUN', 'NOUN', 'ADV', 'PRON', 'VERB', 'VERB'] . 2.3728057820624016\n",
      "['DET', 'NOUN', 'NOUN', 'ADV', 'PRON'] NOUN 1.0\n",
      "['DET', 'NOUN', 'NOUN', 'ADV', 'PRON', 'NOUN'] VERB 2.7682734124061352\n",
      "['DET', 'NOUN', 'NOUN', 'ADV', 'PRON'] X 3.3219280948873626\n",
      "['DET', 'NOUN', 'NOUN', 'ADV'] PRT 1.3176322355951795\n",
      "['DET', 'NOUN', 'NOUN', 'ADV', 'PRT'] VERB 0.14739311883324124\n",
      "['DET', 'NOUN', 'NOUN', 'ADV', 'PRT', 'VERB'] VERB 2.7682734124061352\n",
      "['DET', 'NOUN', 'NOUN', 'ADV', 'PRT'] NOUN 3.3219280948873626\n",
      "['DET', 'NOUN', 'NOUN', 'ADV', 'PRT'] X 3.3219280948873626\n",
      "['DET', 'NOUN'] VERB 1.2823212108167499\n",
      "['DET', 'NOUN', 'VERB'] ADV 0.9512269326928693\n",
      "['DET', 'NOUN', 'VERB', 'ADV'] PRON 1.67438670137992\n",
      "['DET', 'NOUN', 'VERB', 'ADV', 'PRON'] VERB 0.0251061764167718\n",
      "['DET', 'NOUN', 'VERB', 'ADV', 'PRON', 'VERB'] VERB 0.3562505872916559\n",
      "['DET', 'NOUN', 'VERB', 'ADV', 'PRON', 'VERB', 'VERB'] . 0.33170401355533746\n"
     ]
    },
    {
     "name": "stderr",
     "output_type": "stream",
     "text": [
      "\n",
      " 75%|███████████████████████████████████████████████████████████████                     | 9/12 [03:39<01:26, 28.93s/it]\u001b[A"
     ]
    },
    {
     "name": "stdout",
     "output_type": "stream",
     "text": [
      "['DET', 'NOUN', 'VERB', 'ADV', 'PRON', 'VERB', 'VERB', '.']\n",
      "['DET'] ADJ 2.105399664405011\n",
      "['DET'] NOUN 0.6707314412944659\n",
      "['DET', 'NOUN'] NOUN 1.35558596810821\n",
      "['DET', 'NOUN', 'NOUN'] ADJ 2.1850107873666\n",
      "['DET', 'NOUN', 'NOUN'] NOUN 0.8504628445372311\n",
      "['DET', 'NOUN', 'NOUN', 'NOUN'] NOUN 0.5511630948412821\n"
     ]
    },
    {
     "name": "stderr",
     "output_type": "stream",
     "text": [
      "\n",
      " 83%|█████████████████████████████████████████████████████████████████████▏             | 10/12 [03:46<00:44, 22.41s/it]\u001b[A"
     ]
    },
    {
     "name": "stdout",
     "output_type": "stream",
     "text": [
      "['DET', 'NOUN', 'NOUN', 'NOUN', 'NOUN'] . 0.27888317773255167\n",
      "['DET', 'NOUN', 'NOUN', 'NOUN', 'NOUN', '.']\n",
      "['ADP'] PRON 3.8435284728376686\n",
      "['ADP'] X 8.780237356495702\n",
      "['NOUN'] PRON 5.952130379420475\n",
      "['NOUN'] X 8.646521052888762\n",
      "['VERB'] PRON 4.221552366657197\n",
      "['VERB'] X 6.288073877108881\n",
      "['ADJ'] PRON 8.131334499831954\n"
     ]
    },
    {
     "name": "stderr",
     "output_type": "stream",
     "text": [
      "\n",
      " 92%|████████████████████████████████████████████████████████████████████████████       | 11/12 [03:54<00:17, 17.76s/it]\u001b[A"
     ]
    },
    {
     "name": "stdout",
     "output_type": "stream",
     "text": [
      "['ADJ'] X 9.240563569586714\n",
      "[]\n",
      "['ADP'] NOUN 1.8862377954163474\n"
     ]
    },
    {
     "name": "stderr",
     "output_type": "stream",
     "text": [
      "\n",
      "100%|███████████████████████████████████████████████████████████████████████████████████| 12/12 [03:56<00:00, 19.67s/it]\u001b[A\n",
      " 79%|████████████████████████████████████████████████████████████████▍                 | 11/14 [35:33<10:38, 212.87s/it]"
     ]
    },
    {
     "name": "stdout",
     "output_type": "stream",
     "text": [
      "['ADV'] NOUN 4.90361231495799\n",
      "[]\n"
     ]
    },
    {
     "name": "stderr",
     "output_type": "stream",
     "text": [
      "\n",
      "  0%|                                                                                            | 0/12 [00:00<?, ?it/s]\u001b[A"
     ]
    },
    {
     "name": "stdout",
     "output_type": "stream",
     "text": [
      "['DET'] ADJ 2.105399664405011\n",
      "['DET'] NOUN 0.6707314412944659\n",
      "['DET', 'NOUN'] NOUN 1.35558596810821\n",
      "['DET', 'NOUN', 'NOUN'] DET 2.0176742169113178\n",
      "['DET', 'NOUN', 'NOUN'] ADP 0.7978236111973712\n",
      "['DET', 'NOUN', 'NOUN', 'ADP'] NOUN 0.39000403589773136\n"
     ]
    },
    {
     "name": "stderr",
     "output_type": "stream",
     "text": [
      "\n",
      "  8%|███████                                                                             | 1/12 [00:07<01:22,  7.51s/it]\u001b[A"
     ]
    },
    {
     "name": "stdout",
     "output_type": "stream",
     "text": [
      "['DET', 'NOUN', 'NOUN', 'ADP', 'NOUN'] . 0.3663204936608563\n",
      "['DET', 'NOUN', 'NOUN', 'ADP', 'NOUN', '.']\n",
      "['DET'] ADJ 2.105399664405011\n",
      "['DET'] NOUN 0.6707314412944659\n",
      "['DET', 'NOUN'] NOUN 1.35558596810821\n",
      "['DET', 'NOUN', 'NOUN'] ADJ 2.1850107873666\n",
      "['DET', 'NOUN', 'NOUN'] NOUN 0.8504628445372311\n"
     ]
    },
    {
     "name": "stderr",
     "output_type": "stream",
     "text": [
      "\n",
      " 17%|██████████████                                                                      | 2/12 [00:13<01:05,  6.50s/it]\u001b[A"
     ]
    },
    {
     "name": "stdout",
     "output_type": "stream",
     "text": [
      "['DET', 'NOUN', 'NOUN', 'NOUN'] . 0.418350116347185\n",
      "['DET', 'NOUN', 'NOUN', 'NOUN', '.']\n",
      "['ADJ'] NOUN 0.5924382999268272\n",
      "['ADJ', 'NOUN'] VERB 1.4156966328385077\n",
      "['ADJ', 'NOUN', 'VERB'] VERB 0.5855680189875377\n",
      "['ADJ', 'NOUN', 'VERB', 'VERB'] ADP 0.49963574436201486\n",
      "['ADJ', 'NOUN', 'VERB', 'VERB', 'ADP'] DET 0.22984022303869228\n",
      "['ADJ', 'NOUN', 'VERB', 'VERB', 'ADP', 'DET'] NOUN 0.10775838315733129\n",
      "['ADJ', 'NOUN', 'VERB', 'VERB', 'ADP', 'DET', 'NOUN'] . 0.30807206938285586\n"
     ]
    },
    {
     "name": "stderr",
     "output_type": "stream",
     "text": [
      "\n",
      " 25%|█████████████████████                                                               | 3/12 [00:27<01:30, 10.03s/it]\u001b[A"
     ]
    },
    {
     "name": "stdout",
     "output_type": "stream",
     "text": [
      "['ADJ', 'NOUN', 'VERB', 'VERB', 'ADP', 'DET', 'NOUN', '.']\n",
      "['DET'] NOUN 0.6707314412944659\n",
      "['DET', 'NOUN'] NOUN 1.35558596810821\n",
      "['DET', 'NOUN', 'NOUN'] VERB 0.7914969252976404\n",
      "['DET', 'NOUN', 'NOUN', 'VERB'] VERB 0.4225893275594555\n",
      "['DET', 'NOUN', 'NOUN', 'VERB', 'VERB'] ADP 0.3918056437887388\n",
      "['DET', 'NOUN', 'NOUN', 'VERB', 'VERB', 'ADP'] VERB 0.7301369639901552\n",
      "['DET', 'NOUN', 'NOUN', 'VERB', 'VERB', 'ADP', 'VERB'] ADP 0.36928035724587943\n",
      "['DET', 'NOUN', 'NOUN', 'VERB', 'VERB', 'ADP', 'VERB', 'ADP'] NOUN -0.0\n",
      "['DET', 'NOUN', 'NOUN', 'VERB', 'VERB', 'ADP', 'VERB', 'ADP', 'NOUN'] . 1.845515608270757\n"
     ]
    },
    {
     "name": "stderr",
     "output_type": "stream",
     "text": [
      "\n",
      " 33%|████████████████████████████                                                        | 4/12 [00:53<02:11, 16.46s/it]\u001b[A"
     ]
    },
    {
     "name": "stdout",
     "output_type": "stream",
     "text": [
      "['DET', 'NOUN', 'NOUN', 'VERB', 'VERB', 'ADP', 'VERB', 'ADP', 'NOUN', '.']\n",
      "['DET'] NOUN 0.6707314412944659\n",
      "['DET', 'NOUN'] NOUN 1.35558596810821\n",
      "['DET', 'NOUN', 'NOUN'] PRT 1.718923525190594\n",
      "['DET', 'NOUN', 'NOUN', 'PRT'] ADP 1.2314998546390559\n",
      "['DET', 'NOUN', 'NOUN', 'PRT', 'ADP'] NOUN 0.5813781191217038\n",
      "['DET', 'NOUN', 'NOUN', 'PRT', 'ADP', 'NOUN'] . 2.7682734124061352\n",
      "['DET', 'NOUN', 'NOUN', 'PRT'] PRT 2.2082225035411853\n",
      "['DET', 'NOUN', 'NOUN', 'PRT'] ADV 1.6277404798193449\n",
      "['DET', 'NOUN', 'NOUN', 'PRT', 'ADV'] NOUN 3.3219280948873626\n",
      "['DET', 'NOUN', 'NOUN', 'PRT'] X 4.152410118609203\n",
      "['DET', 'NOUN', 'NOUN', 'PRT'] NOUN 0.461051331848144\n",
      "['DET', 'NOUN', 'NOUN', 'PRT', 'NOUN'] NOUN 0.4068976752770581\n"
     ]
    },
    {
     "name": "stderr",
     "output_type": "stream",
     "text": [
      "\n",
      " 42%|███████████████████████████████████                                                 | 5/12 [01:13<02:02, 17.43s/it]\u001b[A"
     ]
    },
    {
     "name": "stdout",
     "output_type": "stream",
     "text": [
      "['DET', 'NOUN', 'NOUN', 'PRT', 'NOUN', 'NOUN'] . 0.19114023138821187\n",
      "['DET', 'NOUN', 'NOUN', 'PRT', 'NOUN', 'NOUN', '.']\n",
      "['PRON'] VERB 0.5663379905699087\n",
      "['PRON', 'VERB'] DET 1.4202962703373951\n",
      "['PRON', 'VERB', 'DET'] NOUN 0.22232911983417958\n",
      "['PRON', 'VERB', 'DET', 'NOUN'] VERB 0.9832954733568615\n",
      "['PRON', 'VERB', 'DET', 'NOUN', 'VERB'] ADJ 0.8101252146139937\n"
     ]
    },
    {
     "name": "stderr",
     "output_type": "stream",
     "text": [
      "\n",
      " 50%|██████████████████████████████████████████                                          | 6/12 [01:21<01:27, 14.54s/it]\u001b[A"
     ]
    },
    {
     "name": "stdout",
     "output_type": "stream",
     "text": [
      "['PRON', 'VERB', 'DET', 'NOUN', 'VERB', 'ADJ'] . 0.13455915367626736\n",
      "['PRON', 'VERB', 'DET', 'NOUN', 'VERB', 'ADJ', '.']\n",
      "['DET'] ADJ 2.105399664405011\n",
      "['DET'] NOUN 0.6707314412944659\n",
      "['DET', 'NOUN'] NOUN 1.35558596810821\n",
      "['DET', 'NOUN', 'NOUN'] DET 2.0176742169113178\n",
      "['DET', 'NOUN', 'NOUN'] ADP 0.7978236111973712\n",
      "['DET', 'NOUN', 'NOUN', 'ADP'] ADJ 0.9862845162413704\n"
     ]
    },
    {
     "name": "stderr",
     "output_type": "stream",
     "text": [
      "\n",
      " 58%|█████████████████████████████████████████████████                                   | 7/12 [01:29<01:00, 12.17s/it]\u001b[A"
     ]
    },
    {
     "name": "stdout",
     "output_type": "stream",
     "text": [
      "['DET', 'NOUN', 'NOUN', 'ADP', 'ADJ'] . 1.1302103382357858\n",
      "['DET', 'NOUN', 'NOUN', 'ADP', 'ADJ', '.']\n",
      "['DET'] ADJ 2.105399664405011\n",
      "['DET'] NOUN 0.6707314412944659\n",
      "['DET', 'NOUN'] NOUN 1.35558596810821\n",
      "['DET', 'NOUN', 'NOUN'] VERB 0.7914969252976404\n",
      "['DET', 'NOUN', 'NOUN', 'VERB'] CONJ 1.7428284060172194\n",
      "['DET', 'NOUN', 'NOUN', 'VERB', 'CONJ'] ADJ 0.9287712379549449\n",
      "['DET', 'NOUN', 'NOUN', 'VERB', 'CONJ', 'ADJ'] NOUN 2.7682734124061352\n",
      "['DET', 'NOUN', 'NOUN', 'VERB', 'CONJ'] NOUN 0.6117787378107138\n",
      "['DET', 'NOUN', 'NOUN', 'VERB', 'CONJ', 'NOUN'] NOUN 2.7682734124061352\n",
      "['DET', 'NOUN', 'NOUN', 'VERB', 'CONJ'] VERB 0.14739311883324124\n",
      "['DET', 'NOUN', 'NOUN', 'VERB', 'CONJ', 'VERB'] NOUN 0.6511484326014197\n",
      "['DET', 'NOUN', 'NOUN', 'VERB', 'CONJ', 'VERB', 'NOUN'] . 2.3728057820624016\n",
      "['DET', 'NOUN', 'NOUN', 'VERB'] X 1.415243375864182\n",
      "['DET', 'NOUN', 'NOUN', 'VERB', 'X'] ADJ 1.190839262077375\n",
      "['DET', 'NOUN', 'NOUN', 'VERB', 'X', 'ADJ'] NOUN -0.0\n"
     ]
    },
    {
     "name": "stderr",
     "output_type": "stream",
     "text": [
      "\n",
      " 67%|████████████████████████████████████████████████████████                            | 8/12 [02:02<01:15, 18.77s/it]\u001b[A"
     ]
    },
    {
     "name": "stdout",
     "output_type": "stream",
     "text": [
      "['DET', 'NOUN', 'NOUN', 'VERB', 'X', 'ADJ', 'NOUN'] . -0.0\n",
      "['DET', 'NOUN', 'NOUN', 'VERB', 'X', 'ADJ', 'NOUN', '.']\n",
      "['DET'] NOUN 0.6707314412944659\n",
      "['DET', 'NOUN'] NOUN 1.35558596810821\n",
      "['DET', 'NOUN', 'NOUN'] ADV 1.7990678508228146\n",
      "['DET', 'NOUN', 'NOUN', 'ADV'] PRON 0.89811425931702\n",
      "['DET', 'NOUN', 'NOUN', 'ADV', 'PRON'] VERB 0.018621880878296294\n",
      "['DET', 'NOUN', 'NOUN', 'ADV', 'PRON', 'VERB'] VERB 0.3869880158145604\n",
      "['DET', 'NOUN', 'NOUN', 'ADV', 'PRON', 'VERB', 'VERB'] . 2.3728057820624016\n",
      "['DET', 'NOUN', 'NOUN', 'ADV', 'PRON'] NOUN 1.0\n",
      "['DET', 'NOUN', 'NOUN', 'ADV', 'PRON', 'NOUN'] VERB 2.7682734124061352\n",
      "['DET', 'NOUN', 'NOUN', 'ADV', 'PRON'] X 3.3219280948873626\n",
      "['DET', 'NOUN', 'NOUN', 'ADV'] PRT 1.3176322355951795\n",
      "['DET', 'NOUN', 'NOUN', 'ADV', 'PRT'] VERB 0.14739311883324124\n",
      "['DET', 'NOUN', 'NOUN', 'ADV', 'PRT', 'VERB'] VERB 2.7682734124061352\n",
      "['DET', 'NOUN', 'NOUN', 'ADV', 'PRT'] NOUN 3.3219280948873626\n",
      "['DET', 'NOUN', 'NOUN', 'ADV', 'PRT'] X 3.3219280948873626\n",
      "['DET', 'NOUN'] VERB 1.2823212108167499\n",
      "['DET', 'NOUN', 'VERB'] ADV 0.9512269326928693\n",
      "['DET', 'NOUN', 'VERB', 'ADV'] PRON 1.67438670137992\n",
      "['DET', 'NOUN', 'VERB', 'ADV', 'PRON'] VERB 0.0251061764167718\n",
      "['DET', 'NOUN', 'VERB', 'ADV', 'PRON', 'VERB'] VERB 0.3562505872916559\n",
      "['DET', 'NOUN', 'VERB', 'ADV', 'PRON', 'VERB', 'VERB'] . 0.33170401355533746\n"
     ]
    },
    {
     "name": "stderr",
     "output_type": "stream",
     "text": [
      "\n",
      " 75%|███████████████████████████████████████████████████████████████                     | 9/12 [02:42<01:16, 25.40s/it]\u001b[A"
     ]
    },
    {
     "name": "stdout",
     "output_type": "stream",
     "text": [
      "['DET', 'NOUN', 'VERB', 'ADV', 'PRON', 'VERB', 'VERB', '.']\n",
      "['DET'] ADJ 2.105399664405011\n",
      "['DET'] NOUN 0.6707314412944659\n",
      "['DET', 'NOUN'] NOUN 1.35558596810821\n",
      "['DET', 'NOUN', 'NOUN'] ADJ 2.1850107873666\n",
      "['DET', 'NOUN', 'NOUN'] NOUN 0.8504628445372311\n",
      "['DET', 'NOUN', 'NOUN', 'NOUN'] NOUN 0.5511630948412821\n"
     ]
    },
    {
     "name": "stderr",
     "output_type": "stream",
     "text": [
      "\n",
      " 83%|█████████████████████████████████████████████████████████████████████▏             | 10/12 [02:49<00:39, 19.78s/it]\u001b[A"
     ]
    },
    {
     "name": "stdout",
     "output_type": "stream",
     "text": [
      "['DET', 'NOUN', 'NOUN', 'NOUN', 'NOUN'] . 0.27888317773255167\n",
      "['DET', 'NOUN', 'NOUN', 'NOUN', 'NOUN', '.']\n",
      "['ADP'] PRON 3.8435284728376686\n",
      "['ADP'] X 8.780237356495702\n",
      "['NOUN'] PRON 5.952130379420475\n",
      "['NOUN'] X 8.646521052888762\n",
      "['VERB'] PRON 4.221552366657197\n",
      "['VERB'] X 6.288073877108881\n",
      "['ADJ'] PRON 8.131334499831954\n"
     ]
    },
    {
     "name": "stderr",
     "output_type": "stream",
     "text": [
      "\n",
      " 92%|████████████████████████████████████████████████████████████████████████████       | 11/12 [02:56<00:15, 15.89s/it]\u001b[A"
     ]
    },
    {
     "name": "stdout",
     "output_type": "stream",
     "text": [
      "['ADJ'] X 9.240563569586714\n",
      "[]\n",
      "['ADP'] NOUN 1.8862377954163474\n"
     ]
    },
    {
     "name": "stderr",
     "output_type": "stream",
     "text": [
      "\n",
      "100%|███████████████████████████████████████████████████████████████████████████████████| 12/12 [02:58<00:00, 14.84s/it]\u001b[A\n",
      " 86%|██████████████████████████████████████████████████████████████████████▎           | 12/14 [38:31<06:44, 202.30s/it]"
     ]
    },
    {
     "name": "stdout",
     "output_type": "stream",
     "text": [
      "['ADV'] NOUN 4.90361231495799\n",
      "[]\n"
     ]
    },
    {
     "name": "stderr",
     "output_type": "stream",
     "text": [
      "\n",
      "  0%|                                                                                            | 0/12 [00:00<?, ?it/s]\u001b[A"
     ]
    },
    {
     "name": "stdout",
     "output_type": "stream",
     "text": [
      "['DET'] ADJ 2.105399664405011\n",
      "['DET'] NOUN 0.6707314412944659\n",
      "['DET', 'NOUN'] NOUN 1.35558596810821\n",
      "['DET', 'NOUN', 'NOUN'] DET 2.0176742169113178\n",
      "['DET', 'NOUN', 'NOUN'] ADP 0.7978236111973712\n",
      "['DET', 'NOUN', 'NOUN', 'ADP'] NOUN 0.39000403589773136\n"
     ]
    },
    {
     "name": "stderr",
     "output_type": "stream",
     "text": [
      "\n",
      "  8%|███████                                                                             | 1/12 [00:07<01:20,  7.33s/it]\u001b[A"
     ]
    },
    {
     "name": "stdout",
     "output_type": "stream",
     "text": [
      "['DET', 'NOUN', 'NOUN', 'ADP', 'NOUN'] . 0.3663204936608563\n",
      "['DET', 'NOUN', 'NOUN', 'ADP', 'NOUN', '.']\n",
      "['DET'] ADJ 2.105399664405011\n",
      "['DET'] NOUN 0.6707314412944659\n",
      "['DET', 'NOUN'] NOUN 1.35558596810821\n",
      "['DET', 'NOUN', 'NOUN'] ADJ 2.1850107873666\n",
      "['DET', 'NOUN', 'NOUN'] NOUN 0.8504628445372311\n"
     ]
    },
    {
     "name": "stderr",
     "output_type": "stream",
     "text": [
      "\n",
      " 17%|██████████████                                                                      | 2/12 [00:13<01:03,  6.40s/it]\u001b[A"
     ]
    },
    {
     "name": "stdout",
     "output_type": "stream",
     "text": [
      "['DET', 'NOUN', 'NOUN', 'NOUN'] . 0.418350116347185\n",
      "['DET', 'NOUN', 'NOUN', 'NOUN', '.']\n",
      "['ADJ'] NOUN 0.5924382999268272\n",
      "['ADJ', 'NOUN'] VERB 1.4156966328385077\n",
      "['ADJ', 'NOUN', 'VERB'] VERB 0.5855680189875377\n",
      "['ADJ', 'NOUN', 'VERB', 'VERB'] ADP 0.49963574436201486\n",
      "['ADJ', 'NOUN', 'VERB', 'VERB', 'ADP'] DET 0.22984022303869228\n",
      "['ADJ', 'NOUN', 'VERB', 'VERB', 'ADP', 'DET'] NOUN 0.10775838315733129\n",
      "['ADJ', 'NOUN', 'VERB', 'VERB', 'ADP', 'DET', 'NOUN'] . 0.30807206938285586\n"
     ]
    },
    {
     "name": "stderr",
     "output_type": "stream",
     "text": [
      "\n",
      " 25%|█████████████████████                                                               | 3/12 [00:27<01:29,  9.96s/it]\u001b[A"
     ]
    },
    {
     "name": "stdout",
     "output_type": "stream",
     "text": [
      "['ADJ', 'NOUN', 'VERB', 'VERB', 'ADP', 'DET', 'NOUN', '.']\n",
      "['DET'] NOUN 0.6707314412944659\n",
      "['DET', 'NOUN'] NOUN 1.35558596810821\n",
      "['DET', 'NOUN', 'NOUN'] VERB 0.7914969252976404\n",
      "['DET', 'NOUN', 'NOUN', 'VERB'] VERB 0.4225893275594555\n",
      "['DET', 'NOUN', 'NOUN', 'VERB', 'VERB'] ADP 0.3918056437887388\n",
      "['DET', 'NOUN', 'NOUN', 'VERB', 'VERB', 'ADP'] VERB 0.7301369639901552\n",
      "['DET', 'NOUN', 'NOUN', 'VERB', 'VERB', 'ADP', 'VERB'] ADP 0.36928035724587943\n",
      "['DET', 'NOUN', 'NOUN', 'VERB', 'VERB', 'ADP', 'VERB', 'ADP'] NOUN -0.0\n",
      "['DET', 'NOUN', 'NOUN', 'VERB', 'VERB', 'ADP', 'VERB', 'ADP', 'NOUN'] . 1.845515608270757\n"
     ]
    },
    {
     "name": "stderr",
     "output_type": "stream",
     "text": [
      "\n",
      " 33%|████████████████████████████                                                        | 4/12 [00:53<02:10, 16.29s/it]\u001b[A"
     ]
    },
    {
     "name": "stdout",
     "output_type": "stream",
     "text": [
      "['DET', 'NOUN', 'NOUN', 'VERB', 'VERB', 'ADP', 'VERB', 'ADP', 'NOUN', '.']\n",
      "['DET'] NOUN 0.6707314412944659\n",
      "['DET', 'NOUN'] NOUN 1.35558596810821\n",
      "['DET', 'NOUN', 'NOUN'] PRT 1.718923525190594\n",
      "['DET', 'NOUN', 'NOUN', 'PRT'] ADP 1.2314998546390559\n",
      "['DET', 'NOUN', 'NOUN', 'PRT', 'ADP'] NOUN 0.5813781191217038\n",
      "['DET', 'NOUN', 'NOUN', 'PRT', 'ADP', 'NOUN'] . 2.7682734124061352\n",
      "['DET', 'NOUN', 'NOUN', 'PRT'] PRT 2.2082225035411853\n",
      "['DET', 'NOUN', 'NOUN', 'PRT'] ADV 1.6277404798193449\n",
      "['DET', 'NOUN', 'NOUN', 'PRT', 'ADV'] NOUN 3.3219280948873626\n",
      "['DET', 'NOUN', 'NOUN', 'PRT'] X 4.152410118609203\n",
      "['DET', 'NOUN', 'NOUN', 'PRT'] NOUN 0.461051331848144\n",
      "['DET', 'NOUN', 'NOUN', 'PRT', 'NOUN'] NOUN 0.4068976752770581\n"
     ]
    },
    {
     "name": "stderr",
     "output_type": "stream",
     "text": [
      "\n",
      " 42%|███████████████████████████████████                                                 | 5/12 [01:12<02:01, 17.37s/it]\u001b[A"
     ]
    },
    {
     "name": "stdout",
     "output_type": "stream",
     "text": [
      "['DET', 'NOUN', 'NOUN', 'PRT', 'NOUN', 'NOUN'] . 0.19114023138821187\n",
      "['DET', 'NOUN', 'NOUN', 'PRT', 'NOUN', 'NOUN', '.']\n",
      "['PRON'] VERB 0.5663379905699087\n",
      "['PRON', 'VERB'] DET 1.4202962703373951\n",
      "['PRON', 'VERB', 'DET'] NOUN 0.22232911983417958\n",
      "['PRON', 'VERB', 'DET', 'NOUN'] VERB 0.9832954733568615\n",
      "['PRON', 'VERB', 'DET', 'NOUN', 'VERB'] ADJ 0.8101252146139937\n"
     ]
    },
    {
     "name": "stderr",
     "output_type": "stream",
     "text": [
      "\n",
      " 50%|██████████████████████████████████████████                                          | 6/12 [01:21<01:27, 14.57s/it]\u001b[A"
     ]
    },
    {
     "name": "stdout",
     "output_type": "stream",
     "text": [
      "['PRON', 'VERB', 'DET', 'NOUN', 'VERB', 'ADJ'] . 0.13455915367626736\n",
      "['PRON', 'VERB', 'DET', 'NOUN', 'VERB', 'ADJ', '.']\n",
      "['DET'] ADJ 2.105399664405011\n",
      "['DET'] NOUN 0.6707314412944659\n",
      "['DET', 'NOUN'] NOUN 1.35558596810821\n",
      "['DET', 'NOUN', 'NOUN'] DET 2.0176742169113178\n",
      "['DET', 'NOUN', 'NOUN'] ADP 0.7978236111973712\n",
      "['DET', 'NOUN', 'NOUN', 'ADP'] ADJ 0.9862845162413704\n"
     ]
    },
    {
     "name": "stderr",
     "output_type": "stream",
     "text": [
      "\n",
      " 58%|█████████████████████████████████████████████████                                   | 7/12 [01:29<01:01, 12.26s/it]\u001b[A"
     ]
    },
    {
     "name": "stdout",
     "output_type": "stream",
     "text": [
      "['DET', 'NOUN', 'NOUN', 'ADP', 'ADJ'] . 1.1302103382357858\n",
      "['DET', 'NOUN', 'NOUN', 'ADP', 'ADJ', '.']\n",
      "['DET'] ADJ 2.105399664405011\n",
      "['DET'] NOUN 0.6707314412944659\n",
      "['DET', 'NOUN'] NOUN 1.35558596810821\n",
      "['DET', 'NOUN', 'NOUN'] VERB 0.7914969252976404\n",
      "['DET', 'NOUN', 'NOUN', 'VERB'] CONJ 1.7428284060172194\n",
      "['DET', 'NOUN', 'NOUN', 'VERB', 'CONJ'] ADJ 0.9287712379549449\n",
      "['DET', 'NOUN', 'NOUN', 'VERB', 'CONJ', 'ADJ'] NOUN 2.7682734124061352\n",
      "['DET', 'NOUN', 'NOUN', 'VERB', 'CONJ'] NOUN 0.6117787378107138\n",
      "['DET', 'NOUN', 'NOUN', 'VERB', 'CONJ', 'NOUN'] NOUN 2.7682734124061352\n",
      "['DET', 'NOUN', 'NOUN', 'VERB', 'CONJ'] VERB 0.14739311883324124\n",
      "['DET', 'NOUN', 'NOUN', 'VERB', 'CONJ', 'VERB'] NOUN 0.6511484326014197\n",
      "['DET', 'NOUN', 'NOUN', 'VERB', 'CONJ', 'VERB', 'NOUN'] . 2.3728057820624016\n",
      "['DET', 'NOUN', 'NOUN', 'VERB'] X 1.415243375864182\n",
      "['DET', 'NOUN', 'NOUN', 'VERB', 'X'] ADJ 1.190839262077375\n",
      "['DET', 'NOUN', 'NOUN', 'VERB', 'X', 'ADJ'] NOUN -0.0\n",
      "['DET', 'NOUN', 'NOUN', 'VERB', 'X', 'ADJ', 'NOUN'] . -0.0\n"
     ]
    },
    {
     "name": "stderr",
     "output_type": "stream",
     "text": [
      "\n",
      " 67%|████████████████████████████████████████████████████████                            | 8/12 [02:04<01:18, 19.53s/it]\u001b[A"
     ]
    },
    {
     "name": "stdout",
     "output_type": "stream",
     "text": [
      "['DET', 'NOUN', 'NOUN', 'VERB', 'X', 'ADJ', 'NOUN', '.']\n",
      "['DET'] NOUN 0.6707314412944659\n",
      "['DET', 'NOUN'] NOUN 1.35558596810821\n",
      "['DET', 'NOUN', 'NOUN'] ADV 1.7990678508228146\n",
      "['DET', 'NOUN', 'NOUN', 'ADV'] PRON 0.89811425931702\n",
      "['DET', 'NOUN', 'NOUN', 'ADV', 'PRON'] VERB 0.018621880878296294\n",
      "['DET', 'NOUN', 'NOUN', 'ADV', 'PRON', 'VERB'] VERB 0.3869880158145604\n",
      "['DET', 'NOUN', 'NOUN', 'ADV', 'PRON', 'VERB', 'VERB'] . 2.3728057820624016\n",
      "['DET', 'NOUN', 'NOUN', 'ADV', 'PRON'] NOUN 1.0\n",
      "['DET', 'NOUN', 'NOUN', 'ADV', 'PRON', 'NOUN'] VERB 2.7682734124061352\n",
      "['DET', 'NOUN', 'NOUN', 'ADV', 'PRON'] X 3.3219280948873626\n",
      "['DET', 'NOUN', 'NOUN', 'ADV'] PRT 1.3176322355951795\n",
      "['DET', 'NOUN', 'NOUN', 'ADV', 'PRT'] VERB 0.14739311883324124\n",
      "['DET', 'NOUN', 'NOUN', 'ADV', 'PRT', 'VERB'] VERB 2.7682734124061352\n",
      "['DET', 'NOUN', 'NOUN', 'ADV', 'PRT'] NOUN 3.3219280948873626\n",
      "['DET', 'NOUN', 'NOUN', 'ADV', 'PRT'] X 3.3219280948873626\n",
      "['DET', 'NOUN'] VERB 1.2823212108167499\n",
      "['DET', 'NOUN', 'VERB'] ADV 0.9512269326928693\n",
      "['DET', 'NOUN', 'VERB', 'ADV'] PRON 1.67438670137992\n",
      "['DET', 'NOUN', 'VERB', 'ADV', 'PRON'] VERB 0.0251061764167718\n",
      "['DET', 'NOUN', 'VERB', 'ADV', 'PRON', 'VERB'] VERB 0.3562505872916559\n",
      "['DET', 'NOUN', 'VERB', 'ADV', 'PRON', 'VERB', 'VERB'] . 0.33170401355533746\n"
     ]
    },
    {
     "name": "stderr",
     "output_type": "stream",
     "text": [
      "\n",
      " 75%|███████████████████████████████████████████████████████████████                     | 9/12 [02:48<01:21, 27.18s/it]\u001b[A"
     ]
    },
    {
     "name": "stdout",
     "output_type": "stream",
     "text": [
      "['DET', 'NOUN', 'VERB', 'ADV', 'PRON', 'VERB', 'VERB', '.']\n",
      "['DET'] ADJ 2.105399664405011\n",
      "['DET'] NOUN 0.6707314412944659\n",
      "['DET', 'NOUN'] NOUN 1.35558596810821\n",
      "['DET', 'NOUN', 'NOUN'] ADJ 2.1850107873666\n",
      "['DET', 'NOUN', 'NOUN'] NOUN 0.8504628445372311\n",
      "['DET', 'NOUN', 'NOUN', 'NOUN'] NOUN 0.5511630948412821\n"
     ]
    },
    {
     "name": "stderr",
     "output_type": "stream",
     "text": [
      "\n",
      " 83%|█████████████████████████████████████████████████████████████████████▏             | 10/12 [02:56<00:42, 21.29s/it]\u001b[A"
     ]
    },
    {
     "name": "stdout",
     "output_type": "stream",
     "text": [
      "['DET', 'NOUN', 'NOUN', 'NOUN', 'NOUN'] . 0.27888317773255167\n",
      "['DET', 'NOUN', 'NOUN', 'NOUN', 'NOUN', '.']\n",
      "['ADP'] PRON 3.8435284728376686\n",
      "['ADP'] X 8.780237356495702\n",
      "['NOUN'] PRON 5.952130379420475\n",
      "['NOUN'] X 8.646521052888762\n",
      "['VERB'] PRON 4.221552366657197\n",
      "['VERB'] X 6.288073877108881\n",
      "['ADJ'] PRON 8.131334499831954\n"
     ]
    },
    {
     "name": "stderr",
     "output_type": "stream",
     "text": [
      "\n",
      " 92%|████████████████████████████████████████████████████████████████████████████       | 11/12 [03:03<00:17, 17.04s/it]\u001b[A"
     ]
    },
    {
     "name": "stdout",
     "output_type": "stream",
     "text": [
      "['ADJ'] X 9.240563569586714\n",
      "[]\n",
      "['ADP'] NOUN 1.8862377954163474\n",
      "['ADP', 'NOUN'] ADV 2.8330772918539306\n"
     ]
    },
    {
     "name": "stderr",
     "output_type": "stream",
     "text": [
      "\n",
      "100%|███████████████████████████████████████████████████████████████████████████████████| 12/12 [03:06<00:00, 15.55s/it]\u001b[A\n",
      " 93%|████████████████████████████████████████████████████████████████████████████▏     | 13/14 [41:37<03:17, 197.54s/it]"
     ]
    },
    {
     "name": "stdout",
     "output_type": "stream",
     "text": [
      "['ADV'] NOUN 4.90361231495799\n",
      "[]\n"
     ]
    },
    {
     "name": "stderr",
     "output_type": "stream",
     "text": [
      "\n",
      "  0%|                                                                                            | 0/12 [00:00<?, ?it/s]\u001b[A"
     ]
    },
    {
     "name": "stdout",
     "output_type": "stream",
     "text": [
      "['DET'] ADJ 2.105399664405011\n",
      "['DET'] NOUN 0.6707314412944659\n",
      "['DET', 'NOUN'] NOUN 1.35558596810821\n",
      "['DET', 'NOUN', 'NOUN'] DET 2.0176742169113178\n",
      "['DET', 'NOUN', 'NOUN'] ADP 0.7978236111973712\n",
      "['DET', 'NOUN', 'NOUN', 'ADP'] NOUN 0.39000403589773136\n"
     ]
    },
    {
     "name": "stderr",
     "output_type": "stream",
     "text": [
      "\n",
      "  8%|███████                                                                             | 1/12 [00:07<01:27,  7.93s/it]\u001b[A"
     ]
    },
    {
     "name": "stdout",
     "output_type": "stream",
     "text": [
      "['DET', 'NOUN', 'NOUN', 'ADP', 'NOUN'] . 0.3663204936608563\n",
      "['DET', 'NOUN', 'NOUN', 'ADP', 'NOUN', '.']\n",
      "['DET'] ADJ 2.105399664405011\n",
      "['DET'] NOUN 0.6707314412944659\n",
      "['DET', 'NOUN'] NOUN 1.35558596810821\n",
      "['DET', 'NOUN', 'NOUN'] ADJ 2.1850107873666\n",
      "['DET', 'NOUN', 'NOUN'] NOUN 0.8504628445372311\n"
     ]
    },
    {
     "name": "stderr",
     "output_type": "stream",
     "text": [
      "\n",
      " 17%|██████████████                                                                      | 2/12 [00:13<01:07,  6.74s/it]\u001b[A"
     ]
    },
    {
     "name": "stdout",
     "output_type": "stream",
     "text": [
      "['DET', 'NOUN', 'NOUN', 'NOUN'] . 0.418350116347185\n",
      "['DET', 'NOUN', 'NOUN', 'NOUN', '.']\n",
      "['ADJ'] NOUN 0.5924382999268272\n",
      "['ADJ', 'NOUN'] VERB 1.4156966328385077\n",
      "['ADJ', 'NOUN', 'VERB'] VERB 0.5855680189875377\n",
      "['ADJ', 'NOUN', 'VERB', 'VERB'] ADP 0.49963574436201486\n",
      "['ADJ', 'NOUN', 'VERB', 'VERB', 'ADP'] DET 0.22984022303869228\n",
      "['ADJ', 'NOUN', 'VERB', 'VERB', 'ADP', 'DET'] NOUN 0.10775838315733129\n",
      "['ADJ', 'NOUN', 'VERB', 'VERB', 'ADP', 'DET', 'NOUN'] . 0.30807206938285586\n"
     ]
    },
    {
     "name": "stderr",
     "output_type": "stream",
     "text": [
      "\n",
      " 25%|█████████████████████                                                               | 3/12 [00:27<01:27,  9.76s/it]\u001b[A"
     ]
    },
    {
     "name": "stdout",
     "output_type": "stream",
     "text": [
      "['ADJ', 'NOUN', 'VERB', 'VERB', 'ADP', 'DET', 'NOUN', '.']\n",
      "['DET'] NOUN 0.6707314412944659\n",
      "['DET', 'NOUN'] NOUN 1.35558596810821\n",
      "['DET', 'NOUN', 'NOUN'] VERB 0.7914969252976404\n",
      "['DET', 'NOUN', 'NOUN', 'VERB'] VERB 0.4225893275594555\n",
      "['DET', 'NOUN', 'NOUN', 'VERB', 'VERB'] ADP 0.3918056437887388\n",
      "['DET', 'NOUN', 'NOUN', 'VERB', 'VERB', 'ADP'] VERB 0.7301369639901552\n",
      "['DET', 'NOUN', 'NOUN', 'VERB', 'VERB', 'ADP', 'VERB'] ADP 0.36928035724587943\n",
      "['DET', 'NOUN', 'NOUN', 'VERB', 'VERB', 'ADP', 'VERB', 'ADP'] NOUN -0.0\n",
      "['DET', 'NOUN', 'NOUN', 'VERB', 'VERB', 'ADP', 'VERB', 'ADP', 'NOUN'] . 1.845515608270757\n"
     ]
    },
    {
     "name": "stderr",
     "output_type": "stream",
     "text": [
      "\n",
      " 33%|████████████████████████████                                                        | 4/12 [00:52<02:08, 16.06s/it]\u001b[A"
     ]
    },
    {
     "name": "stdout",
     "output_type": "stream",
     "text": [
      "['DET', 'NOUN', 'NOUN', 'VERB', 'VERB', 'ADP', 'VERB', 'ADP', 'NOUN', '.']\n",
      "['DET'] NOUN 0.6707314412944659\n",
      "['DET', 'NOUN'] NOUN 1.35558596810821\n",
      "['DET', 'NOUN', 'NOUN'] PRT 1.718923525190594\n",
      "['DET', 'NOUN', 'NOUN', 'PRT'] ADP 1.2314998546390559\n",
      "['DET', 'NOUN', 'NOUN', 'PRT', 'ADP'] NOUN 0.5813781191217038\n",
      "['DET', 'NOUN', 'NOUN', 'PRT', 'ADP', 'NOUN'] . 2.7682734124061352\n",
      "['DET', 'NOUN', 'NOUN', 'PRT'] PRT 2.2082225035411853\n",
      "['DET', 'NOUN', 'NOUN', 'PRT'] ADV 1.6277404798193449\n",
      "['DET', 'NOUN', 'NOUN', 'PRT', 'ADV'] NOUN 3.3219280948873626\n",
      "['DET', 'NOUN', 'NOUN', 'PRT'] X 4.152410118609203\n",
      "['DET', 'NOUN', 'NOUN', 'PRT'] NOUN 0.461051331848144\n",
      "['DET', 'NOUN', 'NOUN', 'PRT', 'NOUN'] NOUN 0.4068976752770581\n"
     ]
    },
    {
     "name": "stderr",
     "output_type": "stream",
     "text": [
      "\n"
     ]
    },
    {
     "name": "stdout",
     "output_type": "stream",
     "text": [
      "['DET', 'NOUN', 'NOUN', 'PRT', 'NOUN', 'NOUN'] . 0.19114023138821187\n",
      "['DET', 'NOUN', 'NOUN', 'PRT', 'NOUN', 'NOUN', '.']\n"
     ]
    },
    {
     "name": "stderr",
     "output_type": "stream",
     "text": [
      " 42%|███████████████████████████████████                                                 | 5/12 [01:13<02:03, 17.66s/it]\u001b[A"
     ]
    },
    {
     "name": "stdout",
     "output_type": "stream",
     "text": [
      "['PRON'] VERB 0.5663379905699087\n",
      "['PRON', 'VERB'] DET 1.4202962703373951\n",
      "['PRON', 'VERB', 'DET'] NOUN 0.22232911983417958\n",
      "['PRON', 'VERB', 'DET', 'NOUN'] VERB 0.9832954733568615\n",
      "['PRON', 'VERB', 'DET', 'NOUN', 'VERB'] ADJ 0.8101252146139937\n"
     ]
    },
    {
     "name": "stderr",
     "output_type": "stream",
     "text": [
      "\n",
      " 50%|██████████████████████████████████████████                                          | 6/12 [01:22<01:28, 14.75s/it]\u001b[A"
     ]
    },
    {
     "name": "stdout",
     "output_type": "stream",
     "text": [
      "['PRON', 'VERB', 'DET', 'NOUN', 'VERB', 'ADJ'] . 0.13455915367626736\n",
      "['PRON', 'VERB', 'DET', 'NOUN', 'VERB', 'ADJ', '.']\n",
      "['DET'] ADJ 2.105399664405011\n",
      "['DET'] NOUN 0.6707314412944659\n",
      "['DET', 'NOUN'] NOUN 1.35558596810821\n",
      "['DET', 'NOUN', 'NOUN'] DET 2.0176742169113178\n",
      "['DET', 'NOUN', 'NOUN'] ADP 0.7978236111973712\n",
      "['DET', 'NOUN', 'NOUN', 'ADP'] ADJ 0.9862845162413704\n"
     ]
    },
    {
     "name": "stderr",
     "output_type": "stream",
     "text": [
      "\n",
      " 58%|█████████████████████████████████████████████████                                   | 7/12 [01:30<01:02, 12.53s/it]\u001b[A"
     ]
    },
    {
     "name": "stdout",
     "output_type": "stream",
     "text": [
      "['DET', 'NOUN', 'NOUN', 'ADP', 'ADJ'] . 1.1302103382357858\n",
      "['DET', 'NOUN', 'NOUN', 'ADP', 'ADJ', '.']\n",
      "['DET'] ADJ 2.105399664405011\n",
      "['DET'] NOUN 0.6707314412944659\n",
      "['DET', 'NOUN'] NOUN 1.35558596810821\n",
      "['DET', 'NOUN', 'NOUN'] VERB 0.7914969252976404\n",
      "['DET', 'NOUN', 'NOUN', 'VERB'] CONJ 1.7428284060172194\n",
      "['DET', 'NOUN', 'NOUN', 'VERB', 'CONJ'] ADJ 0.9287712379549449\n",
      "['DET', 'NOUN', 'NOUN', 'VERB', 'CONJ', 'ADJ'] NOUN 2.7682734124061352\n",
      "['DET', 'NOUN', 'NOUN', 'VERB', 'CONJ'] NOUN 0.6117787378107138\n",
      "['DET', 'NOUN', 'NOUN', 'VERB', 'CONJ', 'NOUN'] NOUN 2.7682734124061352\n",
      "['DET', 'NOUN', 'NOUN', 'VERB', 'CONJ'] VERB 0.14739311883324124\n",
      "['DET', 'NOUN', 'NOUN', 'VERB', 'CONJ', 'VERB'] NOUN 0.6511484326014197\n",
      "['DET', 'NOUN', 'NOUN', 'VERB', 'CONJ', 'VERB', 'NOUN'] . 2.3728057820624016\n",
      "['DET', 'NOUN', 'NOUN', 'VERB'] X 1.415243375864182\n",
      "['DET', 'NOUN', 'NOUN', 'VERB', 'X'] ADJ 1.190839262077375\n",
      "['DET', 'NOUN', 'NOUN', 'VERB', 'X', 'ADJ'] NOUN -0.0\n",
      "['DET', 'NOUN', 'NOUN', 'VERB', 'X', 'ADJ', 'NOUN'] . -0.0\n"
     ]
    },
    {
     "name": "stderr",
     "output_type": "stream",
     "text": [
      "\n",
      " 67%|████████████████████████████████████████████████████████                            | 8/12 [02:05<01:18, 19.55s/it]\u001b[A"
     ]
    },
    {
     "name": "stdout",
     "output_type": "stream",
     "text": [
      "['DET', 'NOUN', 'NOUN', 'VERB', 'X', 'ADJ', 'NOUN', '.']\n",
      "['DET'] NOUN 0.6707314412944659\n",
      "['DET', 'NOUN'] NOUN 1.35558596810821\n",
      "['DET', 'NOUN', 'NOUN'] ADV 1.7990678508228146\n",
      "['DET', 'NOUN', 'NOUN', 'ADV'] PRON 0.89811425931702\n",
      "['DET', 'NOUN', 'NOUN', 'ADV', 'PRON'] VERB 0.018621880878296294\n",
      "['DET', 'NOUN', 'NOUN', 'ADV', 'PRON', 'VERB'] VERB 0.3869880158145604\n",
      "['DET', 'NOUN', 'NOUN', 'ADV', 'PRON', 'VERB', 'VERB'] . 2.3728057820624016\n",
      "['DET', 'NOUN', 'NOUN', 'ADV', 'PRON'] NOUN 1.0\n",
      "['DET', 'NOUN', 'NOUN', 'ADV', 'PRON', 'NOUN'] VERB 2.7682734124061352\n",
      "['DET', 'NOUN', 'NOUN', 'ADV', 'PRON'] X 3.3219280948873626\n",
      "['DET', 'NOUN', 'NOUN', 'ADV'] PRT 1.3176322355951795\n",
      "['DET', 'NOUN', 'NOUN', 'ADV', 'PRT'] VERB 0.14739311883324124\n",
      "['DET', 'NOUN', 'NOUN', 'ADV', 'PRT', 'VERB'] VERB 2.7682734124061352\n",
      "['DET', 'NOUN', 'NOUN', 'ADV', 'PRT'] NOUN 3.3219280948873626\n",
      "['DET', 'NOUN', 'NOUN', 'ADV', 'PRT'] X 3.3219280948873626\n",
      "['DET', 'NOUN'] VERB 1.2823212108167499\n",
      "['DET', 'NOUN', 'VERB'] ADV 0.9512269326928693\n",
      "['DET', 'NOUN', 'VERB', 'ADV'] PRON 1.67438670137992\n",
      "['DET', 'NOUN', 'VERB', 'ADV', 'PRON'] VERB 0.0251061764167718\n",
      "['DET', 'NOUN', 'VERB', 'ADV', 'PRON', 'VERB'] VERB 0.3562505872916559\n"
     ]
    },
    {
     "name": "stderr",
     "output_type": "stream",
     "text": [
      "\n",
      " 75%|███████████████████████████████████████████████████████████████                     | 9/12 [02:45<01:18, 26.03s/it]\u001b[A"
     ]
    },
    {
     "name": "stdout",
     "output_type": "stream",
     "text": [
      "['DET', 'NOUN', 'VERB', 'ADV', 'PRON', 'VERB', 'VERB'] . 0.33170401355533746\n",
      "['DET', 'NOUN', 'VERB', 'ADV', 'PRON', 'VERB', 'VERB', '.']\n",
      "['DET'] ADJ 2.105399664405011\n",
      "['DET'] NOUN 0.6707314412944659\n",
      "['DET', 'NOUN'] NOUN 1.35558596810821\n",
      "['DET', 'NOUN', 'NOUN'] ADJ 2.1850107873666\n",
      "['DET', 'NOUN', 'NOUN'] NOUN 0.8504628445372311\n",
      "['DET', 'NOUN', 'NOUN', 'NOUN'] NOUN 0.5511630948412821\n"
     ]
    },
    {
     "name": "stderr",
     "output_type": "stream",
     "text": [
      "\n",
      " 83%|█████████████████████████████████████████████████████████████████████▏             | 10/12 [02:53<00:40, 20.40s/it]\u001b[A"
     ]
    },
    {
     "name": "stdout",
     "output_type": "stream",
     "text": [
      "['DET', 'NOUN', 'NOUN', 'NOUN', 'NOUN'] . 0.27888317773255167\n",
      "['DET', 'NOUN', 'NOUN', 'NOUN', 'NOUN', '.']\n",
      "['ADP'] PRON 3.8435284728376686\n",
      "['ADP'] X 8.780237356495702\n",
      "['NOUN'] PRON 5.952130379420475\n",
      "['NOUN'] X 8.646521052888762\n",
      "['VERB'] PRON 4.221552366657197\n",
      "['VERB'] X 6.288073877108881\n",
      "['ADJ'] PRON 8.131334499831954\n"
     ]
    },
    {
     "name": "stderr",
     "output_type": "stream",
     "text": [
      "\n",
      " 92%|████████████████████████████████████████████████████████████████████████████       | 11/12 [03:00<00:16, 16.38s/it]\u001b[A"
     ]
    },
    {
     "name": "stdout",
     "output_type": "stream",
     "text": [
      "['ADJ'] X 9.240563569586714\n",
      "[]\n",
      "['ADP'] NOUN 1.8862377954163474\n",
      "['ADP', 'NOUN'] ADV 2.8330772918539306\n"
     ]
    },
    {
     "name": "stderr",
     "output_type": "stream",
     "text": [
      "\n",
      "100%|███████████████████████████████████████████████████████████████████████████████████| 12/12 [03:03<00:00, 15.26s/it]\u001b[A\n",
      "100%|██████████████████████████████████████████████████████████████████████████████████| 14/14 [44:41<00:00, 191.51s/it]"
     ]
    },
    {
     "name": "stdout",
     "output_type": "stream",
     "text": [
      "['ADV'] NOUN 4.90361231495799\n",
      "[]\n"
     ]
    },
    {
     "name": "stderr",
     "output_type": "stream",
     "text": [
      "\n"
     ]
    }
   ],
   "source": [
    "f = open('data/data_garden.txt')\n",
    "lines = f.readlines()[:12]\n",
    "data = []\n",
    "for line in lines:\n",
    "    tokens = line.split()\n",
    "    tokens =  [t.lower() for t in tokens]\n",
    "    data.append(tokens)\n",
    "    \n",
    "f_out = open('data/labels_garden.txt')\n",
    "lines_out = f_out.readlines()[:12]\n",
    "labels = []\n",
    "for line in lines_out:\n",
    "    tokens = line.split()\n",
    "    labels.append(tokens)\n",
    "\n",
    "sup_range = np.arange(1.3, 2, 0.05)\n",
    "dct = {}\n",
    "for num in tqdm(sup_range):\n",
    "    pred = backtrack_model(data, num)\n",
    "    acc = accuracy(pred, labels)\n",
    "    dct[num] = (np.mean(acc), acc)"
   ]
  },
  {
   "cell_type": "code",
   "execution_count": 67,
   "id": "351c879b",
   "metadata": {},
   "outputs": [
    {
     "data": {
      "text/plain": [
       "Text(0, 0.5, 'accuracy')"
      ]
     },
     "execution_count": 67,
     "metadata": {},
     "output_type": "execute_result"
    },
    {
     "data": {
      "image/png": "[encoded data removed]",
      "text/plain": [
       "<Figure size 1000x1000 with 1 Axes>"
      ]
     },
     "metadata": {},
     "output_type": "display_data"
    }
   ],
   "source": [
    "# Plot accuracy values\n",
    "fig = plt.figure(figsize=(10,10))\n",
    "t = np.arange(12)\n",
    "colors = ['royalblue', 'midnightblue', 'mediumblue', 'slateblue', 'rebeccapurple', 'blueviolet', 'indigo',\n",
    "         'mediumorchid', 'violet', 'purple', 'mediumvioletred', 'deeppink']\n",
    "for i in t:\n",
    "    acc = []\n",
    "    for num in dct:\n",
    "        acc.append(dct[num][1][i])\n",
    "    x = [n - (0.001 * i) for n in sup_range]\n",
    "    plt.scatter(x, acc, color=colors[i], s=10)\n",
    "#     plt.scatter([num] * len(dct[num][1]), dct[num][1], c=t, cmap=\"viridis\")\n",
    "\n",
    "# Plot means\n",
    "means = [dct[num][0] for num in dct]\n",
    "nums = dct.keys()\n",
    "\n",
    "plt.plot(nums, means, color='green')\n",
    "plt.xticks(sup_range)\n",
    "plt.xlabel(\"suprisal threshold\")\n",
    "plt.ylabel(\"accuracy\")"
   ]
  },
  {
   "cell_type": "code",
   "execution_count": null,
   "id": "acd2d51b",
   "metadata": {},
   "outputs": [],
   "source": [
    "# set range for the surprisal values allowed\n",
    "# find the value that generates minimal error (grid/line search)\n",
    "# use normalized suprisal / div by number of elements"
   ]
  },
  {
   "cell_type": "code",
   "execution_count": null,
   "id": "14b8e0d2",
   "metadata": {},
   "outputs": [],
   "source": [
    "pred = backtrack_model(data, 1.42)\n",
    "acc = accuracy(pred, labels)"
   ]
  },
  {
   "cell_type": "code",
   "execution_count": null,
   "id": "d98f2c92",
   "metadata": {},
   "outputs": [],
   "source": []
  }
 ],
 "metadata": {
  "kernelspec": {
   "display_name": "Python 3 (ipykernel)",
   "language": "python",
   "name": "python3"
  },
  "language_info": {
   "codemirror_mode": {
    "name": "ipython",
    "version": 3
   },
   "file_extension": ".py",
   "mimetype": "text/x-python",
   "name": "python",
   "nbconvert_exporter": "python",
   "pygments_lexer": "ipython3",
   "version": "3.10.8"
  }
 },
 "nbformat": 4,
 "nbformat_minor": 5
}
